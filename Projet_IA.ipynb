{
 "cells": [
  {
   "cell_type": "code",
   "execution_count": null,
   "metadata": {
    "id": "EyEy2ymqpPbZ"
   },
   "outputs": [],
   "source": []
  },
  {
   "cell_type": "code",
   "execution_count": 1,
   "metadata": {
    "colab": {
     "base_uri": "https://localhost:8080/",
     "height": 327
    },
    "id": "ypWUxFhRpEB9",
    "outputId": "371962b2-7991-4cf6-c564-3c8598163158"
   },
   "outputs": [
    {
     "data": {
      "text/html": [
       "<div>\n",
       "<style scoped>\n",
       "    .dataframe tbody tr th:only-of-type {\n",
       "        vertical-align: middle;\n",
       "    }\n",
       "\n",
       "    .dataframe tbody tr th {\n",
       "        vertical-align: top;\n",
       "    }\n",
       "\n",
       "    .dataframe thead th {\n",
       "        text-align: right;\n",
       "    }\n",
       "</style>\n",
       "<table border=\"1\" class=\"dataframe\">\n",
       "  <thead>\n",
       "    <tr style=\"text-align: right;\">\n",
       "      <th></th>\n",
       "      <th>Name</th>\n",
       "      <th>Platform</th>\n",
       "      <th>Year_of_Release</th>\n",
       "      <th>Genre</th>\n",
       "      <th>Publisher</th>\n",
       "      <th>NA_Sales</th>\n",
       "      <th>EU_Sales</th>\n",
       "      <th>JP_Sales</th>\n",
       "      <th>Other_Sales</th>\n",
       "      <th>Global_Sales</th>\n",
       "      <th>Critic_Score</th>\n",
       "      <th>Critic_Count</th>\n",
       "      <th>User_Score</th>\n",
       "      <th>User_Count</th>\n",
       "      <th>Developer</th>\n",
       "      <th>Rating</th>\n",
       "    </tr>\n",
       "  </thead>\n",
       "  <tbody>\n",
       "    <tr>\n",
       "      <th>0</th>\n",
       "      <td>Wii Sports</td>\n",
       "      <td>Wii</td>\n",
       "      <td>2006.0</td>\n",
       "      <td>Sports</td>\n",
       "      <td>Nintendo</td>\n",
       "      <td>41.36</td>\n",
       "      <td>28.96</td>\n",
       "      <td>3.77</td>\n",
       "      <td>8.45</td>\n",
       "      <td>82.53</td>\n",
       "      <td>76.0</td>\n",
       "      <td>51.0</td>\n",
       "      <td>8.0</td>\n",
       "      <td>322.0</td>\n",
       "      <td>Nintendo</td>\n",
       "      <td>E</td>\n",
       "    </tr>\n",
       "    <tr>\n",
       "      <th>1</th>\n",
       "      <td>Super Mario Bros.</td>\n",
       "      <td>NES</td>\n",
       "      <td>1985.0</td>\n",
       "      <td>Platform</td>\n",
       "      <td>Nintendo</td>\n",
       "      <td>29.08</td>\n",
       "      <td>3.58</td>\n",
       "      <td>6.81</td>\n",
       "      <td>0.77</td>\n",
       "      <td>40.24</td>\n",
       "      <td>NaN</td>\n",
       "      <td>NaN</td>\n",
       "      <td>NaN</td>\n",
       "      <td>NaN</td>\n",
       "      <td>NaN</td>\n",
       "      <td>NaN</td>\n",
       "    </tr>\n",
       "    <tr>\n",
       "      <th>2</th>\n",
       "      <td>Mario Kart Wii</td>\n",
       "      <td>Wii</td>\n",
       "      <td>2008.0</td>\n",
       "      <td>Racing</td>\n",
       "      <td>Nintendo</td>\n",
       "      <td>15.68</td>\n",
       "      <td>12.76</td>\n",
       "      <td>3.79</td>\n",
       "      <td>3.29</td>\n",
       "      <td>35.52</td>\n",
       "      <td>82.0</td>\n",
       "      <td>73.0</td>\n",
       "      <td>8.3</td>\n",
       "      <td>709.0</td>\n",
       "      <td>Nintendo</td>\n",
       "      <td>E</td>\n",
       "    </tr>\n",
       "    <tr>\n",
       "      <th>3</th>\n",
       "      <td>Wii Sports Resort</td>\n",
       "      <td>Wii</td>\n",
       "      <td>2009.0</td>\n",
       "      <td>Sports</td>\n",
       "      <td>Nintendo</td>\n",
       "      <td>15.61</td>\n",
       "      <td>10.93</td>\n",
       "      <td>3.28</td>\n",
       "      <td>2.95</td>\n",
       "      <td>32.77</td>\n",
       "      <td>80.0</td>\n",
       "      <td>73.0</td>\n",
       "      <td>8.0</td>\n",
       "      <td>192.0</td>\n",
       "      <td>Nintendo</td>\n",
       "      <td>E</td>\n",
       "    </tr>\n",
       "    <tr>\n",
       "      <th>4</th>\n",
       "      <td>Pokemon Red/Pokemon Blue</td>\n",
       "      <td>GB</td>\n",
       "      <td>1996.0</td>\n",
       "      <td>Role-Playing</td>\n",
       "      <td>Nintendo</td>\n",
       "      <td>11.27</td>\n",
       "      <td>8.89</td>\n",
       "      <td>10.22</td>\n",
       "      <td>1.00</td>\n",
       "      <td>31.37</td>\n",
       "      <td>NaN</td>\n",
       "      <td>NaN</td>\n",
       "      <td>NaN</td>\n",
       "      <td>NaN</td>\n",
       "      <td>NaN</td>\n",
       "      <td>NaN</td>\n",
       "    </tr>\n",
       "    <tr>\n",
       "      <th>5</th>\n",
       "      <td>Tetris</td>\n",
       "      <td>GB</td>\n",
       "      <td>1989.0</td>\n",
       "      <td>Puzzle</td>\n",
       "      <td>Nintendo</td>\n",
       "      <td>23.20</td>\n",
       "      <td>2.26</td>\n",
       "      <td>4.22</td>\n",
       "      <td>0.58</td>\n",
       "      <td>30.26</td>\n",
       "      <td>NaN</td>\n",
       "      <td>NaN</td>\n",
       "      <td>NaN</td>\n",
       "      <td>NaN</td>\n",
       "      <td>NaN</td>\n",
       "      <td>NaN</td>\n",
       "    </tr>\n",
       "  </tbody>\n",
       "</table>\n",
       "</div>"
      ],
      "text/plain": [
       "                       Name Platform  Year_of_Release         Genre Publisher  \\\n",
       "0                Wii Sports      Wii           2006.0        Sports  Nintendo   \n",
       "1         Super Mario Bros.      NES           1985.0      Platform  Nintendo   \n",
       "2            Mario Kart Wii      Wii           2008.0        Racing  Nintendo   \n",
       "3         Wii Sports Resort      Wii           2009.0        Sports  Nintendo   \n",
       "4  Pokemon Red/Pokemon Blue       GB           1996.0  Role-Playing  Nintendo   \n",
       "5                    Tetris       GB           1989.0        Puzzle  Nintendo   \n",
       "\n",
       "   NA_Sales  EU_Sales  JP_Sales  Other_Sales  Global_Sales  Critic_Score  \\\n",
       "0     41.36     28.96      3.77         8.45         82.53          76.0   \n",
       "1     29.08      3.58      6.81         0.77         40.24           NaN   \n",
       "2     15.68     12.76      3.79         3.29         35.52          82.0   \n",
       "3     15.61     10.93      3.28         2.95         32.77          80.0   \n",
       "4     11.27      8.89     10.22         1.00         31.37           NaN   \n",
       "5     23.20      2.26      4.22         0.58         30.26           NaN   \n",
       "\n",
       "   Critic_Count  User_Score  User_Count Developer Rating  \n",
       "0          51.0         8.0       322.0  Nintendo      E  \n",
       "1           NaN         NaN         NaN       NaN    NaN  \n",
       "2          73.0         8.3       709.0  Nintendo      E  \n",
       "3          73.0         8.0       192.0  Nintendo      E  \n",
       "4           NaN         NaN         NaN       NaN    NaN  \n",
       "5           NaN         NaN         NaN       NaN    NaN  "
      ]
     },
     "execution_count": 1,
     "metadata": {},
     "output_type": "execute_result"
    }
   ],
   "source": [
    "import pandas as pd\n",
    "import joblib\n",
    "games = pd.read_csv('vgchartz-22_12_2016.csv')\n",
    "games.head(6)"
   ]
  },
  {
   "cell_type": "code",
   "execution_count": 2,
   "metadata": {
    "colab": {
     "base_uri": "https://localhost:8080/",
     "height": 320
    },
    "id": "D9hm5dgZqYS2",
    "outputId": "d6bad681-d471-4f73-eb38-82a4612d30e0"
   },
   "outputs": [
    {
     "data": {
      "text/html": [
       "<div>\n",
       "<style scoped>\n",
       "    .dataframe tbody tr th:only-of-type {\n",
       "        vertical-align: middle;\n",
       "    }\n",
       "\n",
       "    .dataframe tbody tr th {\n",
       "        vertical-align: top;\n",
       "    }\n",
       "\n",
       "    .dataframe thead th {\n",
       "        text-align: right;\n",
       "    }\n",
       "</style>\n",
       "<table border=\"1\" class=\"dataframe\">\n",
       "  <thead>\n",
       "    <tr style=\"text-align: right;\">\n",
       "      <th></th>\n",
       "      <th>Year_of_Release</th>\n",
       "      <th>NA_Sales</th>\n",
       "      <th>EU_Sales</th>\n",
       "      <th>JP_Sales</th>\n",
       "      <th>Other_Sales</th>\n",
       "      <th>Global_Sales</th>\n",
       "      <th>Critic_Score</th>\n",
       "      <th>Critic_Count</th>\n",
       "      <th>User_Score</th>\n",
       "      <th>User_Count</th>\n",
       "    </tr>\n",
       "  </thead>\n",
       "  <tbody>\n",
       "    <tr>\n",
       "      <th>count</th>\n",
       "      <td>16450.000000</td>\n",
       "      <td>16719.000000</td>\n",
       "      <td>16719.000000</td>\n",
       "      <td>16719.000000</td>\n",
       "      <td>16719.000000</td>\n",
       "      <td>16719.000000</td>\n",
       "      <td>8137.000000</td>\n",
       "      <td>8137.000000</td>\n",
       "      <td>7590.000000</td>\n",
       "      <td>7590.000000</td>\n",
       "    </tr>\n",
       "    <tr>\n",
       "      <th>mean</th>\n",
       "      <td>2006.487356</td>\n",
       "      <td>0.263330</td>\n",
       "      <td>0.145025</td>\n",
       "      <td>0.077602</td>\n",
       "      <td>0.047332</td>\n",
       "      <td>0.533543</td>\n",
       "      <td>68.967679</td>\n",
       "      <td>26.360821</td>\n",
       "      <td>7.125046</td>\n",
       "      <td>162.229908</td>\n",
       "    </tr>\n",
       "    <tr>\n",
       "      <th>std</th>\n",
       "      <td>5.878995</td>\n",
       "      <td>0.813514</td>\n",
       "      <td>0.503283</td>\n",
       "      <td>0.308818</td>\n",
       "      <td>0.186710</td>\n",
       "      <td>1.547935</td>\n",
       "      <td>13.938165</td>\n",
       "      <td>18.980495</td>\n",
       "      <td>1.500006</td>\n",
       "      <td>561.282326</td>\n",
       "    </tr>\n",
       "    <tr>\n",
       "      <th>min</th>\n",
       "      <td>1980.000000</td>\n",
       "      <td>0.000000</td>\n",
       "      <td>0.000000</td>\n",
       "      <td>0.000000</td>\n",
       "      <td>0.000000</td>\n",
       "      <td>0.010000</td>\n",
       "      <td>13.000000</td>\n",
       "      <td>3.000000</td>\n",
       "      <td>0.000000</td>\n",
       "      <td>4.000000</td>\n",
       "    </tr>\n",
       "    <tr>\n",
       "      <th>25%</th>\n",
       "      <td>2003.000000</td>\n",
       "      <td>0.000000</td>\n",
       "      <td>0.000000</td>\n",
       "      <td>0.000000</td>\n",
       "      <td>0.000000</td>\n",
       "      <td>0.060000</td>\n",
       "      <td>60.000000</td>\n",
       "      <td>12.000000</td>\n",
       "      <td>6.400000</td>\n",
       "      <td>10.000000</td>\n",
       "    </tr>\n",
       "    <tr>\n",
       "      <th>50%</th>\n",
       "      <td>2007.000000</td>\n",
       "      <td>0.080000</td>\n",
       "      <td>0.020000</td>\n",
       "      <td>0.000000</td>\n",
       "      <td>0.010000</td>\n",
       "      <td>0.170000</td>\n",
       "      <td>71.000000</td>\n",
       "      <td>21.000000</td>\n",
       "      <td>7.500000</td>\n",
       "      <td>24.000000</td>\n",
       "    </tr>\n",
       "    <tr>\n",
       "      <th>75%</th>\n",
       "      <td>2010.000000</td>\n",
       "      <td>0.240000</td>\n",
       "      <td>0.110000</td>\n",
       "      <td>0.040000</td>\n",
       "      <td>0.030000</td>\n",
       "      <td>0.470000</td>\n",
       "      <td>79.000000</td>\n",
       "      <td>36.000000</td>\n",
       "      <td>8.200000</td>\n",
       "      <td>81.000000</td>\n",
       "    </tr>\n",
       "    <tr>\n",
       "      <th>max</th>\n",
       "      <td>2020.000000</td>\n",
       "      <td>41.360000</td>\n",
       "      <td>28.960000</td>\n",
       "      <td>10.220000</td>\n",
       "      <td>10.570000</td>\n",
       "      <td>82.530000</td>\n",
       "      <td>98.000000</td>\n",
       "      <td>113.000000</td>\n",
       "      <td>9.700000</td>\n",
       "      <td>10665.000000</td>\n",
       "    </tr>\n",
       "  </tbody>\n",
       "</table>\n",
       "</div>"
      ],
      "text/plain": [
       "       Year_of_Release      NA_Sales      EU_Sales      JP_Sales  \\\n",
       "count     16450.000000  16719.000000  16719.000000  16719.000000   \n",
       "mean       2006.487356      0.263330      0.145025      0.077602   \n",
       "std           5.878995      0.813514      0.503283      0.308818   \n",
       "min        1980.000000      0.000000      0.000000      0.000000   \n",
       "25%        2003.000000      0.000000      0.000000      0.000000   \n",
       "50%        2007.000000      0.080000      0.020000      0.000000   \n",
       "75%        2010.000000      0.240000      0.110000      0.040000   \n",
       "max        2020.000000     41.360000     28.960000     10.220000   \n",
       "\n",
       "        Other_Sales  Global_Sales  Critic_Score  Critic_Count   User_Score  \\\n",
       "count  16719.000000  16719.000000   8137.000000   8137.000000  7590.000000   \n",
       "mean       0.047332      0.533543     68.967679     26.360821     7.125046   \n",
       "std        0.186710      1.547935     13.938165     18.980495     1.500006   \n",
       "min        0.000000      0.010000     13.000000      3.000000     0.000000   \n",
       "25%        0.000000      0.060000     60.000000     12.000000     6.400000   \n",
       "50%        0.010000      0.170000     71.000000     21.000000     7.500000   \n",
       "75%        0.030000      0.470000     79.000000     36.000000     8.200000   \n",
       "max       10.570000     82.530000     98.000000    113.000000     9.700000   \n",
       "\n",
       "         User_Count  \n",
       "count   7590.000000  \n",
       "mean     162.229908  \n",
       "std      561.282326  \n",
       "min        4.000000  \n",
       "25%       10.000000  \n",
       "50%       24.000000  \n",
       "75%       81.000000  \n",
       "max    10665.000000  "
      ]
     },
     "execution_count": 2,
     "metadata": {},
     "output_type": "execute_result"
    }
   ],
   "source": [
    "games.describe()"
   ]
  },
  {
   "cell_type": "code",
   "execution_count": 3,
   "metadata": {
    "colab": {
     "base_uri": "https://localhost:8080/"
    },
    "id": "DOylXn6_rqyU",
    "outputId": "6b15c5d8-9caf-44fa-caab-22133099f55f"
   },
   "outputs": [
    {
     "data": {
      "text/plain": [
       "16719"
      ]
     },
     "execution_count": 3,
     "metadata": {},
     "output_type": "execute_result"
    }
   ],
   "source": [
    "len(games.index)"
   ]
  },
  {
   "cell_type": "code",
   "execution_count": 4,
   "metadata": {
    "colab": {
     "base_uri": "https://localhost:8080/"
    },
    "id": "yj4qru3ZrHf5",
    "outputId": "d4960ee5-90a0-47dc-e5d5-99f8ba9d3d6f"
   },
   "outputs": [
    {
     "name": "stdout",
     "output_type": "stream",
     "text": [
      " \n",
      "Count total NaN at each column in a DataFrame : \n",
      "\n",
      " Name               0.000120\n",
      "Platform           0.000000\n",
      "Year_of_Release    0.016089\n",
      "Genre              0.000120\n",
      "Publisher          0.003230\n",
      "NA_Sales           0.000000\n",
      "EU_Sales           0.000000\n",
      "JP_Sales           0.000000\n",
      "Other_Sales        0.000000\n",
      "Global_Sales       0.000000\n",
      "Critic_Score       0.513308\n",
      "Critic_Count       0.513308\n",
      "User_Score         0.546025\n",
      "User_Count         0.546025\n",
      "Developer          0.396136\n",
      "Rating             0.404869\n",
      "dtype: float64\n"
     ]
    }
   ],
   "source": [
    "print(\" \\nCount total NaN at each column in a DataFrame : \\n\\n\",\n",
    "      games.isnull().sum()/len(games))"
   ]
  },
  {
   "cell_type": "code",
   "execution_count": 5,
   "metadata": {
    "colab": {
     "base_uri": "https://localhost:8080/"
    },
    "id": "ZnZbUs0kLm-s",
    "outputId": "05209935-edcb-4ce1-844e-baf2f981c050"
   },
   "outputs": [
    {
     "data": {
      "text/plain": [
       "Name               11562\n",
       "Platform              31\n",
       "Year_of_Release       39\n",
       "Genre                 12\n",
       "Publisher            582\n",
       "NA_Sales             402\n",
       "EU_Sales             307\n",
       "JP_Sales             244\n",
       "Other_Sales          155\n",
       "Global_Sales         629\n",
       "Critic_Score          82\n",
       "Critic_Count         106\n",
       "User_Score            95\n",
       "User_Count           888\n",
       "Developer           1696\n",
       "Rating                 8\n",
       "dtype: int64"
      ]
     },
     "execution_count": 5,
     "metadata": {},
     "output_type": "execute_result"
    }
   ],
   "source": [
    "games.nunique()"
   ]
  },
  {
   "cell_type": "code",
   "execution_count": 6,
   "metadata": {
    "colab": {
     "base_uri": "https://localhost:8080/",
     "height": 424
    },
    "id": "qhtlx_W8H5M5",
    "outputId": "1701d649-8f0f-4718-fc42-3ba53386c8ae"
   },
   "outputs": [
    {
     "data": {
      "text/html": [
       "<div>\n",
       "<style scoped>\n",
       "    .dataframe tbody tr th:only-of-type {\n",
       "        vertical-align: middle;\n",
       "    }\n",
       "\n",
       "    .dataframe tbody tr th {\n",
       "        vertical-align: top;\n",
       "    }\n",
       "\n",
       "    .dataframe thead th {\n",
       "        text-align: right;\n",
       "    }\n",
       "</style>\n",
       "<table border=\"1\" class=\"dataframe\">\n",
       "  <thead>\n",
       "    <tr style=\"text-align: right;\">\n",
       "      <th></th>\n",
       "      <th>Platform</th>\n",
       "      <th>Genre</th>\n",
       "      <th>Publisher</th>\n",
       "      <th>Critic_Score</th>\n",
       "      <th>Rating</th>\n",
       "      <th>Global_Sales</th>\n",
       "      <th>NA_Sales</th>\n",
       "      <th>EU_Sales</th>\n",
       "      <th>JP_Sales</th>\n",
       "      <th>Other_Sales</th>\n",
       "    </tr>\n",
       "  </thead>\n",
       "  <tbody>\n",
       "    <tr>\n",
       "      <th>0</th>\n",
       "      <td>Wii</td>\n",
       "      <td>Sports</td>\n",
       "      <td>Nintendo</td>\n",
       "      <td>76.0</td>\n",
       "      <td>E</td>\n",
       "      <td>82.53</td>\n",
       "      <td>41.36</td>\n",
       "      <td>28.96</td>\n",
       "      <td>3.77</td>\n",
       "      <td>8.45</td>\n",
       "    </tr>\n",
       "    <tr>\n",
       "      <th>1</th>\n",
       "      <td>NES</td>\n",
       "      <td>Platform</td>\n",
       "      <td>Nintendo</td>\n",
       "      <td>NaN</td>\n",
       "      <td>NaN</td>\n",
       "      <td>40.24</td>\n",
       "      <td>29.08</td>\n",
       "      <td>3.58</td>\n",
       "      <td>6.81</td>\n",
       "      <td>0.77</td>\n",
       "    </tr>\n",
       "    <tr>\n",
       "      <th>2</th>\n",
       "      <td>Wii</td>\n",
       "      <td>Racing</td>\n",
       "      <td>Nintendo</td>\n",
       "      <td>82.0</td>\n",
       "      <td>E</td>\n",
       "      <td>35.52</td>\n",
       "      <td>15.68</td>\n",
       "      <td>12.76</td>\n",
       "      <td>3.79</td>\n",
       "      <td>3.29</td>\n",
       "    </tr>\n",
       "    <tr>\n",
       "      <th>3</th>\n",
       "      <td>Wii</td>\n",
       "      <td>Sports</td>\n",
       "      <td>Nintendo</td>\n",
       "      <td>80.0</td>\n",
       "      <td>E</td>\n",
       "      <td>32.77</td>\n",
       "      <td>15.61</td>\n",
       "      <td>10.93</td>\n",
       "      <td>3.28</td>\n",
       "      <td>2.95</td>\n",
       "    </tr>\n",
       "    <tr>\n",
       "      <th>4</th>\n",
       "      <td>GB</td>\n",
       "      <td>Role-Playing</td>\n",
       "      <td>Nintendo</td>\n",
       "      <td>NaN</td>\n",
       "      <td>NaN</td>\n",
       "      <td>31.37</td>\n",
       "      <td>11.27</td>\n",
       "      <td>8.89</td>\n",
       "      <td>10.22</td>\n",
       "      <td>1.00</td>\n",
       "    </tr>\n",
       "    <tr>\n",
       "      <th>...</th>\n",
       "      <td>...</td>\n",
       "      <td>...</td>\n",
       "      <td>...</td>\n",
       "      <td>...</td>\n",
       "      <td>...</td>\n",
       "      <td>...</td>\n",
       "      <td>...</td>\n",
       "      <td>...</td>\n",
       "      <td>...</td>\n",
       "      <td>...</td>\n",
       "    </tr>\n",
       "    <tr>\n",
       "      <th>16714</th>\n",
       "      <td>PS3</td>\n",
       "      <td>Action</td>\n",
       "      <td>Tecmo Koei</td>\n",
       "      <td>NaN</td>\n",
       "      <td>NaN</td>\n",
       "      <td>0.01</td>\n",
       "      <td>0.00</td>\n",
       "      <td>0.00</td>\n",
       "      <td>0.01</td>\n",
       "      <td>0.00</td>\n",
       "    </tr>\n",
       "    <tr>\n",
       "      <th>16715</th>\n",
       "      <td>X360</td>\n",
       "      <td>Sports</td>\n",
       "      <td>Codemasters</td>\n",
       "      <td>NaN</td>\n",
       "      <td>NaN</td>\n",
       "      <td>0.01</td>\n",
       "      <td>0.00</td>\n",
       "      <td>0.01</td>\n",
       "      <td>0.00</td>\n",
       "      <td>0.00</td>\n",
       "    </tr>\n",
       "    <tr>\n",
       "      <th>16716</th>\n",
       "      <td>PSV</td>\n",
       "      <td>Adventure</td>\n",
       "      <td>Idea Factory</td>\n",
       "      <td>NaN</td>\n",
       "      <td>NaN</td>\n",
       "      <td>0.01</td>\n",
       "      <td>0.00</td>\n",
       "      <td>0.00</td>\n",
       "      <td>0.01</td>\n",
       "      <td>0.00</td>\n",
       "    </tr>\n",
       "    <tr>\n",
       "      <th>16717</th>\n",
       "      <td>GBA</td>\n",
       "      <td>Platform</td>\n",
       "      <td>Wanadoo</td>\n",
       "      <td>NaN</td>\n",
       "      <td>NaN</td>\n",
       "      <td>0.01</td>\n",
       "      <td>0.01</td>\n",
       "      <td>0.00</td>\n",
       "      <td>0.00</td>\n",
       "      <td>0.00</td>\n",
       "    </tr>\n",
       "    <tr>\n",
       "      <th>16718</th>\n",
       "      <td>PSV</td>\n",
       "      <td>Simulation</td>\n",
       "      <td>Tecmo Koei</td>\n",
       "      <td>NaN</td>\n",
       "      <td>NaN</td>\n",
       "      <td>0.01</td>\n",
       "      <td>0.00</td>\n",
       "      <td>0.00</td>\n",
       "      <td>0.01</td>\n",
       "      <td>0.00</td>\n",
       "    </tr>\n",
       "  </tbody>\n",
       "</table>\n",
       "<p>16719 rows × 10 columns</p>\n",
       "</div>"
      ],
      "text/plain": [
       "      Platform         Genre     Publisher  Critic_Score Rating  Global_Sales  \\\n",
       "0          Wii        Sports      Nintendo          76.0      E         82.53   \n",
       "1          NES      Platform      Nintendo           NaN    NaN         40.24   \n",
       "2          Wii        Racing      Nintendo          82.0      E         35.52   \n",
       "3          Wii        Sports      Nintendo          80.0      E         32.77   \n",
       "4           GB  Role-Playing      Nintendo           NaN    NaN         31.37   \n",
       "...        ...           ...           ...           ...    ...           ...   \n",
       "16714      PS3        Action    Tecmo Koei           NaN    NaN          0.01   \n",
       "16715     X360        Sports   Codemasters           NaN    NaN          0.01   \n",
       "16716      PSV     Adventure  Idea Factory           NaN    NaN          0.01   \n",
       "16717      GBA      Platform       Wanadoo           NaN    NaN          0.01   \n",
       "16718      PSV    Simulation    Tecmo Koei           NaN    NaN          0.01   \n",
       "\n",
       "       NA_Sales  EU_Sales  JP_Sales  Other_Sales  \n",
       "0         41.36     28.96      3.77         8.45  \n",
       "1         29.08      3.58      6.81         0.77  \n",
       "2         15.68     12.76      3.79         3.29  \n",
       "3         15.61     10.93      3.28         2.95  \n",
       "4         11.27      8.89     10.22         1.00  \n",
       "...         ...       ...       ...          ...  \n",
       "16714      0.00      0.00      0.01         0.00  \n",
       "16715      0.00      0.01      0.00         0.00  \n",
       "16716      0.00      0.00      0.01         0.00  \n",
       "16717      0.01      0.00      0.00         0.00  \n",
       "16718      0.00      0.00      0.01         0.00  \n",
       "\n",
       "[16719 rows x 10 columns]"
      ]
     },
     "execution_count": 6,
     "metadata": {},
     "output_type": "execute_result"
    }
   ],
   "source": [
    "g=games[[\"Platform\",\"Genre\",\"Publisher\",\"Critic_Score\",\"Rating\",\"Global_Sales\",\"NA_Sales\",\"EU_Sales\",\"JP_Sales\",\"Other_Sales\"]]\n",
    "g"
   ]
  },
  {
   "cell_type": "code",
   "execution_count": 7,
   "metadata": {
    "colab": {
     "base_uri": "https://localhost:8080/"
    },
    "id": "96OsJG73IFda",
    "outputId": "4701e4b0-f4d2-467a-9129-246816638200"
   },
   "outputs": [
    {
     "name": "stdout",
     "output_type": "stream",
     "text": [
      "Platform\n",
      "2600    0.729925\n",
      "3DO     0.033333\n",
      "3DS     0.498250\n",
      "DC      0.307115\n",
      "DS      0.375046\n",
      "GB      2.606633\n",
      "GBA     0.387470\n",
      "GC      0.358561\n",
      "GEN     1.061379\n",
      "GG      0.040000\n",
      "N64     0.686144\n",
      "NES     2.561939\n",
      "NG      0.120000\n",
      "PC      0.267248\n",
      "PCFX    0.030000\n",
      "PS      0.610426\n",
      "PS2     0.581046\n",
      "PS3     0.705808\n",
      "PS4     0.799567\n",
      "PSP     0.243424\n",
      "PSV     0.125278\n",
      "SAT     0.194162\n",
      "SCD     0.311667\n",
      "SNES    0.837029\n",
      "TG16    0.080000\n",
      "WS      0.236667\n",
      "Wii     0.687977\n",
      "WiiU    0.558912\n",
      "X360    0.769913\n",
      "XB      0.313422\n",
      "XOne    0.645506\n",
      "Name: Global_Sales, dtype: float64\n"
     ]
    }
   ],
   "source": [
    "print(games.groupby([\"Platform\"]).mean()[\"Global_Sales\"])"
   ]
  },
  {
   "cell_type": "code",
   "execution_count": 8,
   "metadata": {
    "colab": {
     "base_uri": "https://localhost:8080/"
    },
    "id": "5JvwohXcL-8x",
    "outputId": "ab3ae15d-9e21-45e5-ff5f-d06907830dbb"
   },
   "outputs": [
    {
     "name": "stdout",
     "output_type": "stream",
     "text": [
      "Rating\n",
      "AO      1.950000\n",
      "E       0.610599\n",
      "E10+    0.461838\n",
      "EC      0.222500\n",
      "K-A     1.443333\n",
      "M       0.942956\n",
      "RP      0.026667\n",
      "T       0.504694\n",
      "Name: Global_Sales, dtype: float64\n"
     ]
    }
   ],
   "source": [
    "print(games.groupby([\"Rating\"]).mean()[\"Global_Sales\"])"
   ]
  },
  {
   "cell_type": "code",
   "execution_count": 9,
   "metadata": {
    "colab": {
     "base_uri": "https://localhost:8080/"
    },
    "id": "z8P8o4rUZ56C",
    "outputId": "16fc91c2-4b18-4ff2-e298-cb06f1eb6e71"
   },
   "outputs": [
    {
     "data": {
      "text/plain": [
       "Name               0.000120\n",
       "Platform           0.000000\n",
       "Year_of_Release    0.016089\n",
       "Genre              0.000120\n",
       "Publisher          0.003230\n",
       "NA_Sales           0.000000\n",
       "EU_Sales           0.000000\n",
       "JP_Sales           0.000000\n",
       "Other_Sales        0.000000\n",
       "Global_Sales       0.000000\n",
       "Critic_Score       0.513308\n",
       "Critic_Count       0.513308\n",
       "User_Score         0.546025\n",
       "User_Count         0.546025\n",
       "Developer          0.396136\n",
       "Rating             0.404869\n",
       "dtype: float64"
      ]
     },
     "execution_count": 9,
     "metadata": {},
     "output_type": "execute_result"
    }
   ],
   "source": [
    "games.isnull().sum()/len(games)"
   ]
  },
  {
   "cell_type": "code",
   "execution_count": 10,
   "metadata": {
    "colab": {
     "base_uri": "https://localhost:8080/"
    },
    "id": "iVWlAJkIMGt_",
    "outputId": "652a2209-8c38-4fc2-cbf1-8318d3345a0a"
   },
   "outputs": [
    {
     "data": {
      "text/plain": [
       "Platform        0.000000\n",
       "Genre           0.000120\n",
       "Publisher       0.003230\n",
       "Critic_Score    0.513308\n",
       "Rating          0.404869\n",
       "Global_Sales    0.000000\n",
       "NA_Sales        0.000000\n",
       "EU_Sales        0.000000\n",
       "JP_Sales        0.000000\n",
       "Other_Sales     0.000000\n",
       "dtype: float64"
      ]
     },
     "execution_count": 10,
     "metadata": {},
     "output_type": "execute_result"
    }
   ],
   "source": [
    "g.isnull().sum()/len(games)"
   ]
  },
  {
   "cell_type": "code",
   "execution_count": null,
   "metadata": {
    "id": "6tTsKAE0Z42x"
   },
   "outputs": [],
   "source": []
  },
  {
   "cell_type": "code",
   "execution_count": 11,
   "metadata": {
    "colab": {
     "base_uri": "https://localhost:8080/",
     "height": 386
    },
    "id": "Mi5UlDhtNVbS",
    "outputId": "d5a92563-2d5c-4e6a-a181-2c55aa3107f6"
   },
   "outputs": [
    {
     "data": {
      "text/plain": [
       "<seaborn.axisgrid.FacetGrid at 0x7fe3146a9460>"
      ]
     },
     "execution_count": 11,
     "metadata": {},
     "output_type": "execute_result"
    },
    {
     "data": {
      "image/png": "[encoded data removed]",
      "text/plain": [
       "<Figure size 360x360 with 1 Axes>"
      ]
     },
     "metadata": {
      "needs_background": "light"
     },
     "output_type": "display_data"
    }
   ],
   "source": [
    "import seaborn as sns\n",
    "sns.displot(g, x=\"Rating\", shrink=.8)\n"
   ]
  },
  {
   "cell_type": "code",
   "execution_count": 12,
   "metadata": {
    "colab": {
     "base_uri": "https://localhost:8080/",
     "height": 297
    },
    "id": "ggoaZLqXtKpA",
    "outputId": "9d35b992-ad2e-46d7-83cb-09506462c237"
   },
   "outputs": [
    {
     "data": {
      "text/plain": [
       "<AxesSubplot:xlabel='Global_Sales'>"
      ]
     },
     "execution_count": 12,
     "metadata": {},
     "output_type": "execute_result"
    },
    {
     "data": {
      "image/png": "[encoded data removed]",
      "text/plain": [
       "<Figure size 432x288 with 1 Axes>"
      ]
     },
     "metadata": {
      "needs_background": "light"
     },
     "output_type": "display_data"
    }
   ],
   "source": [
    "sns.boxplot(x=games[\"Global_Sales\"])"
   ]
  },
  {
   "cell_type": "code",
   "execution_count": 13,
   "metadata": {
    "colab": {
     "base_uri": "https://localhost:8080/",
     "height": 297
    },
    "id": "KfFunya3aAv4",
    "outputId": "ac5e76b6-7d9a-4c5c-d306-db94b61c97a7"
   },
   "outputs": [
    {
     "data": {
      "text/plain": [
       "<AxesSubplot:xlabel='NA_Sales'>"
      ]
     },
     "execution_count": 13,
     "metadata": {},
     "output_type": "execute_result"
    },
    {
     "data": {
      "image/png": "[encoded data removed]",
      "text/plain": [
       "<Figure size 432x288 with 1 Axes>"
      ]
     },
     "metadata": {
      "needs_background": "light"
     },
     "output_type": "display_data"
    }
   ],
   "source": [
    "import seaborn as sns\n",
    "sns.boxplot(x=games[\"NA_Sales\"])"
   ]
  },
  {
   "cell_type": "code",
   "execution_count": 14,
   "metadata": {
    "colab": {
     "base_uri": "https://localhost:8080/",
     "height": 297
    },
    "id": "MlTWAIbivQWR",
    "outputId": "14a21094-b8e0-4aad-dff9-e32a49f0a9b2"
   },
   "outputs": [
    {
     "data": {
      "text/plain": [
       "<AxesSubplot:xlabel='Critic_Score'>"
      ]
     },
     "execution_count": 14,
     "metadata": {},
     "output_type": "execute_result"
    },
    {
     "data": {
      "image/png": "[encoded data removed]",
      "text/plain": [
       "<Figure size 432x288 with 1 Axes>"
      ]
     },
     "metadata": {
      "needs_background": "light"
     },
     "output_type": "display_data"
    }
   ],
   "source": [
    "sns.boxplot(x=games[\"Critic_Score\"])"
   ]
  },
  {
   "cell_type": "code",
   "execution_count": 15,
   "metadata": {
    "colab": {
     "base_uri": "https://localhost:8080/",
     "height": 238
    },
    "id": "VwAZ5l6_hEeX",
    "outputId": "b215e9c7-310a-4e66-9179-9889eeb7db11"
   },
   "outputs": [
    {
     "data": {
      "text/html": [
       "<div>\n",
       "<style scoped>\n",
       "    .dataframe tbody tr th:only-of-type {\n",
       "        vertical-align: middle;\n",
       "    }\n",
       "\n",
       "    .dataframe tbody tr th {\n",
       "        vertical-align: top;\n",
       "    }\n",
       "\n",
       "    .dataframe thead th {\n",
       "        text-align: right;\n",
       "    }\n",
       "</style>\n",
       "<table border=\"1\" class=\"dataframe\">\n",
       "  <thead>\n",
       "    <tr style=\"text-align: right;\">\n",
       "      <th></th>\n",
       "      <th>Critic_Score</th>\n",
       "      <th>Global_Sales</th>\n",
       "      <th>NA_Sales</th>\n",
       "      <th>EU_Sales</th>\n",
       "      <th>JP_Sales</th>\n",
       "      <th>Other_Sales</th>\n",
       "    </tr>\n",
       "  </thead>\n",
       "  <tbody>\n",
       "    <tr>\n",
       "      <th>Critic_Score</th>\n",
       "      <td>1.000000</td>\n",
       "      <td>0.245471</td>\n",
       "      <td>0.240755</td>\n",
       "      <td>0.220752</td>\n",
       "      <td>0.152593</td>\n",
       "      <td>0.198554</td>\n",
       "    </tr>\n",
       "    <tr>\n",
       "      <th>Global_Sales</th>\n",
       "      <td>0.245471</td>\n",
       "      <td>1.000000</td>\n",
       "      <td>0.941010</td>\n",
       "      <td>0.901239</td>\n",
       "      <td>0.612300</td>\n",
       "      <td>0.749242</td>\n",
       "    </tr>\n",
       "    <tr>\n",
       "      <th>NA_Sales</th>\n",
       "      <td>0.240755</td>\n",
       "      <td>0.941010</td>\n",
       "      <td>1.000000</td>\n",
       "      <td>0.765336</td>\n",
       "      <td>0.449598</td>\n",
       "      <td>0.638654</td>\n",
       "    </tr>\n",
       "    <tr>\n",
       "      <th>EU_Sales</th>\n",
       "      <td>0.220752</td>\n",
       "      <td>0.901239</td>\n",
       "      <td>0.765336</td>\n",
       "      <td>1.000000</td>\n",
       "      <td>0.435068</td>\n",
       "      <td>0.722796</td>\n",
       "    </tr>\n",
       "    <tr>\n",
       "      <th>JP_Sales</th>\n",
       "      <td>0.152593</td>\n",
       "      <td>0.612300</td>\n",
       "      <td>0.449598</td>\n",
       "      <td>0.435068</td>\n",
       "      <td>1.000000</td>\n",
       "      <td>0.291096</td>\n",
       "    </tr>\n",
       "    <tr>\n",
       "      <th>Other_Sales</th>\n",
       "      <td>0.198554</td>\n",
       "      <td>0.749242</td>\n",
       "      <td>0.638654</td>\n",
       "      <td>0.722796</td>\n",
       "      <td>0.291096</td>\n",
       "      <td>1.000000</td>\n",
       "    </tr>\n",
       "  </tbody>\n",
       "</table>\n",
       "</div>"
      ],
      "text/plain": [
       "              Critic_Score  Global_Sales  NA_Sales  EU_Sales  JP_Sales  \\\n",
       "Critic_Score      1.000000      0.245471  0.240755  0.220752  0.152593   \n",
       "Global_Sales      0.245471      1.000000  0.941010  0.901239  0.612300   \n",
       "NA_Sales          0.240755      0.941010  1.000000  0.765336  0.449598   \n",
       "EU_Sales          0.220752      0.901239  0.765336  1.000000  0.435068   \n",
       "JP_Sales          0.152593      0.612300  0.449598  0.435068  1.000000   \n",
       "Other_Sales       0.198554      0.749242  0.638654  0.722796  0.291096   \n",
       "\n",
       "              Other_Sales  \n",
       "Critic_Score     0.198554  \n",
       "Global_Sales     0.749242  \n",
       "NA_Sales         0.638654  \n",
       "EU_Sales         0.722796  \n",
       "JP_Sales         0.291096  \n",
       "Other_Sales      1.000000  "
      ]
     },
     "execution_count": 15,
     "metadata": {},
     "output_type": "execute_result"
    }
   ],
   "source": [
    "g.corr()"
   ]
  },
  {
   "cell_type": "code",
   "execution_count": 16,
   "metadata": {
    "colab": {
     "base_uri": "https://localhost:8080/"
    },
    "id": "9EqcUFBwhIOj",
    "outputId": "a55b4328-33f1-4284-f966-bd006319d10e"
   },
   "outputs": [
    {
     "name": "stdout",
     "output_type": "stream",
     "text": [
      "<class 'pandas.core.frame.DataFrame'>\n",
      "RangeIndex: 16719 entries, 0 to 16718\n",
      "Data columns (total 16 columns):\n",
      " #   Column           Non-Null Count  Dtype  \n",
      "---  ------           --------------  -----  \n",
      " 0   Name             16717 non-null  object \n",
      " 1   Platform         16719 non-null  object \n",
      " 2   Year_of_Release  16450 non-null  float64\n",
      " 3   Genre            16717 non-null  object \n",
      " 4   Publisher        16665 non-null  object \n",
      " 5   NA_Sales         16719 non-null  float64\n",
      " 6   EU_Sales         16719 non-null  float64\n",
      " 7   JP_Sales         16719 non-null  float64\n",
      " 8   Other_Sales      16719 non-null  float64\n",
      " 9   Global_Sales     16719 non-null  float64\n",
      " 10  Critic_Score     8137 non-null   float64\n",
      " 11  Critic_Count     8137 non-null   float64\n",
      " 12  User_Score       7590 non-null   float64\n",
      " 13  User_Count       7590 non-null   float64\n",
      " 14  Developer        10096 non-null  object \n",
      " 15  Rating           9950 non-null   object \n",
      "dtypes: float64(10), object(6)\n",
      "memory usage: 2.0+ MB\n"
     ]
    }
   ],
   "source": [
    "games.info()"
   ]
  },
  {
   "cell_type": "code",
   "execution_count": 17,
   "metadata": {
    "colab": {
     "base_uri": "https://localhost:8080/",
     "height": 470
    },
    "id": "lzFSoie1wVXg",
    "outputId": "88154ef4-99eb-4cba-e29a-3b7880907502"
   },
   "outputs": [
    {
     "name": "stderr",
     "output_type": "stream",
     "text": [
      "/tmp/ipykernel_37244/3003428008.py:1: SettingWithCopyWarning: \n",
      "A value is trying to be set on a copy of a slice from a DataFrame\n",
      "\n",
      "See the caveats in the documentation: https://pandas.pydata.org/pandas-docs/stable/user_guide/indexing.html#returning-a-view-versus-a-copy\n",
      "  g[\"Rating\"].fillna(\"RP\", inplace = True)\n"
     ]
    },
    {
     "data": {
      "text/html": [
       "<div>\n",
       "<style scoped>\n",
       "    .dataframe tbody tr th:only-of-type {\n",
       "        vertical-align: middle;\n",
       "    }\n",
       "\n",
       "    .dataframe tbody tr th {\n",
       "        vertical-align: top;\n",
       "    }\n",
       "\n",
       "    .dataframe thead th {\n",
       "        text-align: right;\n",
       "    }\n",
       "</style>\n",
       "<table border=\"1\" class=\"dataframe\">\n",
       "  <thead>\n",
       "    <tr style=\"text-align: right;\">\n",
       "      <th></th>\n",
       "      <th>Platform</th>\n",
       "      <th>Genre</th>\n",
       "      <th>Publisher</th>\n",
       "      <th>Critic_Score</th>\n",
       "      <th>Rating</th>\n",
       "      <th>Global_Sales</th>\n",
       "      <th>NA_Sales</th>\n",
       "      <th>EU_Sales</th>\n",
       "      <th>JP_Sales</th>\n",
       "      <th>Other_Sales</th>\n",
       "    </tr>\n",
       "  </thead>\n",
       "  <tbody>\n",
       "    <tr>\n",
       "      <th>0</th>\n",
       "      <td>Wii</td>\n",
       "      <td>Sports</td>\n",
       "      <td>Nintendo</td>\n",
       "      <td>76.0</td>\n",
       "      <td>E</td>\n",
       "      <td>82.53</td>\n",
       "      <td>41.36</td>\n",
       "      <td>28.96</td>\n",
       "      <td>3.77</td>\n",
       "      <td>8.45</td>\n",
       "    </tr>\n",
       "    <tr>\n",
       "      <th>1</th>\n",
       "      <td>NES</td>\n",
       "      <td>Platform</td>\n",
       "      <td>Nintendo</td>\n",
       "      <td>NaN</td>\n",
       "      <td>RP</td>\n",
       "      <td>40.24</td>\n",
       "      <td>29.08</td>\n",
       "      <td>3.58</td>\n",
       "      <td>6.81</td>\n",
       "      <td>0.77</td>\n",
       "    </tr>\n",
       "    <tr>\n",
       "      <th>2</th>\n",
       "      <td>Wii</td>\n",
       "      <td>Racing</td>\n",
       "      <td>Nintendo</td>\n",
       "      <td>82.0</td>\n",
       "      <td>E</td>\n",
       "      <td>35.52</td>\n",
       "      <td>15.68</td>\n",
       "      <td>12.76</td>\n",
       "      <td>3.79</td>\n",
       "      <td>3.29</td>\n",
       "    </tr>\n",
       "    <tr>\n",
       "      <th>3</th>\n",
       "      <td>Wii</td>\n",
       "      <td>Sports</td>\n",
       "      <td>Nintendo</td>\n",
       "      <td>80.0</td>\n",
       "      <td>E</td>\n",
       "      <td>32.77</td>\n",
       "      <td>15.61</td>\n",
       "      <td>10.93</td>\n",
       "      <td>3.28</td>\n",
       "      <td>2.95</td>\n",
       "    </tr>\n",
       "    <tr>\n",
       "      <th>4</th>\n",
       "      <td>GB</td>\n",
       "      <td>Role-Playing</td>\n",
       "      <td>Nintendo</td>\n",
       "      <td>NaN</td>\n",
       "      <td>RP</td>\n",
       "      <td>31.37</td>\n",
       "      <td>11.27</td>\n",
       "      <td>8.89</td>\n",
       "      <td>10.22</td>\n",
       "      <td>1.00</td>\n",
       "    </tr>\n",
       "    <tr>\n",
       "      <th>5</th>\n",
       "      <td>GB</td>\n",
       "      <td>Puzzle</td>\n",
       "      <td>Nintendo</td>\n",
       "      <td>NaN</td>\n",
       "      <td>RP</td>\n",
       "      <td>30.26</td>\n",
       "      <td>23.20</td>\n",
       "      <td>2.26</td>\n",
       "      <td>4.22</td>\n",
       "      <td>0.58</td>\n",
       "    </tr>\n",
       "    <tr>\n",
       "      <th>6</th>\n",
       "      <td>DS</td>\n",
       "      <td>Platform</td>\n",
       "      <td>Nintendo</td>\n",
       "      <td>89.0</td>\n",
       "      <td>E</td>\n",
       "      <td>29.80</td>\n",
       "      <td>11.28</td>\n",
       "      <td>9.14</td>\n",
       "      <td>6.50</td>\n",
       "      <td>2.88</td>\n",
       "    </tr>\n",
       "    <tr>\n",
       "      <th>7</th>\n",
       "      <td>Wii</td>\n",
       "      <td>Misc</td>\n",
       "      <td>Nintendo</td>\n",
       "      <td>58.0</td>\n",
       "      <td>E</td>\n",
       "      <td>28.92</td>\n",
       "      <td>13.96</td>\n",
       "      <td>9.18</td>\n",
       "      <td>2.93</td>\n",
       "      <td>2.84</td>\n",
       "    </tr>\n",
       "    <tr>\n",
       "      <th>8</th>\n",
       "      <td>Wii</td>\n",
       "      <td>Platform</td>\n",
       "      <td>Nintendo</td>\n",
       "      <td>87.0</td>\n",
       "      <td>E</td>\n",
       "      <td>28.32</td>\n",
       "      <td>14.44</td>\n",
       "      <td>6.94</td>\n",
       "      <td>4.70</td>\n",
       "      <td>2.24</td>\n",
       "    </tr>\n",
       "    <tr>\n",
       "      <th>9</th>\n",
       "      <td>NES</td>\n",
       "      <td>Shooter</td>\n",
       "      <td>Nintendo</td>\n",
       "      <td>NaN</td>\n",
       "      <td>RP</td>\n",
       "      <td>28.31</td>\n",
       "      <td>26.93</td>\n",
       "      <td>0.63</td>\n",
       "      <td>0.28</td>\n",
       "      <td>0.47</td>\n",
       "    </tr>\n",
       "  </tbody>\n",
       "</table>\n",
       "</div>"
      ],
      "text/plain": [
       "  Platform         Genre Publisher  Critic_Score Rating  Global_Sales  \\\n",
       "0      Wii        Sports  Nintendo          76.0      E         82.53   \n",
       "1      NES      Platform  Nintendo           NaN     RP         40.24   \n",
       "2      Wii        Racing  Nintendo          82.0      E         35.52   \n",
       "3      Wii        Sports  Nintendo          80.0      E         32.77   \n",
       "4       GB  Role-Playing  Nintendo           NaN     RP         31.37   \n",
       "5       GB        Puzzle  Nintendo           NaN     RP         30.26   \n",
       "6       DS      Platform  Nintendo          89.0      E         29.80   \n",
       "7      Wii          Misc  Nintendo          58.0      E         28.92   \n",
       "8      Wii      Platform  Nintendo          87.0      E         28.32   \n",
       "9      NES       Shooter  Nintendo           NaN     RP         28.31   \n",
       "\n",
       "   NA_Sales  EU_Sales  JP_Sales  Other_Sales  \n",
       "0     41.36     28.96      3.77         8.45  \n",
       "1     29.08      3.58      6.81         0.77  \n",
       "2     15.68     12.76      3.79         3.29  \n",
       "3     15.61     10.93      3.28         2.95  \n",
       "4     11.27      8.89     10.22         1.00  \n",
       "5     23.20      2.26      4.22         0.58  \n",
       "6     11.28      9.14      6.50         2.88  \n",
       "7     13.96      9.18      2.93         2.84  \n",
       "8     14.44      6.94      4.70         2.24  \n",
       "9     26.93      0.63      0.28         0.47  "
      ]
     },
     "execution_count": 17,
     "metadata": {},
     "output_type": "execute_result"
    }
   ],
   "source": [
    "g[\"Rating\"].fillna(\"RP\", inplace = True)\n",
    "g.head(10)"
   ]
  },
  {
   "cell_type": "code",
   "execution_count": 18,
   "metadata": {
    "id": "U_2wLoWrw_eS"
   },
   "outputs": [],
   "source": [
    "#g[\"Critic_Score\"].fillna(games[\"Critic_Score\"].median(), inplace = True)\n"
   ]
  },
  {
   "cell_type": "code",
   "execution_count": 19,
   "metadata": {
    "colab": {
     "base_uri": "https://localhost:8080/",
     "height": 206
    },
    "id": "JS3_v0RnxZDP",
    "outputId": "09152d13-c6d2-4125-f685-fbfbb95df3f6"
   },
   "outputs": [
    {
     "data": {
      "text/html": [
       "<div>\n",
       "<style scoped>\n",
       "    .dataframe tbody tr th:only-of-type {\n",
       "        vertical-align: middle;\n",
       "    }\n",
       "\n",
       "    .dataframe tbody tr th {\n",
       "        vertical-align: top;\n",
       "    }\n",
       "\n",
       "    .dataframe thead th {\n",
       "        text-align: right;\n",
       "    }\n",
       "</style>\n",
       "<table border=\"1\" class=\"dataframe\">\n",
       "  <thead>\n",
       "    <tr style=\"text-align: right;\">\n",
       "      <th></th>\n",
       "      <th>Platform</th>\n",
       "      <th>Genre</th>\n",
       "      <th>Publisher</th>\n",
       "      <th>Critic_Score</th>\n",
       "      <th>Rating</th>\n",
       "      <th>Global_Sales</th>\n",
       "      <th>NA_Sales</th>\n",
       "      <th>EU_Sales</th>\n",
       "      <th>JP_Sales</th>\n",
       "      <th>Other_Sales</th>\n",
       "    </tr>\n",
       "  </thead>\n",
       "  <tbody>\n",
       "    <tr>\n",
       "      <th>0</th>\n",
       "      <td>Wii</td>\n",
       "      <td>Sports</td>\n",
       "      <td>Nintendo</td>\n",
       "      <td>76.0</td>\n",
       "      <td>E</td>\n",
       "      <td>82.53</td>\n",
       "      <td>41.36</td>\n",
       "      <td>28.96</td>\n",
       "      <td>3.77</td>\n",
       "      <td>8.45</td>\n",
       "    </tr>\n",
       "    <tr>\n",
       "      <th>1</th>\n",
       "      <td>NES</td>\n",
       "      <td>Platform</td>\n",
       "      <td>Nintendo</td>\n",
       "      <td>NaN</td>\n",
       "      <td>RP</td>\n",
       "      <td>40.24</td>\n",
       "      <td>29.08</td>\n",
       "      <td>3.58</td>\n",
       "      <td>6.81</td>\n",
       "      <td>0.77</td>\n",
       "    </tr>\n",
       "    <tr>\n",
       "      <th>2</th>\n",
       "      <td>Wii</td>\n",
       "      <td>Racing</td>\n",
       "      <td>Nintendo</td>\n",
       "      <td>82.0</td>\n",
       "      <td>E</td>\n",
       "      <td>35.52</td>\n",
       "      <td>15.68</td>\n",
       "      <td>12.76</td>\n",
       "      <td>3.79</td>\n",
       "      <td>3.29</td>\n",
       "    </tr>\n",
       "    <tr>\n",
       "      <th>3</th>\n",
       "      <td>Wii</td>\n",
       "      <td>Sports</td>\n",
       "      <td>Nintendo</td>\n",
       "      <td>80.0</td>\n",
       "      <td>E</td>\n",
       "      <td>32.77</td>\n",
       "      <td>15.61</td>\n",
       "      <td>10.93</td>\n",
       "      <td>3.28</td>\n",
       "      <td>2.95</td>\n",
       "    </tr>\n",
       "    <tr>\n",
       "      <th>4</th>\n",
       "      <td>GB</td>\n",
       "      <td>Role-Playing</td>\n",
       "      <td>Nintendo</td>\n",
       "      <td>NaN</td>\n",
       "      <td>RP</td>\n",
       "      <td>31.37</td>\n",
       "      <td>11.27</td>\n",
       "      <td>8.89</td>\n",
       "      <td>10.22</td>\n",
       "      <td>1.00</td>\n",
       "    </tr>\n",
       "  </tbody>\n",
       "</table>\n",
       "</div>"
      ],
      "text/plain": [
       "  Platform         Genre Publisher  Critic_Score Rating  Global_Sales  \\\n",
       "0      Wii        Sports  Nintendo          76.0      E         82.53   \n",
       "1      NES      Platform  Nintendo           NaN     RP         40.24   \n",
       "2      Wii        Racing  Nintendo          82.0      E         35.52   \n",
       "3      Wii        Sports  Nintendo          80.0      E         32.77   \n",
       "4       GB  Role-Playing  Nintendo           NaN     RP         31.37   \n",
       "\n",
       "   NA_Sales  EU_Sales  JP_Sales  Other_Sales  \n",
       "0     41.36     28.96      3.77         8.45  \n",
       "1     29.08      3.58      6.81         0.77  \n",
       "2     15.68     12.76      3.79         3.29  \n",
       "3     15.61     10.93      3.28         2.95  \n",
       "4     11.27      8.89     10.22         1.00  "
      ]
     },
     "execution_count": 19,
     "metadata": {},
     "output_type": "execute_result"
    }
   ],
   "source": [
    "g.head()"
   ]
  },
  {
   "cell_type": "code",
   "execution_count": 20,
   "metadata": {
    "colab": {
     "base_uri": "https://localhost:8080/",
     "height": 386
    },
    "id": "lzTpVGrtyj6U",
    "outputId": "1a7196e9-9f27-4723-cbd3-ef413fedddc1"
   },
   "outputs": [
    {
     "data": {
      "text/plain": [
       "<seaborn.axisgrid.FacetGrid at 0x7fe33f198160>"
      ]
     },
     "execution_count": 20,
     "metadata": {},
     "output_type": "execute_result"
    },
    {
     "data": {
      "image/png": "[encoded data removed]",
      "text/plain": [
       "<Figure size 360x360 with 1 Axes>"
      ]
     },
     "metadata": {
      "needs_background": "light"
     },
     "output_type": "display_data"
    }
   ],
   "source": [
    "sns.displot(g, x=\"Rating\", shrink=.8)\n"
   ]
  },
  {
   "cell_type": "code",
   "execution_count": 21,
   "metadata": {
    "id": "m8g-EhpjhlJ5"
   },
   "outputs": [],
   "source": [
    "g=g.dropna()"
   ]
  },
  {
   "cell_type": "code",
   "execution_count": 22,
   "metadata": {
    "colab": {
     "base_uri": "https://localhost:8080/",
     "height": 441
    },
    "id": "rkJFwHIeiLzp",
    "outputId": "d4dea47d-a396-4a0a-df9b-5b8cf062dcd7"
   },
   "outputs": [
    {
     "data": {
      "text/html": [
       "<div>\n",
       "<style scoped>\n",
       "    .dataframe tbody tr th:only-of-type {\n",
       "        vertical-align: middle;\n",
       "    }\n",
       "\n",
       "    .dataframe tbody tr th {\n",
       "        vertical-align: top;\n",
       "    }\n",
       "\n",
       "    .dataframe thead th {\n",
       "        text-align: right;\n",
       "    }\n",
       "</style>\n",
       "<table border=\"1\" class=\"dataframe\">\n",
       "  <thead>\n",
       "    <tr style=\"text-align: right;\">\n",
       "      <th></th>\n",
       "      <th>Platform</th>\n",
       "      <th>Genre</th>\n",
       "      <th>Publisher</th>\n",
       "      <th>Critic_Score</th>\n",
       "      <th>Rating</th>\n",
       "      <th>Global_Sales</th>\n",
       "      <th>NA_Sales</th>\n",
       "      <th>EU_Sales</th>\n",
       "      <th>JP_Sales</th>\n",
       "      <th>Other_Sales</th>\n",
       "    </tr>\n",
       "  </thead>\n",
       "  <tbody>\n",
       "    <tr>\n",
       "      <th>0</th>\n",
       "      <td>Wii</td>\n",
       "      <td>Sports</td>\n",
       "      <td>Nintendo</td>\n",
       "      <td>76.0</td>\n",
       "      <td>E</td>\n",
       "      <td>82.53</td>\n",
       "      <td>41.36</td>\n",
       "      <td>28.96</td>\n",
       "      <td>3.77</td>\n",
       "      <td>8.45</td>\n",
       "    </tr>\n",
       "    <tr>\n",
       "      <th>2</th>\n",
       "      <td>Wii</td>\n",
       "      <td>Racing</td>\n",
       "      <td>Nintendo</td>\n",
       "      <td>82.0</td>\n",
       "      <td>E</td>\n",
       "      <td>35.52</td>\n",
       "      <td>15.68</td>\n",
       "      <td>12.76</td>\n",
       "      <td>3.79</td>\n",
       "      <td>3.29</td>\n",
       "    </tr>\n",
       "    <tr>\n",
       "      <th>3</th>\n",
       "      <td>Wii</td>\n",
       "      <td>Sports</td>\n",
       "      <td>Nintendo</td>\n",
       "      <td>80.0</td>\n",
       "      <td>E</td>\n",
       "      <td>32.77</td>\n",
       "      <td>15.61</td>\n",
       "      <td>10.93</td>\n",
       "      <td>3.28</td>\n",
       "      <td>2.95</td>\n",
       "    </tr>\n",
       "    <tr>\n",
       "      <th>6</th>\n",
       "      <td>DS</td>\n",
       "      <td>Platform</td>\n",
       "      <td>Nintendo</td>\n",
       "      <td>89.0</td>\n",
       "      <td>E</td>\n",
       "      <td>29.80</td>\n",
       "      <td>11.28</td>\n",
       "      <td>9.14</td>\n",
       "      <td>6.50</td>\n",
       "      <td>2.88</td>\n",
       "    </tr>\n",
       "    <tr>\n",
       "      <th>7</th>\n",
       "      <td>Wii</td>\n",
       "      <td>Misc</td>\n",
       "      <td>Nintendo</td>\n",
       "      <td>58.0</td>\n",
       "      <td>E</td>\n",
       "      <td>28.92</td>\n",
       "      <td>13.96</td>\n",
       "      <td>9.18</td>\n",
       "      <td>2.93</td>\n",
       "      <td>2.84</td>\n",
       "    </tr>\n",
       "    <tr>\n",
       "      <th>...</th>\n",
       "      <td>...</td>\n",
       "      <td>...</td>\n",
       "      <td>...</td>\n",
       "      <td>...</td>\n",
       "      <td>...</td>\n",
       "      <td>...</td>\n",
       "      <td>...</td>\n",
       "      <td>...</td>\n",
       "      <td>...</td>\n",
       "      <td>...</td>\n",
       "    </tr>\n",
       "    <tr>\n",
       "      <th>16700</th>\n",
       "      <td>PC</td>\n",
       "      <td>Shooter</td>\n",
       "      <td>Destineer</td>\n",
       "      <td>61.0</td>\n",
       "      <td>T</td>\n",
       "      <td>0.01</td>\n",
       "      <td>0.01</td>\n",
       "      <td>0.00</td>\n",
       "      <td>0.00</td>\n",
       "      <td>0.00</td>\n",
       "    </tr>\n",
       "    <tr>\n",
       "      <th>16701</th>\n",
       "      <td>GC</td>\n",
       "      <td>Puzzle</td>\n",
       "      <td>Ubisoft</td>\n",
       "      <td>53.0</td>\n",
       "      <td>E</td>\n",
       "      <td>0.01</td>\n",
       "      <td>0.01</td>\n",
       "      <td>0.00</td>\n",
       "      <td>0.00</td>\n",
       "      <td>0.00</td>\n",
       "    </tr>\n",
       "    <tr>\n",
       "      <th>16702</th>\n",
       "      <td>DS</td>\n",
       "      <td>Puzzle</td>\n",
       "      <td>Majesco Entertainment</td>\n",
       "      <td>48.0</td>\n",
       "      <td>E</td>\n",
       "      <td>0.01</td>\n",
       "      <td>0.01</td>\n",
       "      <td>0.00</td>\n",
       "      <td>0.00</td>\n",
       "      <td>0.00</td>\n",
       "    </tr>\n",
       "    <tr>\n",
       "      <th>16706</th>\n",
       "      <td>PC</td>\n",
       "      <td>Strategy</td>\n",
       "      <td>Unknown</td>\n",
       "      <td>60.0</td>\n",
       "      <td>E10+</td>\n",
       "      <td>0.01</td>\n",
       "      <td>0.00</td>\n",
       "      <td>0.01</td>\n",
       "      <td>0.00</td>\n",
       "      <td>0.00</td>\n",
       "    </tr>\n",
       "    <tr>\n",
       "      <th>16709</th>\n",
       "      <td>PC</td>\n",
       "      <td>Adventure</td>\n",
       "      <td>DTP Entertainment</td>\n",
       "      <td>63.0</td>\n",
       "      <td>RP</td>\n",
       "      <td>0.01</td>\n",
       "      <td>0.00</td>\n",
       "      <td>0.01</td>\n",
       "      <td>0.00</td>\n",
       "      <td>0.00</td>\n",
       "    </tr>\n",
       "  </tbody>\n",
       "</table>\n",
       "<p>8133 rows × 10 columns</p>\n",
       "</div>"
      ],
      "text/plain": [
       "      Platform      Genre              Publisher  Critic_Score Rating  \\\n",
       "0          Wii     Sports               Nintendo          76.0      E   \n",
       "2          Wii     Racing               Nintendo          82.0      E   \n",
       "3          Wii     Sports               Nintendo          80.0      E   \n",
       "6           DS   Platform               Nintendo          89.0      E   \n",
       "7          Wii       Misc               Nintendo          58.0      E   \n",
       "...        ...        ...                    ...           ...    ...   \n",
       "16700       PC    Shooter              Destineer          61.0      T   \n",
       "16701       GC     Puzzle                Ubisoft          53.0      E   \n",
       "16702       DS     Puzzle  Majesco Entertainment          48.0      E   \n",
       "16706       PC   Strategy                Unknown          60.0   E10+   \n",
       "16709       PC  Adventure      DTP Entertainment          63.0     RP   \n",
       "\n",
       "       Global_Sales  NA_Sales  EU_Sales  JP_Sales  Other_Sales  \n",
       "0             82.53     41.36     28.96      3.77         8.45  \n",
       "2             35.52     15.68     12.76      3.79         3.29  \n",
       "3             32.77     15.61     10.93      3.28         2.95  \n",
       "6             29.80     11.28      9.14      6.50         2.88  \n",
       "7             28.92     13.96      9.18      2.93         2.84  \n",
       "...             ...       ...       ...       ...          ...  \n",
       "16700          0.01      0.01      0.00      0.00         0.00  \n",
       "16701          0.01      0.01      0.00      0.00         0.00  \n",
       "16702          0.01      0.01      0.00      0.00         0.00  \n",
       "16706          0.01      0.00      0.01      0.00         0.00  \n",
       "16709          0.01      0.00      0.01      0.00         0.00  \n",
       "\n",
       "[8133 rows x 10 columns]"
      ]
     },
     "execution_count": 22,
     "metadata": {},
     "output_type": "execute_result"
    }
   ],
   "source": [
    "g"
   ]
  },
  {
   "cell_type": "code",
   "execution_count": 23,
   "metadata": {
    "colab": {
     "base_uri": "https://localhost:8080/"
    },
    "id": "PHC6z1G2zMKy",
    "outputId": "45e4287d-ca86-4f3a-f4b2-aa1fe0e5ced7"
   },
   "outputs": [
    {
     "data": {
      "text/plain": [
       "Platform        0.0\n",
       "Genre           0.0\n",
       "Publisher       0.0\n",
       "Critic_Score    0.0\n",
       "Rating          0.0\n",
       "Global_Sales    0.0\n",
       "NA_Sales        0.0\n",
       "EU_Sales        0.0\n",
       "JP_Sales        0.0\n",
       "Other_Sales     0.0\n",
       "dtype: float64"
      ]
     },
     "execution_count": 23,
     "metadata": {},
     "output_type": "execute_result"
    }
   ],
   "source": [
    "g.isnull().sum()/len(games)"
   ]
  },
  {
   "cell_type": "code",
   "execution_count": 24,
   "metadata": {
    "id": "V8RxTOMg5doZ"
   },
   "outputs": [],
   "source": [
    "#l=g.groupby([\"tolist().sort()\"]).count()[\"Global_Sales\"]\n",
    "#k=l.tolist().sort()"
   ]
  },
  {
   "cell_type": "code",
   "execution_count": 25,
   "metadata": {
    "colab": {
     "base_uri": "https://localhost:8080/"
    },
    "id": "q_mBGIgF7qUC",
    "outputId": "aee69d35-1ca8-4c78-e23a-77635f2af6b5"
   },
   "outputs": [
    {
     "data": {
      "text/plain": [
       "304"
      ]
     },
     "execution_count": 25,
     "metadata": {},
     "output_type": "execute_result"
    }
   ],
   "source": [
    "l=g[\"Publisher\"]\n",
    "ls=g[\"Publisher\"].nunique()\n",
    "l.count()\n",
    "ls"
   ]
  },
  {
   "cell_type": "code",
   "execution_count": 26,
   "metadata": {
    "colab": {
     "base_uri": "https://localhost:8080/"
    },
    "id": "qj7PA-dA_xKr",
    "outputId": "ac3123da-8dbd-4ff9-b1b5-38831b7d29be"
   },
   "outputs": [
    {
     "name": "stdout",
     "output_type": "stream",
     "text": [
      "['Nintendo', 'Nintendo', 'Nintendo', 'Nintendo', 'Nintendo', 'Nintendo', 'Nintendo', 'Nintendo', 'Microsoft Game Studios', 'Nintendo', 'Take-Two Interactive', 'Take-Two Interactive', 'Nintendo', 'Take-Two Interactive', 'Take-Two Interactive', 'Nintendo', 'Sony Computer Entertainment', 'Activision', 'Activision', 'Activision', 'Activision', 'Activision', 'Activision', 'Take-Two Interactive', 'Nintendo', 'Nintendo', 'Activision', 'Take-Two Interactive', 'Nintendo', 'Microsoft Game Studios', 'Sony Computer Entertainment', 'Nintendo', 'Take-Two Interactive', 'Sony Computer Entertainment', 'Nintendo', 'Sony Computer Entertainment', 'Activision', 'Take-Two Interactive', 'Activision', 'Ubisoft', 'Nintendo', 'Microsoft Game Studios', 'Sony Computer Entertainment', 'Microsoft Game Studios', 'Sony Computer Entertainment', 'Ubisoft', 'Activision', 'Activision', 'Nintendo', 'Nintendo', 'Bethesda Softworks', 'Electronic Arts', 'Microsoft Game Studios', 'Nintendo', 'Nintendo', 'Electronic Arts', 'Sony Computer Entertainment', 'Electronic Arts', 'SquareSoft', 'Nintendo', 'Take-Two Interactive', 'Activision', 'Electronic Arts', 'Nintendo', 'Activision', 'Electronic Arts', 'Electronic Arts', 'Ubisoft', 'Electronic Arts', 'Bethesda Softworks', 'Sony Computer Entertainment', 'Nintendo', 'Sony Computer Entertainment', 'Nintendo', 'Nintendo', 'Electronic Arts', 'Electronic Arts', 'Ubisoft', 'Microsoft Game Studios', 'Sony Computer Entertainment', 'Activision', 'Sony Computer Entertainment', 'Nintendo', 'Take-Two Interactive', 'Electronic Arts', 'Ubisoft', 'Nintendo', 'Microsoft Game Studios', 'Bethesda Softworks', 'Nintendo', 'Sony Computer Entertainment', 'Microsoft Game Studios', 'Take-Two Interactive', 'Nintendo', 'Activision', 'GT Interactive', 'Microsoft Game Studios', 'Microsoft Game Studios', 'Microsoft Game Studios', 'Electronic Arts', 'Konami Digital Entertainment', 'Konami Digital Entertainment', 'Konami Digital Entertainment', 'Square Enix', 'Sony Computer Entertainment Europe', 'Sony Computer Entertainment', 'Virgin Interactive', 'Nintendo', 'Sony Computer Entertainment', 'Activision', 'LucasArts', '505 Games', 'Ubisoft', 'Ubisoft', 'Microsoft Game Studios', 'Nintendo', 'Capcom', 'Warner Bros. Interactive Entertainment', 'Take-Two Interactive', 'Nintendo', 'Universal Interactive', 'Activision', 'Sony Computer Entertainment', 'Square Enix', 'SquareSoft', 'Ubisoft', 'Electronic Arts', 'Activision', 'Ubisoft', 'Eidos Interactive', 'Electronic Arts', 'Nintendo', 'Square Enix', 'Nintendo', 'Electronic Arts', 'Activision', 'Electronic Arts', 'RedOctane', 'Microsoft Game Studios', 'Capcom', 'Nintendo', 'Electronic Arts', 'Virgin Interactive', 'Take-Two Interactive', 'Activision', 'Activision', 'Nintendo', 'Bethesda Softworks', 'Sony Computer Entertainment', 'Electronic Arts', 'Activision', 'Ubisoft', 'Sony Computer Entertainment', 'Sony Computer Entertainment', 'LucasArts', 'Atari', 'Warner Bros. Interactive Entertainment', 'Activision', 'Electronic Arts', 'Eidos Interactive', 'Nintendo', 'Sony Computer Entertainment', 'Nintendo', 'Activision', 'Nintendo', 'Microsoft Game Studios', 'Electronic Arts', 'Activision', 'Electronic Arts', 'Microsoft Game Studios', 'Activision', 'Activision', 'Sony Computer Entertainment', 'Nintendo', 'Nintendo', 'Activision', 'Konami Digital Entertainment', 'Take-Two Interactive', 'Electronic Arts', 'Ubisoft', 'Sony Computer Entertainment', 'Square Enix', 'Nintendo', 'Microsoft Game Studios', 'Namco Bandai Games', 'Eidos Interactive', 'Konami Digital Entertainment', 'Ubisoft', 'Bethesda Softworks', 'Electronic Arts', 'Sony Computer Entertainment', 'Electronic Arts', 'Sony Computer Entertainment', 'Sony Computer Entertainment', 'Ubisoft', 'Capcom', 'Electronic Arts', 'Vivendi Games', 'Activision', 'Electronic Arts', 'Sony Computer Entertainment', 'Bethesda Softworks', 'Microsoft Game Studios', 'Take-Two Interactive', 'Ubisoft', 'Namco Bandai Games', 'Ubisoft', 'Namco Bandai Games', 'Electronic Arts', 'Namco Bandai Games', 'Ubisoft', 'Warner Bros. Interactive Entertainment', 'Nintendo', 'Bethesda Softworks', 'Nintendo', 'Electronic Arts', 'Activision', 'Nintendo', 'Bethesda Softworks', 'Take-Two Interactive', 'Namco Bandai Games', 'Sony Computer Entertainment', 'Konami Digital Entertainment', 'Sony Computer Entertainment', 'Activision', 'Nintendo', 'Ubisoft', 'Nintendo', 'Activision', 'Electronic Arts', 'Electronic Arts', 'Nintendo', 'Sony Computer Entertainment', 'Ubisoft', 'Electronic Arts', 'Activision', 'Electronic Arts', 'Take-Two Interactive', 'Sony Computer Entertainment', 'Sony Computer Entertainment', 'Konami Digital Entertainment', 'Capcom', 'Activision', 'Electronic Arts', 'LucasArts', 'Electronic Arts', 'Nintendo', 'Electronic Arts', 'LucasArts', '505 Games', 'Take-Two Interactive', 'Sony Computer Entertainment', 'Electronic Arts', 'Electronic Arts', 'Electronic Arts', 'Ubisoft', 'Capcom', 'Ubisoft', 'Electronic Arts', 'Electronic Arts', 'Eidos Interactive', 'Electronic Arts', 'Electronic Arts', 'Activision', 'Nintendo', 'Take-Two Interactive', 'Namco Bandai Games', 'Take-Two Interactive', 'Konami Digital Entertainment', 'Activision', 'Electronic Arts', 'Sony Computer Entertainment', 'Sony Computer Entertainment', 'Ubisoft', 'Warner Bros. Interactive Entertainment', 'Activision', 'Ubisoft', 'Electronic Arts', 'LucasArts', 'Nintendo', 'Take-Two Interactive', 'Ubisoft', 'Electronic Arts', 'Microsoft Game Studios', 'Activision', 'Nintendo', 'Electronic Arts', 'Nintendo', 'Electronic Arts', 'Sony Computer Entertainment', 'Microsoft Game Studios', 'Nintendo', 'Sony Computer Entertainment', 'Atari', 'Square Enix', 'MTV Games', 'Take-Two Interactive', 'Sony Computer Entertainment Europe', 'Nintendo', 'Electronic Arts', 'Activision', 'Nintendo', 'Electronic Arts', 'Sega', 'Nintendo', 'Bethesda Softworks', 'Nintendo', 'Ubisoft', 'Nintendo', 'Capcom', 'Electronic Arts', 'Atari', 'Electronic Arts', 'Electronic Arts', 'Warner Bros. Interactive Entertainment', 'Nintendo', 'Electronic Arts', 'Take-Two Interactive', 'Warner Bros. Interactive Entertainment', 'Activision', 'Electronic Arts', 'Sony Computer Entertainment', 'THQ', 'Ubisoft', 'Electronic Arts', 'Sony Computer Entertainment', 'Ubisoft', 'Disney Interactive Studios', 'Take-Two Interactive', 'Atari', 'Electronic Arts', 'Konami Digital Entertainment', 'Capcom', 'Electronic Arts', 'Warner Bros. Interactive Entertainment', 'Sega', 'Eidos Interactive', 'Electronic Arts', 'Electronic Arts', 'Sony Computer Entertainment', 'Atari', 'Capcom', 'Sony Computer Entertainment', 'Nintendo', 'Activision', 'Microsoft Game Studios', 'Sega', 'Konami Digital Entertainment', 'Sega', 'Sony Computer Entertainment', '505 Games', 'Activision', 'Nintendo', 'Electronic Arts', 'Ubisoft', 'Ubisoft', 'Warner Bros. Interactive Entertainment', 'Electronic Arts', 'Take-Two Interactive', 'Nintendo', 'Ubisoft', 'Electronic Arts', 'Sony Computer Entertainment', 'Electronic Arts', 'Sony Computer Entertainment', 'Electronic Arts', 'Activision', 'Electronic Arts', 'Warner Bros. Interactive Entertainment', 'Electronic Arts', 'Sony Computer Entertainment', 'LucasArts', 'Nintendo', 'THQ', 'Namco Bandai Games', 'Sega', 'Nintendo', 'Virgin Interactive', 'Take-Two Interactive', 'Activision', 'Electronic Arts', 'LucasArts', 'Sony Computer Entertainment', 'Electronic Arts', 'Electronic Arts', 'Nintendo', 'Nintendo', 'Activision', 'Electronic Arts', 'Microsoft Game Studios', 'Activision', 'Electronic Arts', 'Ubisoft', 'Electronic Arts', 'Electronic Arts', 'Square Enix', 'Take-Two Interactive', 'Electronic Arts', 'Sega', 'Microsoft Game Studios', 'Take-Two Interactive', 'Electronic Arts', 'Electronic Arts', 'Electronic Arts', 'Sony Computer Entertainment', 'Electronic Arts', 'Nintendo', 'Electronic Arts', 'Nintendo', 'THQ', 'LucasArts', 'Electronic Arts', 'Capcom', 'Sega', 'Electronic Arts', 'Electronic Arts', 'Nintendo', 'Sony Computer Entertainment', 'Electronic Arts', 'Acclaim Entertainment', 'Nintendo', 'Take-Two Interactive', 'Activision', 'Konami Digital Entertainment', 'Activision', 'Midway Games', 'Midway Games', 'Sony Computer Entertainment', 'Nintendo', 'Disney Interactive Studios', 'Electronic Arts', 'Take-Two Interactive', 'THQ', 'Sony Computer Entertainment', 'Take-Two Interactive', 'SquareSoft', 'Take-Two Interactive', 'Electronic Arts', 'Red Orb', 'Warner Bros. Interactive Entertainment', 'Activision', 'Electronic Arts', 'Ubisoft', 'THQ', 'Electronic Arts', 'Atari', 'Konami Digital Entertainment', 'Sony Computer Entertainment', 'Electronic Arts', 'Microsoft Game Studios', 'Konami Digital Entertainment', 'RedOctane', 'Electronic Arts', 'Deep Silver', 'Vivendi Games', 'THQ', 'Electronic Arts', 'Activision', '505 Games', 'Electronic Arts', 'Take-Two Interactive', 'Microsoft Game Studios', 'THQ', 'Nintendo', 'LucasArts', 'Capcom', 'Take-Two Interactive', 'Microsoft Game Studios', 'Electronic Arts', 'Electronic Arts', 'NCSoft', 'Nintendo', 'Warner Bros. Interactive Entertainment', 'LucasArts', 'Electronic Arts', 'Konami Digital Entertainment', 'Electronic Arts', 'Warner Bros. Interactive Entertainment', 'Electronic Arts', 'Nintendo', 'Deep Silver', 'Nintendo', 'Nintendo', 'Sega', 'Ubisoft', 'Electronic Arts', 'Capcom', 'Nintendo', 'Electronic Arts', 'Sony Computer Entertainment', 'Activision', 'Sega', 'Sega', 'Activision', 'Nintendo', 'Vivendi Games', 'Square Enix', 'Electronic Arts', 'Take-Two Interactive', 'Ubisoft', 'Nintendo', 'Warner Bros. Interactive Entertainment', 'Ubisoft', 'LucasArts', 'Activision', 'Microsoft Game Studios', 'Electronic Arts', 'Electronic Arts', 'Activision', 'Take-Two Interactive', 'Activision', 'Electronic Arts', 'Konami Digital Entertainment', 'THQ', 'THQ', 'Electronic Arts', 'Ubisoft', 'Square Enix', 'Electronic Arts', 'Warner Bros. Interactive Entertainment', 'Sega', 'Nintendo', 'Activision', 'Square Enix', 'Activision', 'Konami Digital Entertainment', 'SquareSoft', 'Ubisoft', 'Microsoft Game Studios', 'Take-Two Interactive', 'Electronic Arts', 'Tecmo Koei', 'Take-Two Interactive', 'SquareSoft', 'Nintendo', 'Electronic Arts', 'Warner Bros. Interactive Entertainment', 'Take-Two Interactive', 'Capcom', 'Take-Two Interactive', 'Warner Bros. Interactive Entertainment', 'Capcom', 'Activision', 'THQ', 'Square Enix', 'Nintendo', 'MTV Games', 'Valve Software', 'Nintendo', 'Electronic Arts', 'Electronic Arts', 'Konami Digital Entertainment', 'Sony Computer Entertainment', 'THQ', 'Konami Digital Entertainment', 'THQ', 'Namco Bandai Games', 'Square Enix', 'Namco Bandai Games', 'Electronic Arts', 'Infogrames', 'Electronic Arts', 'Sony Computer Entertainment', 'Ubisoft', 'Electronic Arts', 'Nintendo', 'Microsoft Game Studios', 'Take-Two Interactive', 'Electronic Arts', 'Activision', 'Ubisoft', 'Nintendo', 'Namco Bandai Games', 'Ubisoft', 'Electronic Arts', 'Nintendo', 'Electronic Arts', 'Electronic Arts', 'Electronic Arts', 'Midway Games', 'Midway Games', 'Activision', 'Electronic Arts', 'Square Enix', 'Electronic Arts', 'Electronic Arts', 'Universal Interactive', 'Capcom', 'Sony Computer Entertainment', 'Microsoft Game Studios', 'Ubisoft', 'Vivendi Games', 'Capcom', 'Take-Two Interactive', 'Electronic Arts', 'Electronic Arts', 'Nintendo', 'Electronic Arts', 'Electronic Arts', 'Electronic Arts', 'Atari', 'Activision', 'Ubisoft', 'Take-Two Interactive', 'Activision', 'Midway Games', 'Activision', 'THQ', 'Electronic Arts', 'Nintendo', 'THQ', 'Sony Computer Entertainment', 'Activision', 'Electronic Arts', 'Activision', 'Sony Computer Entertainment', 'LucasArts', 'Nintendo', 'Electronic Arts', 'Electronic Arts', 'Warner Bros. Interactive Entertainment', 'Midway Games', 'Midway Games', 'Take-Two Interactive', 'Disney Interactive Studios', 'Nintendo', 'Electronic Arts', 'THQ', 'Electronic Arts', 'Activision', 'Sony Computer Entertainment', 'LucasArts', 'Electronic Arts', 'Square Enix', 'SquareSoft', 'Sony Computer Entertainment', 'Square Enix', 'Take-Two Interactive', 'Warner Bros. Interactive Entertainment', 'Disney Interactive Studios', 'Electronic Arts', 'Ubisoft', 'Nintendo', 'Sega', 'Sony Computer Entertainment', 'Activision', 'Namco Bandai Games', 'Electronic Arts', 'Namco Bandai Games', 'Electronic Arts', 'Konami Digital Entertainment', 'Sega', 'Take-Two Interactive', 'Sony Computer Entertainment', 'Sega', 'Electronic Arts', 'Take-Two Interactive', 'Microsoft Game Studios', 'Bethesda Softworks', 'Nintendo', 'Take-Two Interactive', 'Sony Computer Entertainment', 'Vivendi Games', 'Microsoft Game Studios', 'Square Enix', 'LucasArts', 'THQ', 'THQ', 'Nintendo', 'Electronic Arts', 'Ubisoft', 'Take-Two Interactive', 'Electronic Arts', 'Activision', 'Activision', 'Electronic Arts', 'Square Enix', 'Electronic Arts', 'Microsoft Game Studios', 'Nintendo', 'Konami Digital Entertainment', 'Namco Bandai Games', 'Microsoft Game Studios', 'Capcom', 'Sony Computer Entertainment', 'Electronic Arts', 'Sony Computer Entertainment Europe', 'Nintendo', 'Universal Interactive', 'Square Enix', 'Ubisoft', 'Take-Two Interactive', 'Electronic Arts', 'Ubisoft', 'Activision', 'Bethesda Softworks', 'MTV Games', 'Sony Computer Entertainment Europe', 'Electronic Arts', 'THQ', 'Mindscape', 'Valve', 'Electronic Arts', 'Electronic Arts', 'Hello Games', 'Sony Computer Entertainment', 'Take-Two Interactive', 'Electronic Arts', 'Infogrames', 'Capcom', 'Nintendo', 'Warner Bros. Interactive Entertainment', 'Electronic Arts', 'Sega', 'THQ', 'Take-Two Interactive', 'Electronic Arts', 'Nintendo', 'Namco Bandai Games', 'LucasArts', 'Electronic Arts', 'Electronic Arts', 'Activision', 'Activision', 'Electronic Arts', 'Midway Games', 'Electronic Arts', 'Electronic Arts', 'Activision', 'THQ', 'Sony Computer Entertainment Europe', 'THQ', 'Electronic Arts', 'Ubisoft', 'Midway Games', 'Deep Silver', 'Electronic Arts', 'Warner Bros. Interactive Entertainment', 'Atari', 'Namco Bandai Games', 'Nintendo', 'Nintendo', 'LucasArts', 'Electronic Arts', 'Sony Computer Entertainment', 'Electronic Arts', 'Electronic Arts', 'Electronic Arts', 'Ubisoft', 'Ubisoft', 'Sega', 'Sony Computer Entertainment', 'Nintendo', 'Electronic Arts', 'Activision', 'Sony Computer Entertainment', 'Electronic Arts', 'Take-Two Interactive', 'Microsoft Game Studios', 'Microsoft Game Studios', 'Nintendo', 'Warner Bros. Interactive Entertainment', 'Electronic Arts', 'Square Enix', 'Electronic Arts', 'Nintendo', 'Bethesda Softworks', 'Nintendo', 'THQ', 'Square Enix', 'Konami Digital Entertainment', 'Sega', 'Global Star', 'Activision', 'Ubisoft', 'Nintendo', 'Konami Digital Entertainment', 'Nintendo', 'Square Enix', 'Konami Digital Entertainment', 'Ubisoft', 'Sega', 'Vivendi Games', 'Nintendo', 'Capcom', 'Microsoft Game Studios', 'Electronic Arts', 'Microsoft Game Studios', 'Ubisoft', 'Activision', 'Electronic Arts', 'Gotham Games', 'Nintendo', 'Square Enix', 'Take-Two Interactive', 'Electronic Arts', 'Electronic Arts', 'Take-Two Interactive', 'Nintendo', 'Electronic Arts', 'Disney Interactive Studios', 'Atari', 'Ubisoft', 'Warner Bros. Interactive Entertainment', 'Activision', 'Activision', 'Bethesda Softworks', 'Take-Two Interactive', 'Take-Two Interactive', 'Sony Computer Entertainment', 'Activision', 'Atari', 'Ubisoft', 'Electronic Arts', 'Sony Computer Entertainment', 'Namco Bandai Games', 'Konami Digital Entertainment', 'Bethesda Softworks', 'Nintendo', 'Activision', 'Capcom', 'Electronic Arts', 'Nintendo', 'Electronic Arts', 'Atari', 'Namco Bandai Games', 'Electronic Arts', 'Electronic Arts', 'Electronic Arts', 'Electronic Arts', 'Sega', 'Namco Bandai Games', 'Namco Bandai Games', 'Activision', 'Crave Entertainment', 'THQ', 'Electronic Arts', 'LucasArts', 'MTV Games', 'Nintendo', 'Electronic Arts', 'Electronic Arts', 'Capcom', 'Take-Two Interactive', 'Warner Bros. Interactive Entertainment', 'Square Enix', 'Sega', 'Sony Computer Entertainment', 'THQ', 'Activision', 'Take-Two Interactive', 'Electronic Arts', 'LucasArts', 'Ubisoft', 'Activision', 'Ubisoft', 'Electronic Arts', 'SquareSoft', 'Warner Bros. Interactive Entertainment', 'Midway Games', 'Atari', 'Ubisoft', 'Nintendo', 'THQ', 'Electronic Arts', 'THQ', 'Capcom', 'Take-Two Interactive', 'Capcom', 'Electronic Arts', 'Warner Bros. Interactive Entertainment', 'Take-Two Interactive', 'Sony Computer Entertainment', 'Disney Interactive Studios', 'Ubisoft', 'Electronic Arts', 'Electronic Arts', 'LucasArts', 'Hasbro Interactive', 'THQ', 'Microsoft Game Studios', 'Electronic Arts', 'Nintendo', 'Ubisoft', 'Electronic Arts', 'Sega', 'Take-Two Interactive', 'Electronic Arts', 'Activision', 'Electronic Arts', 'Nintendo', 'Electronic Arts', 'Electronic Arts', 'Electronic Arts', 'Konami Digital Entertainment', 'Ubisoft', 'Square Enix', 'THQ', 'Electronic Arts', 'Sega', 'Activision', 'Sony Computer Entertainment', 'Electronic Arts', 'Electronic Arts', 'Activision', 'LucasArts', 'Electronic Arts', 'Activision', 'Sony Computer Entertainment', 'THQ', 'Codemasters', 'Microsoft Game Studios', 'Electronic Arts', 'Tecmo Koei', 'Warner Bros. Interactive Entertainment', 'Ubisoft', 'Nintendo', 'Activision', 'Microsoft Game Studios', 'Warner Bros. Interactive Entertainment', 'Square Enix', 'Sega', 'Acclaim Entertainment', 'Activision', 'LucasArts', 'Square Enix', 'Square Enix', 'Activision', 'Square Enix', 'Activision', 'Electronic Arts', 'Capcom', 'Namco Bandai Games', 'Ubisoft', 'Electronic Arts', 'Vivendi Games', 'Electronic Arts', 'Sony Computer Entertainment', 'Electronic Arts', 'THQ', 'Electronic Arts', '505 Games', 'Electronic Arts', 'Warner Bros. Interactive Entertainment', 'Sony Computer Entertainment', 'Electronic Arts', 'Electronic Arts', 'Microsoft Game Studios', 'Electronic Arts', 'Electronic Arts', 'Electronic Arts', 'Atari', 'Capcom', 'Ubisoft', 'Nintendo', 'Electronic Arts', 'Square Enix', 'Capcom', 'Activision', 'Ubisoft', 'Codemasters', 'Capcom', 'Nintendo', 'Electronic Arts', 'Capcom', 'Take-Two Interactive', 'Electronic Arts', 'Electronic Arts', 'Microsoft Game Studios', 'Nintendo', 'TDK Mediactive', 'THQ', 'Activision', 'Take-Two Interactive', 'THQ', 'Activision', 'Atari', 'Ubisoft', 'Ubisoft', 'Electronic Arts', 'Bethesda Softworks', 'Warner Bros. Interactive Entertainment', 'Activision', 'Namco Bandai Games', 'Acclaim Entertainment', 'Activision', 'Electronic Arts', 'MTV Games', 'Electronic Arts', 'Nintendo', 'Activision', 'Sony Computer Entertainment', 'Namco Bandai Games', 'Ubisoft', 'Nintendo', 'Warner Bros. Interactive Entertainment', 'Electronic Arts', 'TDK Mediactive', 'Atari', 'Zoo Games', 'Atari', 'Warner Bros. Interactive Entertainment', 'Bethesda Softworks', 'Sega', 'Ubisoft', 'Electronic Arts', 'Bethesda Softworks', 'Sony Oznline Entertainment', 'Warner Bros. Interactive Entertainment', 'Take-Two Interactive', 'Electronic Arts', 'Konami Digital Entertainment', 'Konami Digital Entertainment', 'Activision', 'Warner Bros. Interactive Entertainment', 'Electronic Arts', 'Namco Bandai Games', 'Nintendo', 'Nintendo', 'Warner Bros. Interactive Entertainment', 'Take-Two Interactive', 'Activision', 'Konami Digital Entertainment', 'Nintendo', 'Atari', 'Deep Silver', 'Sega', 'THQ', 'Sega', 'Sony Computer Entertainment', 'THQ', 'Square Enix', 'Electronic Arts', 'Electronic Arts', 'Take-Two Interactive', 'Sega', 'Atari', 'Eidos Interactive', 'Warner Bros. Interactive Entertainment', 'Electronic Arts', 'Deep Silver', 'LucasArts', 'Sony Computer Entertainment', 'Electronic Arts', 'Nintendo', 'Electronic Arts', 'Ubisoft', 'Sony Computer Entertainment', 'Nintendo', 'Atari', 'Eidos Interactive', 'Ubisoft', 'Sony Computer Entertainment', 'RTL', 'Virgin Interactive', 'GT Interactive', 'Namco Bandai Games', 'THQ', 'Warner Bros. Interactive Entertainment', 'Activision', 'Activision', 'Electronic Arts', 'Konami Digital Entertainment', 'Electronic Arts', 'Microsoft Game Studios', 'Universal Interactive', 'Atari', 'Ubisoft', 'Warner Bros. Interactive Entertainment', 'Nintendo', 'Nintendo', 'Activision', 'Electronic Arts', 'D3Publisher', 'Electronic Arts', 'Namco Bandai Games', 'Nintendo', 'Nintendo', 'Nintendo', 'Take-Two Interactive', 'Sega', 'Unknown', 'THQ', 'Microsoft Game Studios', 'Activision', 'Square Enix', 'LucasArts', 'Capcom', 'Sony Computer Entertainment', 'Take-Two Interactive', 'Virgin Interactive', 'Electronic Arts', 'Namco Bandai Games', 'Electronic Arts', 'Electronic Arts', 'Sega', 'Electronic Arts', 'Black Label Games', 'Electronic Arts', 'SouthPeak Games', 'Codemasters', 'Nintendo', 'Atari', 'THQ', 'Electronic Arts', 'Electronic Arts', 'THQ', 'Warner Bros. Interactive Entertainment', 'Nintendo', 'THQ', 'Konami Digital Entertainment', 'Activision', 'Vivendi Games', 'Eidos Interactive', 'THQ', 'Activision', 'Nintendo', 'Konami Digital Entertainment', 'Activision', 'Warner Bros. Interactive Entertainment', 'Sega', 'Ubisoft', 'Activision', 'Namco Bandai Games', 'Activision', 'Electronic Arts', 'Capcom', 'LucasArts', 'Nintendo', 'THQ', 'Zoo Digital Publishing', 'Take-Two Interactive', 'Bethesda Softworks', 'THQ', 'Electronic Arts', 'Electronic Arts', 'Electronic Arts', 'Nintendo', 'LucasArts', 'Take-Two Interactive', 'Ubisoft', 'Sony Computer Entertainment', 'Electronic Arts', 'Sega', 'Electronic Arts', 'Ubisoft', 'Electronic Arts', 'Square Enix', 'City Interactive', 'Sega', 'Sega', 'Midway Games', 'Electronic Arts', 'Empire Interactive', 'Sega', 'Electronic Arts', 'Electronic Arts', 'Nintendo', 'Activision', 'THQ', 'Take-Two Interactive', 'Take-Two Interactive', 'Activision', 'Sony Computer Entertainment', 'SquareSoft', 'Eidos Interactive', 'Take-Two Interactive', 'Nintendo', 'Activision', 'Konami Digital Entertainment', 'Electronic Arts', 'Sony Computer Entertainment', 'Microsoft Game Studios', 'Atari', 'Namco Bandai Games', 'Microsoft Game Studios', 'Electronic Arts', 'THQ', 'Ubisoft', 'LucasArts', 'Ubisoft', 'Electronic Arts', 'Activision', 'Sega', 'Nintendo', 'Sony Computer Entertainment', 'Nintendo', 'Activision', 'Ubisoft', 'Sony Computer Entertainment', 'Sony Computer Entertainment', 'Ubisoft', 'Activision', 'Ubisoft', 'Activision', 'Russel', 'Sega', 'Atlus', 'Activision', 'Microsoft Game Studios', 'MTV Games', 'Electronic Arts', 'Microsoft Game Studios', 'RedOctane', 'Electronic Arts', 'Electronic Arts', 'Ubisoft', 'Nintendo', 'Take-Two Interactive', 'Namco Bandai Games', 'Konami Digital Entertainment', 'Mastertronic', 'Electronic Arts', 'Sony Computer Entertainment', 'Nintendo', 'Nintendo', 'Electronic Arts', 'Codemasters', 'Electronic Arts', 'Sony Computer Entertainment', 'Electronic Arts', 'Sega', 'Activision', 'Atari', 'Electronic Arts', 'Sega', 'Activision', 'Slightly Mad Studios', 'Electronic Arts', 'Sega', 'Electronic Arts', 'Sega', 'LucasArts', 'THQ', 'LucasArts', 'Electronic Arts', 'Electronic Arts', 'Electronic Arts', 'Sony Computer Entertainment', 'Sega', 'Sega', 'Electronic Arts', 'Ubisoft', 'Microsoft Game Studios', 'LucasArts', 'Atari', 'Nintendo', 'Electronic Arts', 'Electronic Arts', 'LucasArts', 'Activision', 'Electronic Arts', 'Ubisoft', 'Eidos Interactive', 'Konami Digital Entertainment', 'Namco Bandai Games', 'Electronic Arts', 'Electronic Arts', 'Sony Computer Entertainment', 'Namco Bandai Games', 'Square Enix', 'Midway Games', 'Electronic Arts', 'Take-Two Interactive', 'Electronic Arts', 'Electronic Arts', 'Activision', 'Take-Two Interactive', 'Electronic Arts', 'Universal Interactive', 'Activision', 'Sega', 'Activision', 'Vivendi Games', 'Nintendo', 'Activision', 'Play It', 'THQ', 'Electronic Arts', 'Sony Computer Entertainment', 'Codemasters', 'Sega', 'Codemasters', 'Activision', 'Capcom', 'Sony Computer Entertainment', 'Take-Two Interactive', 'Sega', 'Warner Bros. Interactive Entertainment', 'Electronic Arts', 'Acclaim Entertainment', 'Electronic Arts', 'Microsoft Game Studios', 'Sega', 'Sony Computer Entertainment', 'Electronic Arts', 'Eidos Interactive', 'THQ', 'Square Enix', 'Acclaim Entertainment', 'Nintendo', 'Konami Digital Entertainment', 'Sega', 'Nintendo', 'Sega', 'Electronic Arts', 'Electronic Arts', 'Codemasters', 'Bethesda Softworks', 'THQ', 'Sony Computer Entertainment', 'THQ', 'Disney Interactive Studios', 'Ubisoft', 'Nintendo', 'Warner Bros. Interactive Entertainment', 'Electronic Arts', 'Nintendo', 'Activision', 'Eidos Interactive', 'Virgin Interactive', 'Electronic Arts', 'Sony Computer Entertainment', 'Electronic Arts', 'Electronic Arts', 'Atari', 'Activision', 'Take-Two Interactive', 'Ubisoft', 'Sega', 'Disney Interactive Studios', 'Ubisoft', 'Activision', 'Electronic Arts', 'Activision', 'Electronic Arts', 'Sega', 'MTV Games', 'Electronic Arts', 'Nintendo', 'THQ', 'Tomy Corporation', 'Atari', 'Electronic Arts', 'Tecmo Koei', 'Ubisoft', 'Ubisoft', 'Ubisoft', 'Tecmo Koei', 'Ubisoft', 'Namco Bandai Games', 'Empire Interactive', 'Electronic Arts', 'Sony Computer Entertainment', 'Namco Bandai Games', 'Sony Computer Entertainment', 'Tecmo Koei', 'Ubisoft', 'Microsoft Game Studios', 'Ubisoft', 'Electronic Arts', 'THQ', 'Nintendo', 'Ubisoft', 'GT Interactive', 'Sony Computer Entertainment', 'Codemasters', 'Activision', 'Sega', 'Sony Computer Entertainment', 'Capcom', 'Namco Bandai Games', 'Namco Bandai Games', 'THQ', 'Ubisoft', 'Take-Two Interactive', 'Konami Digital Entertainment', 'Electronic Arts', 'Namco Bandai Games', 'Bethesda Softworks', 'Nintendo', 'THQ', 'THQ', 'Electronic Arts', 'Unknown', 'Ubisoft', 'Take-Two Interactive', 'Electronic Arts', 'Take-Two Interactive', 'Electronic Arts', 'Nintendo', 'Electronic Arts', 'Disney Interactive Studios', 'Namco Bandai Games', 'Electronic Arts', 'Take-Two Interactive', 'Electronic Arts', 'Electronic Arts', 'THQ', 'Activision', 'Activision', 'Warner Bros. Interactive Entertainment', 'LucasArts', 'Electronic Arts', 'Sony Computer Entertainment', 'Ubisoft', 'Take-Two Interactive', 'Electronic Arts', 'Electronic Arts', 'Focus Home Interactive', 'Activision', 'THQ', 'Sony Computer Entertainment', 'Midway Games', 'Namco Bandai Games', '505 Games', 'Global Star', 'Sony Computer Entertainment', 'Nintendo', 'Nintendo', 'Play It', 'Ubisoft', 'Ubisoft', 'Sega', 'THQ', 'Sony Computer Entertainment', 'Konami Digital Entertainment', 'Sega', 'Ubisoft', 'Electronic Arts', 'Ubisoft', 'Electronic Arts', 'Capcom', 'Disney Interactive Studios', 'Sony Computer Entertainment', 'THQ', 'Nintendo', 'Konami Digital Entertainment', 'Ubisoft', 'Activision', 'Electronic Arts', 'Sega', 'THQ', 'Electronic Arts', 'Electronic Arts', 'Activision', 'Take-Two Interactive', 'Ubisoft', 'Sony Computer Entertainment', 'Electronic Arts', 'Namco Bandai Games', 'Electronic Arts', 'Electronic Arts', 'Activision', 'Electronic Arts', 'Sony Computer Entertainment', 'Sony Computer Entertainment', 'Nintendo', 'Activision', 'Unknown', 'Sega', 'Sony Computer Entertainment', 'THQ', 'Game Factory', 'Square Enix', 'Codemasters', 'Warner Bros. Interactive Entertainment', 'Activision', 'Ubisoft', 'Ubisoft', 'Warner Bros. Interactive Entertainment', 'Ubisoft', 'Take-Two Interactive', 'Konami Digital Entertainment', 'Nintendo', 'Titus', 'Electronic Arts', 'Electronic Arts', 'THQ', 'Capcom', 'Sony Computer Entertainment', 'Ubisoft', 'Ubisoft', 'Sony Computer Entertainment', 'THQ', 'Electronic Arts', 'Nintendo', 'THQ', 'Sega', 'Microsoft Game Studios', 'Marvelous Entertainment', 'Activision', 'Electronic Arts', 'Electronic Arts', 'Ubisoft', 'Warner Bros. Interactive Entertainment', 'Genki', 'Nintendo', 'Codemasters', 'Tecmo Koei', 'Take-Two Interactive', 'Unknown', 'Electronic Arts', 'Sega', 'Sega', 'Codemasters', 'Electronic Arts', 'Microsoft Game Studios', 'Capcom', 'Square Enix', 'Sony Computer Entertainment', 'Activision', 'Electronic Arts', 'Electronic Arts', 'Namco Bandai Games', 'THQ', 'Warner Bros. Interactive Entertainment', 'Bethesda Softworks', 'Sony Computer Entertainment', 'THQ', 'Electronic Arts', 'Sega', 'Activision', 'Electronic Arts', 'Disney Interactive Studios', 'Warner Bros. Interactive Entertainment', 'Activision', 'Activision', 'Electronic Arts', 'Electronic Arts', 'Activision', 'Unknown', 'THQ', 'Konami Digital Entertainment', 'Sony Computer Entertainment', 'Electronic Arts', 'Electronic Arts', 'Nintendo', 'Nintendo', 'Midway Games', 'Sony Computer Entertainment', 'THQ', 'Sony Computer Entertainment', 'Sega', 'Disney Interactive Studios', 'Sony Computer Entertainment', 'Activision', 'Electronic Arts', 'Electronic Arts', 'Activision', 'Nintendo', 'Electronic Arts', 'Sega', 'Electronic Arts', 'Activision', 'Square Enix', 'Codemasters', 'Ubisoft', 'Take-Two Interactive', 'Square Enix', 'Ubisoft', 'Ubisoft', 'Capcom', 'Sega', 'LucasArts', 'Take-Two Interactive', 'MTV Games', 'THQ', 'Global Star', 'Take-Two Interactive', 'Microsoft Game Studios', 'Electronic Arts', 'TalonSoft', 'Codemasters', 'Ubisoft', 'Square Enix ', 'Electronic Arts', 'Square Enix', 'Sega', 'Ubisoft', 'Sony Computer Entertainment', 'Activision', 'Codemasters', 'Codemasters', 'THQ', 'Electronic Arts', 'SCi', 'Electronic Arts', '505 Games', 'Ubisoft', 'Crave Entertainment', 'Tecmo Koei', 'Electronic Arts', 'Electronic Arts', 'Sony Computer Entertainment', 'Disney Interactive Studios', 'Atari', 'Activision', 'Nintendo', 'Konami Digital Entertainment', 'Rage Software', 'Empire Interactive', 'Activision', 'Sony Computer Entertainment', 'Tecmo Koei', 'THQ', 'Electronic Arts', 'Eidos Interactive', 'Take-Two Interactive', 'Electronic Arts', 'Electronic Arts', 'Atari', 'Namco Bandai Games', 'Ubisoft Annecy', 'THQ', 'Acclaim Entertainment', 'Nintendo', 'Virgin Interactive', 'Nintendo', 'Electronic Arts', 'Sega', 'Electronic Arts', 'THQ', 'Activision', 'Warner Bros. Interactive Entertainment', 'Namco Bandai Games', 'Sony Computer Entertainment', 'THQ', 'Nintendo', 'Take-Two Interactive', 'Acclaim Entertainment', 'Electronic Arts', 'Empire Interactive', 'Sony Computer Entertainment', 'Sega', 'Electronic Arts', 'Electronic Arts', '505 Games', 'Nintendo', 'Electronic Arts', 'Ubisoft', 'Electronic Arts', 'THQ', 'Unknown', 'Namco Bandai Games', 'Take-Two Interactive', 'Disney Interactive Studios', 'Electronic Arts', 'Microsoft Game Studios', 'Electronic Arts', 'THQ', 'Sony Computer Entertainment', 'Unknown', 'Electronic Arts', 'Capcom', 'Take-Two Interactive', 'Namco Bandai Games', 'Electronic Arts', 'Activision', 'Electronic Arts', 'Activision', 'Activision', 'Activision', 'Rising Star Games', 'Activision', 'Electronic Arts', 'Scholastic Inc.', 'Microsoft Game Studios', 'Midway Games', 'Atlus', 'Capcom', 'Warner Bros. Interactive Entertainment', 'Midway Games', 'Microsoft Game Studios', 'Namco Bandai Games', 'Electronic Arts', 'Nintendo', 'Sony Computer Entertainment', 'Enix Corporation', 'Ubisoft', 'Sony Computer Entertainment', 'Konami Digital Entertainment', 'Ubisoft', 'Electronic Arts', 'Electronic Arts', 'Activision', 'Electronic Arts', 'Namco Bandai Games', 'Sony Computer Entertainment', 'Sega', 'LucasArts', 'Eidos Interactive', 'Level 5', 'Koch Media', 'Square EA', 'Codemasters', 'Ubisoft', 'Hudson Soft', 'Sony Computer Entertainment Europe', 'Konami Digital Entertainment', 'Activision', 'Square Enix', 'Electronic Arts', 'Ubisoft', 'Electronic Arts', 'Atari', 'Activision', 'LucasArts', 'Konami Digital Entertainment', 'Ubisoft', 'Capcom', 'Take-Two Interactive', 'THQ', 'Electronic Arts', 'Activision', 'Konami Digital Entertainment', 'Ubisoft', 'Electronic Arts', 'Capcom', 'Konami Digital Entertainment', 'Microsoft Game Studios', 'Activision', 'Electronic Arts', 'Electronic Arts', 'Electronic Arts', 'Square Enix', 'City Interactive', 'Sony Computer Entertainment', 'Take-Two Interactive', 'Microsoft Game Studios', 'Electronic Arts', 'Vivendi Games', 'Ubisoft', 'Namco Bandai Games', 'Nintendo', 'Electronic Arts', 'Deep Silver', 'LucasArts', 'Square Enix', 'THQ', 'Take-Two Interactive', 'Take-Two Interactive', 'Electronic Arts', 'Activision', 'Ubisoft', 'Sega', 'Microsoft Game Studios', 'Sega', 'Electronic Arts', 'Microsoft Game Studios', 'Electronic Arts', 'Electronic Arts', 'Ubisoft', 'Capcom', 'THQ', 'THQ', 'THQ', 'Sega', 'Capcom', 'Nintendo', 'Acclaim Entertainment', 'Atari', 'Nintendo', 'Namco Bandai Games', 'Sony Computer Entertainment', 'Nintendo', 'Sega', 'Nintendo', 'Atari', 'Konami Digital Entertainment', 'Electronic Arts', 'Nintendo', 'Nintendo', 'LucasArts', 'Sony Computer Entertainment', 'Electronic Arts', 'Midway Games', 'Disney Interactive Studios', 'Activision', 'Valve Software', 'Take-Two Interactive', 'LucasArts', 'Electronic Arts', 'THQ', 'Nintendo', 'Capcom', 'Electronic Arts', 'Sony Computer Entertainment', 'Konami Digital Entertainment', 'Take-Two Interactive', 'THQ', 'Nintendo', 'Activision', 'THQ', 'Warner Bros. Interactive Entertainment', 'Namco Bandai Games', 'Activision', 'Konami Digital Entertainment', 'Konami Digital Entertainment', 'Activision', 'Electronic Arts', 'Ubisoft', 'Capcom', 'Electronic Arts', 'Touchstone', 'Konami Digital Entertainment', 'Square Enix', 'Electronic Arts', 'Activision', 'Acclaim Entertainment', 'Disney Interactive Studios', 'Electronic Arts', 'Midway Games', 'Electronic Arts', 'Namco Bandai Games', 'Sega', 'Ubisoft', 'Activision', 'Take-Two Interactive', 'Capcom', 'Ubisoft', 'Electronic Arts', 'THQ', 'Namco Bandai Games', 'Atari', 'Electronic Arts', 'Atari', 'Sony Computer Entertainment', 'Warner Bros. Interactive Entertainment', 'Atari', 'Nintendo', 'Activision', 'Electronic Arts', 'Sega', 'Activision', 'Disney Interactive Studios', 'Electronic Arts', 'Nintendo', 'Rising Star Games', 'THQ', 'Nintendo', 'Square Enix', 'Atari', 'Atlus', 'Bethesda Softworks', 'Electronic Arts', 'Electronic Arts', 'THQ', 'Warner Bros. Interactive Entertainment', 'Namco Bandai Games', 'Ubisoft', 'Warner Bros. Interactive Entertainment', 'Namco Bandai Games', 'Codemasters', 'Electronic Arts', 'Rising Star Games', 'Ubisoft', 'Activision', 'Electronic Arts', 'Ubisoft', 'Sega', 'Electronic Arts', 'Square Enix', 'Electronic Arts', 'Activision', 'Electronic Arts', 'Spike', 'Nippon Ichi Software', 'Sony Computer Entertainment America', 'Activision', 'Nintendo', 'Electronic Arts', 'Sony Computer Entertainment', 'Take-Two Interactive', 'Unknown', 'Atari', 'Namco Bandai Games', 'Codemasters', 'Namco Bandai Games', 'Sony Computer Entertainment', 'THQ', 'Activision', 'Electronic Arts', 'Codemasters', 'Electronic Arts', 'Electronic Arts', 'Electronic Arts', 'Take-Two Interactive', 'D3Publisher', 'Sega', 'Electronic Arts', 'Eidos Interactive', 'Electronic Arts', 'Jester Interactive', 'Atari', 'Acclaim Entertainment', 'Konami Digital Entertainment', 'Universal Interactive', 'THQ', 'THQ', 'Electronic Arts', 'Electronic Arts', 'Electronic Arts', 'Namco Bandai Games', 'Tecmo Koei', 'Electronic Arts', 'Activision', 'Electronic Arts', 'Square Enix', 'SouthPeak Games', 'Activision', 'Activision', 'Electronic Arts', 'Activision', 'Activision', 'Capcom', 'Sony Computer Entertainment', 'Deep Silver', 'Electronic Arts', 'Majesco Entertainment', 'Atari', 'Microsoft Game Studios', 'Square Enix', 'Electronic Arts', 'Warner Bros. Interactive Entertainment', 'Electronic Arts', 'Nintendo', 'Electronic Arts', 'Illusion Softworks', 'Sony Computer Entertainment', 'Namco Bandai Games', 'Sony Computer Entertainment', 'Eidos Interactive', 'Konami Digital Entertainment', 'Ubisoft', 'Nintendo', 'Disney Interactive Studios', 'Activision', 'Konami Digital Entertainment', 'Warner Bros. Interactive Entertainment', 'Microsoft Game Studios', 'Midway Games', 'Ubisoft', 'THQ', 'Nintendo', 'Atari', 'Electronic Arts', 'Electronic Arts', 'Electronic Arts', 'Electronic Arts', 'Ubisoft', 'Electronic Arts', 'Electronic Arts', 'Take-Two Interactive', 'Interplay', 'Activision', '505 Games', 'Atari', 'Electronic Arts', 'THQ', 'Square Enix', 'Electronic Arts', 'Sony Computer Entertainment', 'Tomy Corporation', '505 Games', 'Ubisoft', 'Sony Computer Entertainment', 'Konami Digital Entertainment', 'Sega', 'Electronic Arts', 'Electronic Arts', 'Atari', 'Bethesda Softworks', 'THQ', 'Warner Bros. Interactive Entertainment', 'Midway Games', 'Nintendo', 'Activision', 'Unknown', 'Activision', 'Electronic Arts', 'Bethesda Softworks', 'Metro 3D', 'Activision', 'Warner Bros. Interactive Entertainment', 'Touchstone', '505 Games', 'Ubisoft', 'Midway Games', 'Nintendo', 'Electronic Arts', 'Disney Interactive Studios', 'Take-Two Interactive', 'Electronic Arts', 'Square Enix', 'Activision', 'Ubisoft', 'THQ', 'Codemasters', 'Activision', 'Take-Two Interactive', 'Sony Computer Entertainment', 'Electronic Arts', 'Electronic Arts', 'THQ', 'Atari', 'Activision', 'Konami Digital Entertainment', 'Electronic Arts', 'Nintendo', 'Capcom', 'Electronic Arts', 'Sega', 'Ubisoft', 'Electronic Arts', 'Take-Two Interactive', 'THQ', 'Warner Bros. Interactive Entertainment', 'Ubisoft', 'TDK Mediactive', 'Konami Digital Entertainment', 'Namco Bandai Games', 'Ubisoft Annecy', 'Disney Interactive Studios', 'Namco Bandai Games', 'Ubisoft', 'Warner Bros. Interactive Entertainment', 'Warner Bros. Interactive Entertainment', 'Activision', 'Sony Computer Entertainment', 'Ubisoft', 'Square Enix', 'Nintendo', 'Disney Interactive Studios', 'Microsoft Game Studios', 'Nintendo', 'Ubisoft', 'Electronic Arts', 'Warner Bros. Interactive Entertainment', 'Electronic Arts', 'Nintendo', 'Nintendo', 'Nintendo', 'Square Enix', 'Sony Online Entertainment', 'Electronic Arts', 'THQ', 'Electronic Arts', 'Activision', 'THQ', 'Focus Home Interactive', 'Take-Two Interactive', 'Vivendi Games', 'Ubisoft', 'Electronic Arts', 'Vivendi Games', 'Vivendi Games', 'Warner Bros. Interactive Entertainment', 'Take-Two Interactive', 'THQ', 'Electronic Arts', 'Take-Two Interactive', 'Square Enix', 'Electronic Arts', 'Activision', 'Electronic Arts', 'Ubisoft', 'Sega', 'Eidos Interactive', 'Capcom', 'Capcom', 'THQ', 'Rondomedia', 'Bethesda Softworks', 'Konami Digital Entertainment', 'Ubisoft', 'Namco Bandai Games', 'Electronic Arts', 'Tecmo Koei', 'Take-Two Interactive', 'Activision', 'Capcom', 'Activision', 'Sony Computer Entertainment', 'LucasArts', 'MTV Games', 'Electronic Arts', 'Activision', 'Electronic Arts', 'Electronic Arts', 'Electronic Arts', 'Ubisoft', 'Electronic Arts', 'Sega', 'Sony Computer Entertainment', 'THQ', 'Activision', 'Activision', 'Electronic Arts', 'Sony Computer Entertainment', 'Sega', 'Tecmo Koei', 'Electronic Arts', 'Activision', 'Sega', 'Capcom', 'Ghostlight', 'Electronic Arts', 'Electronic Arts', 'Activision', 'Electronic Arts', 'Namco Bandai Games', 'Activision', 'Atari', 'Take-Two Interactive', 'Konami Digital Entertainment', 'Activision', 'Ubisoft', 'Electronic Arts', 'Electronic Arts', 'Atari', 'THQ', 'Ubisoft', 'Disney Interactive Studios', 'Nintendo', 'Capcom', 'Electronic Arts', 'Activision', 'Play It', 'Ubisoft', 'Eidos Interactive', 'Take-Two Interactive', 'Ubisoft', 'Ubisoft Annecy', 'Activision', 'Electronic Arts', 'THQ', 'Electronic Arts', 'Square Enix', 'Electronic Arts', 'Take-Two Interactive', 'Microsoft Game Studios', 'Tecmo Koei', 'Bethesda Softworks', '505 Games', 'Warner Bros. Interactive Entertainment', 'Nintendo', 'Electronic Arts', 'Nintendo', 'TDK Mediactive', 'Disney Interactive Studios', 'Nintendo', 'Sony Computer Entertainment', 'Majesco Entertainment', 'Namco Bandai Games', 'Sega', 'Sony Computer Entertainment Europe', 'Electronic Arts', 'Activision', 'Take-Two Interactive', 'Bethesda Softworks', 'Deep Silver', 'Konami Digital Entertainment', 'Spike', 'Nintendo', 'Namco Bandai Games', 'Electronic Arts', 'Electronic Arts', 'Atari', 'Electronic Arts', 'Activision', 'Electronic Arts', 'Atari', 'Namco Bandai Games', 'Activision', 'Sega', 'Nintendo', 'Sega', 'Eidos Interactive', 'Sega', 'Electronic Arts', 'Deep Silver', 'Microsoft Game Studios', 'Take-Two Interactive', 'Tecmo Koei', 'Disney Interactive Studios', 'Sony Computer Entertainment', 'Ubisoft', 'Ubisoft', 'Ubisoft', 'THQ', 'Vivendi Games', 'Infogrames', 'Disney Interactive Studios', 'Sega', 'Sega', 'Rising Star Games', 'Capcom', 'Warner Bros. Interactive Entertainment', 'Take-Two Interactive', 'Ubisoft', 'Electronic Arts', 'Sega', 'Spike', 'Electronic Arts', 'THQ', 'Electronic Arts', 'Activision', 'Electronic Arts', 'Electronic Arts', 'Midway Games', 'Electronic Arts', 'Sega', 'Electronic Arts', 'Electronic Arts', 'Universal Interactive', 'Take-Two Interactive', 'Ubisoft', 'Microsoft Game Studios', 'Konami Digital Entertainment', 'Activision', 'Electronic Arts', 'Ubisoft', 'Capcom', 'Konami Digital Entertainment', 'Ubisoft', 'Ubisoft', 'Nintendo', 'Sega', 'Sony Computer Entertainment', 'Capcom', 'Square Enix', 'Square Enix', 'Namco Bandai Games', 'Square Enix', 'Ubisoft', 'Take-Two Interactive', 'Warner Bros. Interactive Entertainment', 'Electronic Arts', 'Activision', 'Electronic Arts', 'Sony Computer Entertainment', 'Microsoft Game Studios', 'Activision', 'Atari', 'Activision', 'Ubisoft', 'Electronic Arts', 'Atlus', 'Take-Two Interactive', 'Electronic Arts', 'Unknown', 'Infogrames', 'Namco Bandai Games', 'Ubisoft', 'Namco Bandai Games', 'Konami Digital Entertainment', 'Square Enix', 'Ubisoft', 'Electronic Arts', 'Activision', 'Activision', 'Namco Bandai Games', 'Electronic Arts', 'SquareSoft', 'Electronic Arts', 'Unknown', 'Disney Interactive Studios', 'Ubisoft', 'Activision', 'SouthPeak Games', 'Namco Bandai Games', '505 Games', 'Midway Games', 'Vivendi Games', 'Take-Two Interactive', 'Activision', 'Electronic Arts', 'Electronic Arts', 'Electronic Arts', 'PQube', 'Sega', 'Namco Bandai Games', 'Electronic Arts', 'MTV Games', 'Microsoft Game Studios', 'Tecmo Koei', 'Take-Two Interactive', 'Electronic Arts', 'Activision', 'Trion Worlds', 'Nippon Ichi Software', 'THQ', 'Bethesda Softworks', 'Activision', 'Konami Digital Entertainment', 'Sega', 'Electronic Arts', 'Ubisoft', 'Disney Interactive Studios', 'Microsoft Game Studios', 'Capcom', 'Take-Two Interactive', 'Ubisoft', 'Eidos Interactive', 'Xseed Games', 'SouthPeak Games', 'THQ', 'Capcom', 'Activision', 'Square Enix', 'Electronic Arts', 'Electronic Arts', 'Electronic Arts', 'Midway Games', 'Vivendi Games', 'Nintendo', 'Electronic Arts', 'Electronic Arts', 'Sony Computer Entertainment', 'THQ', 'Take-Two Interactive', 'Activision', 'Warner Bros. Interactive Entertainment', 'Electronic Arts', 'Electronic Arts', 'Ubisoft', 'Acclaim Entertainment', 'Electronic Arts', 'Disney Interactive Studios', 'THQ', 'Take-Two Interactive', 'Square Enix', 'Activision', 'Electronic Arts', 'Activision', 'Vivendi Games', 'Universal Interactive', 'Activision', 'Microsoft Game Studios', 'Sega', 'Take-Two Interactive', 'Nintendo', 'Sony Computer Entertainment', 'Microsoft Game Studios', 'Ignition Entertainment', 'Ubisoft', 'Codemasters', 'Square Enix', 'THQ', 'THQ', 'Electronic Arts', 'Kadokawa Shoten', 'Natsume', 'Rising Star Games', 'Sony Computer Entertainment', 'Take-Two Interactive', 'Eidos Interactive', 'Konami Digital Entertainment', 'Namco Bandai Games', 'THQ', 'Activision', 'Sony Computer Entertainment', 'Ubisoft', 'Sony Computer Entertainment', 'Activision', 'Capcom', 'Capcom', 'Take-Two Interactive', 'Ubisoft', 'Ubisoft', 'THQ', 'Activision', 'THQ', 'Ubisoft', 'THQ', 'Microsoft Game Studios', 'Acclaim Entertainment', 'Sony Computer Entertainment', 'Codemasters', 'Take-Two Interactive', 'Deep Silver', 'THQ', 'Sony Computer Entertainment Europe', 'Sega', 'Take-Two Interactive', 'THQ', 'Electronic Arts', 'Codemasters', 'THQ', 'Electronic Arts', 'Konami Digital Entertainment', 'Vivendi Games', 'Square Enix', 'Ubisoft', 'Vivendi Games', 'Namco Bandai Games', 'Atari', 'Electronic Arts', 'Tecmo Koei', 'Electronic Arts', 'Electronic Arts', 'Electronic Arts', 'THQ', 'Nintendo', 'Nintendo', 'Square Enix', 'Electronic Arts', 'Activision', 'Sega', 'Namco Bandai Games', 'Deep Silver', 'Unknown', 'Activision', 'Activision', 'Disney Interactive Studios', 'Electronic Arts', 'Vivendi Games', 'Sony Computer Entertainment', 'Electronic Arts', 'Electronic Arts', 'Vivendi Games', 'Namco Bandai Games', 'Ubisoft', 'Namco Bandai Games', 'Electronic Arts', 'Warner Bros. Interactive Entertainment', 'Sega', 'Capcom', 'Rising Star Games', 'Eidos Interactive', 'Electronic Arts', 'Electronic Arts', 'Square Enix', 'SCi', 'Nippon Ichi Software', 'Midway Games', 'Midway Games', 'Take-Two Interactive', 'Ubisoft', 'Warner Bros. Interactive Entertainment', 'Activision', 'Ubisoft', 'Electronic Arts', 'Electronic Arts', 'Electronic Arts', 'Universal Interactive', 'Sony Computer Entertainment', 'Nintendo', 'Konami Digital Entertainment', 'Activision', 'Activision', 'Rondomedia', 'Sony Computer Entertainment', 'THQ', 'Take-Two Interactive', 'Ubisoft', 'THQ', 'Warner Bros. Interactive Entertainment', 'Activision', 'Electronic Arts', 'Warner Bros. Interactive Entertainment', 'THQ', 'Take-Two Interactive', 'Nintendo', 'Electronic Arts', 'Activision', 'Nintendo', 'Sega', 'Konami Digital Entertainment', 'Ubisoft', 'THQ', 'Warner Bros. Interactive Entertainment', 'Sega', 'Ubisoft', 'Electronic Arts', 'Sega', 'Square', 'Codemasters', 'Sony Computer Entertainment', 'Konami Digital Entertainment', 'Namco Bandai Games', 'Electronic Arts', 'Warner Bros. Interactive Entertainment', 'Electronic Arts', 'Warner Bros. Interactive Entertainment', 'Electronic Arts', '505 Games', 'Electronic Arts', 'Midway Games', 'Warner Bros. Interactive Entertainment', 'Electronic Arts', 'Electronic Arts', 'Sony Computer Entertainment', 'Square Enix', 'Electronic Arts', 'Eidos Interactive', 'Electronic Arts', 'Konami Digital Entertainment', 'Activision', 'Disney Interactive Studios', 'Electronic Arts', 'THQ', 'Nintendo', 'Electronic Arts', 'Square Enix', 'Activision', 'Gamebridge', 'Electronic Arts', 'Rising Star Games', 'Electronic Arts', 'Electronic Arts', 'Electronic Arts', 'Eidos Interactive', 'Square Enix', 'Activision', 'Disney Interactive Studios', 'Sony Computer Entertainment', 'Disney Interactive Studios', 'Midas Interactive Entertainment', 'Sony Computer Entertainment', 'Electronic Arts', 'THQ', 'Sony Computer Entertainment', 'Sony Online Entertainment', 'Electronic Arts', '505 Games', 'Activision', 'Take-Two Interactive', 'Disney Interactive Studios', 'THQ', 'Electronic Arts', 'Sega', 'Sega', 'Konami Digital Entertainment', 'THQ', 'Nintendo', 'Namco Bandai Games', 'Electronic Arts', 'Tecmo Koei', 'Electronic Arts', 'Namco Bandai Games', 'Namco Bandai Games', 'Namco Bandai Games', 'Crave Entertainment', 'Take-Two Interactive', 'Atari', 'Midway Games', 'Konami Digital Entertainment', 'Capcom', 'Ubisoft', 'Electronic Arts', 'Electronic Arts', 'THQ', 'Sega', 'Warner Bros. Interactive Entertainment', 'Activision', 'Electronic Arts', 'Take-Two Interactive', 'THQ', 'Take-Two Interactive', 'Electronic Arts', 'THQ', 'THQ', 'Universal Interactive', 'Eidos Interactive', 'Ubisoft', 'Vivendi Games', 'Activision', 'Nintendo', 'Konami Digital Entertainment', 'Square Enix', 'Atari', 'Sony Computer Entertainment', 'Ubisoft', 'Square Enix', 'Activision', 'Activision', 'Nintendo', 'Sega', 'Tecmo Koei', 'ASCII Entertainment', 'Take-Two Interactive', 'Nintendo', 'Konami Digital Entertainment', 'Electronic Arts', 'THQ', 'Capcom', 'Electronic Arts', 'Activision', 'THQ', 'Activision', 'Ubisoft', 'Bethesda Softworks', 'Activision', 'Infogrames', 'Electronic Arts', 'Electronic Arts', 'Activision', 'Namco Bandai Games', 'Nintendo', 'Namco Bandai Games', 'Activision', 'Sega', 'THQ', 'Codemasters', 'Activision', 'Nippon Ichi Software', 'Atari', 'Atari', 'Sega', 'THQ', 'Electronic Arts', 'THQ', 'Electronic Arts', 'Nintendo', 'Electronic Arts', 'Electronic Arts', 'Square Enix', 'Namco Bandai Games', 'Vivendi Games', 'Capcom', 'LucasArts', 'THQ', 'Nintendo', 'Electronic Arts', 'Ubisoft', 'Acclaim Entertainment', 'Atari', 'Midway Games', 'Namco Bandai Games', 'City Interactive', 'Namco Bandai Games', 'Electronic Arts', 'Nintendo', 'Nintendo', 'Atari', 'Activision', 'Zoo Digital Publishing', 'Ubisoft', 'Electronic Arts', 'MTV Games', 'Activision', 'Microsoft Game Studios', 'Microsoft Game Studios', 'Sony Computer Entertainment', 'D3Publisher', 'Electronic Arts', 'Electronic Arts', 'Nintendo', 'LucasArts', 'Vivendi Games', 'Warner Bros. Interactive Entertainment', 'Electronic Arts', 'Konami Digital Entertainment', 'Electronic Arts', 'Electronic Arts', 'Rebellion', 'Electronic Arts', 'Nintendo', 'Electronic Arts', 'Ignition Entertainment', 'Nintendo', 'Sony Computer Entertainment', 'Activision', 'Tecmo Koei', 'Bethesda Softworks', 'Disney Interactive Studios', 'Activision', 'Harmonix Music Systems', 'Activision', 'Capcom', 'D3Publisher', 'Sony Computer Entertainment', 'Activision Blizzard', 'Xplosiv', 'Midway Games', 'Electronic Arts', 'Empire Interactive', 'Square Enix', 'System 3 Arcade Software', 'THQ', 'Electronic Arts', 'Level 5', 'Warner Bros. Interactive Entertainment', 'Electronic Arts', 'Midway Games', 'Vivendi Games', 'Microsoft Game Studios', 'Disney Interactive Studios', 'Midway Games', 'Electronic Arts', 'Microsoft Game Studios', 'Sega', 'THQ', 'Ubisoft', 'Nintendo', 'Codemasters', 'Electronic Arts', 'Disney Interactive Studios', 'Konami Digital Entertainment', 'Namco Bandai Games', 'Activision', 'Activision', 'Square Enix', 'Sega', 'Electronic Arts', 'Ubisoft', 'Activision', 'Tecmo Koei', 'Atari', 'Nintendo', 'Konami Digital Entertainment', 'Electronic Arts', 'Nintendo', 'Activision', 'Namco Bandai Games', 'THQ', 'Electronic Arts', 'Nintendo', 'Unknown', 'Sega', 'Electronic Arts', 'Infogrames', 'Electronic Arts', 'Electronic Arts', 'Ubisoft', 'Disney Interactive Studios', 'Wanadoo', 'Sony Computer Entertainment', 'THQ', 'Activision', 'THQ', 'Sony Computer Entertainment', 'Ubisoft', 'Atari', 'THQ', 'THQ', 'Electronic Arts', 'Ubisoft', 'Vivendi Games', 'Sony Computer Entertainment', 'Electronic Arts', 'Vivendi Games', 'Ignition Entertainment', 'Konami Digital Entertainment', 'THQ', 'Sony Computer Entertainment', 'Activision', 'NovaLogic', 'Atari', 'THQ', 'Electronic Arts', 'Microsoft Game Studios', 'Ubisoft', 'Sega', 'Eidos Interactive', 'Ubisoft', 'Atari', 'Warner Bros. Interactive Entertainment', 'Electronic Arts', 'Sony Computer Entertainment', 'BAM! Entertainment', 'Sega', 'Vivendi Games', 'Electronic Arts', 'Eidos Interactive', 'Midway Games', 'Electronic Arts', 'Majesco Entertainment', 'Activision', 'Ubisoft Annecy', 'Ubisoft', 'Activision', 'Take-Two Interactive', 'Sony Computer Entertainment', 'Electronic Arts', 'Vivendi Games', 'THQ', 'Infogrames', 'Tecmo Koei', 'Disney Interactive Studios', 'Activision', 'Sega', 'Tecmo Koei', 'Warner Bros. Interactive Entertainment', 'THQ', 'Electronic Arts', 'Warner Bros. Interactive Entertainment', 'THQ', 'Electronic Arts', 'Acclaim Entertainment', 'Electronic Arts', 'Konami Digital Entertainment', 'Electronic Arts', 'Ubisoft Annecy', 'Bethesda Softworks', 'Activision', 'Ubisoft', 'Nintendo', 'Electronic Arts', 'Warner Bros. Interactive Entertainment', 'Disney Interactive Studios', 'Konami Digital Entertainment', 'THQ', 'Spike', '505 Games', 'Konami Digital Entertainment', 'Konami Digital Entertainment', 'Vivendi Games', 'Activision', 'Nintendo', 'Sega', 'Activision', 'Namco Bandai Games', 'Activision', 'THQ', 'Electronic Arts', 'Take-Two Interactive', 'Electronic Arts', 'Electronic Arts', 'Vivendi Games', 'Activision', 'LucasArts', 'Sega', 'Square Enix', 'Konami Digital Entertainment', 'Disney Interactive Studios', 'Activision', 'Sony Computer Entertainment', 'THQ', 'Nintendo', 'Capcom', 'THQ', 'Electronic Arts', 'Vivendi Games', 'Nintendo', 'D3Publisher', 'Eidos Interactive', 'Vivendi Games', 'Nintendo', 'Namco Bandai Games', 'Atari', 'Take-Two Interactive', 'LucasArts', 'Ubisoft', 'Activision', 'Midway Games', 'Atari', 'Konami Digital Entertainment', 'Activision', 'Nintendo', 'THQ', 'Sony Computer Entertainment', 'Tecmo Koei', 'Activision', 'Electronic Arts', 'Nintendo', 'Electronic Arts', 'Tetris Online', 'Take-Two Interactive', 'Disney Interactive Studios', 'LucasArts', 'Electronic Arts', 'Electronic Arts', 'Namco Bandai Games', '505 Games', 'Sony Computer Entertainment', 'Activision', 'Warner Bros. Interactive Entertainment', 'Sony Computer Entertainment America', 'Capcom', 'Tecmo Koei', 'Eidos Interactive', 'Namco Bandai Games', 'Capcom', 'Ubisoft', '505 Games', 'Atari', 'Interplay', 'Sony Computer Entertainment', 'Sony Online Entertainment', 'Capcom', 'Rising Star Games', 'Ubisoft', 'Namco Bandai Games', 'Warner Bros. Interactive Entertainment', 'Square Enix', 'Konami Digital Entertainment', 'Take-Two Interactive', 'Ubisoft', 'Sega', 'Bethesda Softworks', 'Ubisoft', 'Electronic Arts', 'Midway Games', 'Disney Interactive Studios', 'Microsoft Game Studios', 'Sega', 'Vivendi Games', 'D3Publisher', 'Electronic Arts', 'Electronic Arts', 'Electronic Arts', 'Vivendi Games', 'Nippon Ichi Software', 'Capcom', 'THQ', 'Eidos Interactive', 'Take-Two Interactive', 'Electronic Arts', 'Electronic Arts', 'Sony Computer Entertainment', 'Activision', 'Psygnosis', 'Acclaim Entertainment', 'Electronic Arts', 'Warner Bros. Interactive Entertainment', 'Konami Digital Entertainment', 'Electronic Arts', 'Global Star', 'THQ', 'Atari', 'Ubisoft', 'Zoo Digital Publishing', 'Electronic Arts', 'Ubisoft', 'Activision', 'Activision', 'Atari', 'Disney Interactive Studios', 'Electronic Arts', 'Electronic Arts', 'Sony Computer Entertainment', 'Konami Digital Entertainment', 'Capcom', 'Vivendi Games', 'Activision', 'Nintendo', 'Electronic Arts', 'LucasArts', 'Deep Silver', 'Capcom', 'Universal Interactive', 'Konami Digital Entertainment', 'Warner Bros. Interactive Entertainment', 'Electronic Arts', 'Take-Two Interactive', 'Unknown', 'Nintendo', 'Square Enix', 'Sega', 'Disney Interactive Studios', 'Disney Interactive Studios', 'Capcom', 'Ubisoft', 'Unknown', 'Screenlife', 'Midway Games', 'LucasArts', 'Nintendo', 'Konami Digital Entertainment', 'Ubisoft', 'Sony Computer Entertainment', 'Sega', 'Vivendi Games', 'Electronic Arts', 'Ubisoft', 'Vivendi Games', 'Sony Computer Entertainment', 'Focus Home Interactive', 'Konami Digital Entertainment', 'Ubisoft', 'Activision', '505 Games', 'Warner Bros. Interactive Entertainment', 'Sega', 'Warner Bros. Interactive Entertainment', 'THQ', 'Electronic Arts', 'Ubisoft', 'Knowledge Adventure', 'MTV Games', 'Codemasters', 'THQ', 'Activision', 'Take-Two Interactive', 'Atari', 'Electronic Arts', 'Take-Two Interactive', 'THQ', 'Metro 3D', 'Midway Games', 'Sega', 'Activision', 'Midway Games', 'Ubisoft', 'THQ', 'MTV Games', 'Electronic Arts', 'Sony Computer Entertainment', 'Electronic Arts', 'Electronic Arts', 'Electronic Arts', 'THQ', 'PQube', 'Take-Two Interactive', 'Activision', 'Namco Bandai Games', 'Sony Computer Entertainment', 'Activision', '505 Games', 'THQ', 'Ubisoft', 'Ubisoft', 'Electronic Arts', 'Rising Star Games', 'Namco Bandai Games', 'Konami Digital Entertainment', 'Midway Games', 'Unknown', 'Midway Games', 'Electronic Arts', 'Codemasters', 'Disney Interactive Studios', 'Square Enix', 'Nintendo', 'THQ', 'Nintendo', 'THQ', 'Capcom', 'Acclaim Entertainment', 'THQ', 'Atari', 'Electronic Arts', 'Sony Computer Entertainment', 'GungHo', 'Microsoft Game Studios', 'Activision', 'Warner Bros. Interactive Entertainment', 'THQ', 'Electronic Arts', 'Midway Games', 'Electronic Arts', 'THQ', 'THQ', 'Take-Two Interactive', 'Electronic Arts', 'Sega', 'Electronic Arts', 'Sony Computer Entertainment', 'Atari', 'Unknown', 'Activision', 'D3Publisher', 'Konami Digital Entertainment', 'Jester Interactive', 'Konami Digital Entertainment', 'Eidos Interactive', 'Focus Home Interactive', 'Take-Two Interactive', 'Activision', 'THQ', 'Warner Bros. Interactive Entertainment', 'Rising Star Games', 'Hasbro Interactive', 'THQ', 'Namco Bandai Games', 'Namco Bandai Games', 'Electronic Arts', 'Electronic Arts', 'Sega', 'Namco Bandai Games', 'Electronic Arts', 'Namco Bandai Games', 'Electronic Arts', 'Electronic Arts', 'Nintendo', 'Activision', 'Sega', 'Electronic Arts', 'Ubisoft', 'Electronic Arts', 'Square Enix', 'Sony Computer Entertainment', 'Sega', 'Activision', 'Sega', 'LucasArts', 'Ubisoft', 'Eidos Interactive', 'Electronic Arts', 'Sega', 'Ubisoft', 'Take-Two Interactive', 'Vivendi Games', 'Electronic Arts', 'Eidos Interactive', 'Nintendo', 'Capcom', 'Ubisoft', 'Electronic Arts', 'Ubisoft', 'Vivendi Games', 'Tecmo Koei', 'Konami Digital Entertainment', 'Namco Bandai Games', 'Electronic Arts', 'Capcom', 'THQ', 'Electronic Arts', 'Square Enix', 'Konami Digital Entertainment', 'Ghostlight', 'Focus Home Interactive', 'Sega', 'Warner Bros. Interactive Entertainment', 'Activision', 'Ghostlight', 'Sony Computer Entertainment', 'Tomy Corporation', 'Acclaim Entertainment', 'Electronic Arts', 'Ubisoft', 'Sega', 'Sega', 'Sega', 'Harmonix Music Systems', 'Electronic Arts', '505 Games', 'THQ', 'Empire Interactive', 'Electronic Arts', 'Electronic Arts', 'Konami Digital Entertainment', 'Sony Computer Entertainment', 'Atari', 'Square Enix', 'Enix Corporation', 'Atari', 'Konami Digital Entertainment', 'Sega', 'Electronic Arts', 'THQ', 'Capcom', 'Interplay', 'THQ', 'Ubisoft', 'Black Bean Games', 'Activision', 'Nintendo', 'Sega', 'Sega', 'Ubisoft', 'Activision', 'Electronic Arts', 'Namco Bandai Games', 'Electronic Arts', 'Microsoft Game Studios', 'Sony Computer Entertainment', 'Konami Digital Entertainment', 'Konami Digital Entertainment', 'Ubisoft', 'Nintendo', 'Electronic Arts', 'Activision', 'Codemasters', 'Atari', 'Sega', 'Disney Interactive Studios', 'Activision', 'Microsoft Game Studios', 'Spike', 'LucasArts', 'Take-Two Interactive', 'Ubisoft', 'THQ', 'Electronic Arts', 'Midway Games', '3DO', 'Electronic Arts', 'Microsoft Game Studios', 'Activision', 'Electronic Arts', 'Activision', 'Activision', 'Electronic Arts', 'Electronic Arts', 'Bethesda Softworks', 'Nintendo', 'Ubisoft', 'Take-Two Interactive', 'Square Enix', 'Codemasters', 'Nintendo', 'Eidos Interactive', '505 Games', 'Take-Two Interactive', 'Vivendi Games', 'THQ', 'Square Enix', 'Codemasters', 'Electronic Arts', 'Electronic Arts', 'Sega', 'Codemasters', 'Vivendi Games', 'Electronic Arts', 'Warner Bros. Interactive Entertainment', 'Namco Bandai Games', 'Rising Star Games', 'Eidos Interactive', 'Takara Tomy', 'Warner Bros. Interactive Entertainment', 'Activision', 'Electronic Arts', 'Electronic Arts', 'Electronic Arts', 'Rising Star Games', 'Electronic Arts', 'Electronic Arts', 'Namco Bandai Games', 'Nintendo', 'Konami Digital Entertainment', 'Take-Two Interactive', 'Konami Digital Entertainment', 'Valve Software', 'MTV Games', 'Nintendo', 'Konami Digital Entertainment', 'Ubisoft', '3DO', 'Vivendi Games', 'Midway Games', 'Namco Bandai Games', 'Capcom', 'Tecmo Koei', 'THQ', 'Namco Bandai Games', 'Nintendo', 'Sony Computer Entertainment', 'PQube', 'Sony Computer Entertainment', 'Take-Two Interactive', 'THQ', 'Disney Interactive Studios', 'Activision', 'Activision', 'Microsoft Game Studios', 'Square Enix', 'Ubisoft', 'Sega', 'Zoo Digital Publishing', 'Activision', 'Ubisoft', 'Nintendo', 'Sony Computer Entertainment', 'Ubisoft', 'Electronic Arts', 'Electronic Arts', 'Midway Games', 'Ubisoft', 'TDK Mediactive', 'Nippon Ichi Software', 'Sony Computer Entertainment', 'Nintendo', 'D3Publisher', 'Warner Bros. Interactive Entertainment', 'Konami Digital Entertainment', 'Electronic Arts', 'Global Star', 'Sony Computer Entertainment', 'Sega', 'Activision', 'Ubisoft', 'THQ', 'Capcom', 'Activision', 'Take-Two Interactive', 'Virgin Interactive', 'THQ', 'Atlus', 'Deep Silver', 'Ubisoft', 'Namco Bandai Games', 'THQ', 'Ubisoft', 'Tecmo Koei', 'Deep Silver', 'Sega', 'Capcom', 'Electronic Arts', 'Electronic Arts', 'Microsoft Game Studios', 'Trion Worlds', 'Warner Bros. Interactive Entertainment', 'Take-Two Interactive', 'Sammy Corporation', 'Zoo Digital Publishing', 'Ubisoft', 'Capcom', 'Warner Bros. Interactive Entertainment', 'Acclaim Entertainment', 'Electronic Arts', '505 Games', 'Electronic Arts', 'Konami Digital Entertainment', 'Vivendi Games', 'Kalypso Media', 'Ubisoft', 'Activision', 'Kadokawa Shoten', 'Sony Computer Entertainment', 'Activision', 'Square Enix', 'Global Star', 'Ubisoft', 'Electronic Arts', 'Electronic Arts', 'Tecmo Koei', 'Activision', 'Activision', 'Namco Bandai Games', 'Psygnosis', 'Nintendo', 'Disney Interactive Studios', 'THQ', 'THQ', 'Eidos Interactive', 'Namco Bandai Games', 'Atari', 'Tecmo Koei', 'Eidos Interactive', 'Disney Interactive Studios', 'Nintendo', 'Sony Computer Entertainment', 'Acclaim Entertainment', 'Eidos Interactive', 'Square Enix', 'Eidos Interactive', 'Ubisoft', 'THQ', 'Nintendo', 'THQ', 'Electronic Arts', 'Ubisoft', 'THQ', 'Electronic Arts', 'Electronic Arts', 'Microsoft Game Studios', 'THQ', 'Vivendi Games', 'Electronic Arts', 'Namco Bandai Games', 'Vivendi Games', 'Ubisoft', 'Midway Games', 'Disney Interactive Studios', 'Konami Digital Entertainment', 'Microsoft Game Studios', 'Tecmo Koei', 'Sony Computer Entertainment', 'D3Publisher', 'Namco Bandai Games', 'Square Enix', 'Atari', 'NovaLogic', 'Disney Interactive Studios', 'Oxygen Interactive', 'Sony Computer Entertainment', 'Ubisoft', 'Sega', 'Electronic Arts', 'Square Enix', 'THQ', 'Unknown', 'Electronic Arts', 'Capcom', 'Electronic Arts', 'Sony Computer Entertainment', 'Electronic Arts', 'THQ', 'Sony Computer Entertainment', 'THQ', 'Electronic Arts', 'Universal Interactive', 'Ubisoft', 'Sony Computer Entertainment', 'Eidos Interactive', 'Electronic Arts', 'Rising Star Games', 'THQ', 'LucasArts', 'Microsoft Game Studios', 'PopCap Games', 'Warner Bros. Interactive Entertainment', 'Activision', 'Activision', 'City Interactive', 'Activision', 'Acclaim Entertainment', 'Disney Interactive Studios', 'Sega', 'Capcom', 'Sony Computer Entertainment', 'Sony Computer Entertainment', 'Nintendo', 'Electronic Arts', 'THQ', 'Capcom', 'Nintendo', 'Ubisoft', 'Activision', 'Tecmo Koei', 'Capcom', 'Nintendo', 'Activision', 'Namco Bandai Games', 'Majesco Entertainment', 'Tecmo Koei', 'Ignition Entertainment', 'Sega', 'Electronic Arts', 'THQ', 'Sony Computer Entertainment', 'Disney Interactive Studios', 'Capcom', 'Sony Computer Entertainment', 'THQ', 'Electronic Arts', 'Electronic Arts', 'Electronic Arts', 'Nippon Ichi Software', 'Electronic Arts', 'THQ', 'Konami Digital Entertainment', 'THQ', 'Sega', 'Electronic Arts', 'Nintendo', 'Hudson Soft', 'Take-Two Interactive', 'Sega', 'Electronic Arts', 'Atari', 'Konami Digital Entertainment', 'Nintendo', 'Sega', 'Vivendi Games', 'Electronic Arts', 'Eidos Interactive', 'Konami Digital Entertainment', 'Konami Digital Entertainment', 'Sega', 'Ubisoft', 'Sega', 'Electronic Arts', 'Sony Computer Entertainment', 'Ubisoft', 'Electronic Arts', 'Activision', 'Capcom', 'Konami Digital Entertainment', 'Capcom', 'Namco Bandai Games', 'Atari', 'Ubisoft', 'Ubisoft Annecy', 'Unknown', 'Codemasters', 'Konami Digital Entertainment', 'Eidos Interactive', 'THQ', 'Ubisoft', 'Activision', 'Namco Bandai Games', 'Ubisoft', 'Electronic Arts', 'Sony Computer Entertainment', 'Activision', 'Sega', 'Sega', 'Electronic Arts', 'Majesco Entertainment', 'Electronic Arts', 'Codemasters', 'Namco Bandai Games', 'Sony Computer Entertainment', 'Konami Digital Entertainment', 'Konami Digital Entertainment', 'Unknown', 'Konami Digital Entertainment', 'Electronic Arts', 'Nippon Ichi Software', 'Ubisoft', 'Activision', 'Take-Two Interactive', 'Ubisoft', 'Sony Computer Entertainment', 'Square Enix', 'Take-Two Interactive', 'Sega', 'Atari', 'Unknown', 'Microsoft Game Studios', 'Electronic Arts', 'Activision', 'Atari', 'Electronic Arts', 'THQ', 'Deep Silver', 'Gathering of Developers', 'Codemasters', 'Tecmo Koei', 'Microsoft Game Studios', 'Sony Computer Entertainment', 'Activision', 'Square Enix', 'Disney Interactive Studios', 'Namco Bandai Games', 'Tecmo Koei', 'Microsoft Game Studios', 'Vivendi Games', '505 Games', 'Codemasters', 'Codemasters', 'Activision', 'PQube', 'Sony Computer Entertainment', 'Vivendi Games', 'Atlus', 'Warner Bros. Interactive Entertainment', 'Electronic Arts', 'Konami Digital Entertainment', 'Electronic Arts', 'Microsoft Game Studios', 'Electronic Arts', 'Eidos Interactive', 'Marvelous Interactive', 'Square Enix', 'Deep Silver', 'Atari', 'Atari', 'Square Enix', 'Midway Games', 'Warner Bros. Interactive Entertainment', 'Ghostlight', 'Sega', 'Ubisoft', 'Sony Computer Entertainment', 'Vivendi Games', 'Codemasters', 'Kalypso Media', 'Take-Two Interactive', 'Ubisoft', 'Warner Bros. Interactive Entertainment', 'Activision', 'Rondomedia', 'Capcom', 'Take-Two Interactive', 'Capcom', 'Activision', 'Namco Bandai Games', 'Ubisoft', 'Bethesda Softworks', 'Nintendo', 'Electronic Arts', 'Electronic Arts', 'Home Entertainment Suppliers', 'Midway Games', 'Sega', 'Electronic Arts', 'Capcom', 'Konami Digital Entertainment', 'LucasArts', 'Sony Computer Entertainment', 'Activision', 'Zoo Games', 'Disney Interactive Studios', 'Universal Interactive', 'Sony Computer Entertainment', 'Namco Bandai Games', 'Sony Computer Entertainment', 'Activision', 'Electronic Arts', 'Ubisoft', 'Activision', 'Microsoft Game Studios', 'TDK Mediactive', 'Konami Digital Entertainment', 'Universal Interactive', 'Activision', 'Activision', 'Arc System Works', 'Electronic Arts', 'Nintendo', 'Konami Digital Entertainment', 'Acclaim Entertainment', 'Disney Interactive Studios', 'Capcom', 'Global Star', 'Sony Computer Entertainment', 'Namco Bandai Games', 'Warner Bros. Interactive Entertainment', 'Sony Computer Entertainment', 'Unknown', 'Rising Star Games', 'Ubisoft', 'Banpresto', 'Warner Bros. Interactive Entertainment', 'Tecmo Koei', 'Codemasters', 'THQ', 'Square Enix', 'Ubisoft', 'Disney Interactive Studios', 'Ubisoft', 'Namco Bandai Games', 'Electronic Arts', '3DO', 'Electronic Arts', 'Midway Games', 'THQ', 'Ubisoft', 'Capcom', 'Tecmo Koei', 'Konami Digital Entertainment', 'Konami Digital Entertainment', 'Acclaim Entertainment', 'Namco Bandai Games', 'THQ', 'Electronic Arts', 'THQ', 'Electronic Arts', 'Tecmo Koei', 'Activision', 'Midway Games', 'Konami Digital Entertainment', 'Capcom', 'Deep Silver', 'Warner Bros. Interactive Entertainment', 'Sony Computer Entertainment', 'Activision', 'Mud Duck Productions', 'Activision', 'Atlus', 'Sony Computer Entertainment', 'Electronic Arts', 'Ubisoft', 'Ubisoft', 'Activision', 'Activision', 'Warner Bros. Interactive Entertainment', 'Electronic Arts', 'Electronic Arts', 'Konami Digital Entertainment', 'TDK Mediactive', 'Electronic Arts', 'Eidos Interactive', '505 Games', 'Electronic Arts', 'THQ', 'Midas Interactive Entertainment', 'Sony Computer Entertainment', 'Nintendo', 'THQ', 'Sony Computer Entertainment', 'Electronic Arts', 'Namco Bandai Games', 'Electronic Arts', 'Square Enix', 'Capcom', 'Rising Star Games', 'Tecmo Koei', 'Square Enix', 'THQ', 'Midway Games', 'Activision', 'Konami Digital Entertainment', 'Warner Bros. Interactive Entertainment', 'Capcom', 'Atari', 'Take-Two Interactive', 'Empire Interactive', 'Atari', 'Ubisoft', 'Rising Star Games', 'Codemasters', 'Ubisoft', 'Electronic Arts', 'Nintendo', 'Activision', 'Take-Two Interactive', 'Electronic Arts', 'Nintendo', 'Sony Computer Entertainment', 'Ubisoft', 'Electronic Arts', 'Namco Bandai Games', 'Take-Two Interactive', 'Codemasters', 'Sega', 'TDK Mediactive', 'Konami Digital Entertainment', 'Sega', 'Tecmo Koei', 'Ubisoft', 'Activision', 'Konami Digital Entertainment', 'Electronic Arts', 'D3Publisher', 'Ubisoft', 'Infogrames', 'Nippon Ichi Software', 'Capcom', 'Ubisoft', 'Tecmo Koei', 'Sega', 'Midway Games', 'Capcom', 'Capcom', 'Vivendi Games', 'Electronic Arts', 'Wargaming.net', 'Microsoft Game Studios', 'Namco Bandai Games', 'Ubisoft', 'Interplay', 'Nintendo', 'THQ', 'Ubisoft', 'Sony Computer Entertainment', 'Activision', 'Atari', 'Electronic Arts', 'Take-Two Interactive', 'Midway Games', 'Atari', 'Midway Games', 'Activision', 'Activision', 'Namco Bandai Games', 'Sega', 'Acclaim Entertainment', 'Sega', 'Electronic Arts', 'Nintendo', 'Warner Bros. Interactive Entertainment', 'Capcom', 'Rising Star Games', 'Microsoft Game Studios', 'Tecmo Koei', 'Konami Digital Entertainment', 'Sega', 'Electronic Arts', 'Midway Games', 'Microsoft Game Studios', 'Activision', 'Empire Interactive', 'Disney Interactive Studios', 'Xplosiv', 'Codemasters', 'Activision', 'Ubisoft', 'Ubisoft', 'Sony Computer Entertainment', 'Atari', 'Sony Computer Entertainment', 'Interplay', 'Atari', 'Capcom', 'Eidos Interactive', 'Ubisoft', 'Activision', 'Sony Computer Entertainment', 'Namco Bandai Games', '505 Games', 'Midway Games', 'Ignition Entertainment', 'Activision', 'Electronic Arts', 'Disney Interactive Studios', 'Spike', 'THQ', 'Konami Digital Entertainment', 'Nintendo', 'THQ', 'Midway Games', 'Capcom', 'Electronic Arts', 'Unknown', 'Electronic Arts', 'Sony Computer Entertainment', 'Midas Interactive Entertainment', 'Eidos Interactive', '505 Games', 'Activision', 'Sega', 'Activision', 'Activision', 'Acclaim Entertainment', 'Namco Bandai Games', 'Activision', 'Acclaim Entertainment', 'Electronic Arts', 'THQ', 'Konami Digital Entertainment', 'Ubisoft', 'Atlus', 'Electronic Arts', 'Sony Computer Entertainment', 'Activision', 'Take-Two Interactive', 'Microsoft Game Studios', 'Activision', 'Atari', 'Activision', 'Konami Digital Entertainment', 'Sony Computer Entertainment', 'Midway Games', 'Codemasters', 'THQ', 'Electronic Arts', 'Acclaim Entertainment', 'Bethesda Softworks', 'Konami Digital Entertainment', 'Capcom', 'Destineer', 'Sony Computer Entertainment', 'Codemasters', 'Eidos Interactive', 'Nintendo', 'Sega', 'Nippon Ichi Software', 'Ubisoft', 'Infogrames', 'Take-Two Interactive', 'Sony Computer Entertainment', 'Microsoft Game Studios', 'Namco Bandai Games', 'Codemasters', 'Nintendo', 'Activision', 'Eidos Interactive', 'Disney Interactive Studios', 'Electronic Arts', 'Atari', 'Electronic Arts', 'THQ', 'Square Enix', 'Electronic Arts', 'THQ', 'Electronic Arts', 'Sega', 'Electronic Arts', 'Warner Bros. Interactive Entertainment', 'Square Enix', 'Electronic Arts', 'Capcom', 'Activision', 'Electronic Arts', 'Activision', 'THQ', 'Activision', 'Take-Two Interactive', 'Activision', 'Activision', 'Namco Bandai Games', 'Warner Bros. Interactive Entertainment', 'Electronic Arts', 'Ubisoft', 'Unknown', 'Electronic Arts', 'Electronic Arts', 'Electronic Arts', 'BAM! Entertainment', 'Konami Digital Entertainment', 'Electronic Arts', 'Unknown', 'Kalypso Media', 'Take-Two Interactive', 'Konami Digital Entertainment', 'Sony Computer Entertainment', 'Electronic Arts', 'Namco Bandai Games', 'Ubisoft', 'Atari', 'Mumbo Jumbo', 'THQ', 'Ubisoft', 'Electronic Arts', 'Sony Computer Entertainment', 'Ubisoft', 'Ubisoft', 'Electronic Arts', 'SouthPeak Games', 'Sega', 'Pacific Century Cyber Works', 'Activision', 'Take-Two Interactive', 'Majesco Entertainment', 'PopCap Games', 'Warner Bros. Interactive Entertainment', 'Take-Two Interactive', 'Sega', 'Sega', 'Nintendo', 'Konami Digital Entertainment', 'Electronic Arts', 'Atlus', 'Sony Computer Entertainment', 'Midway Games', 'Atlus', 'Sega', 'Rising Star Games', 'THQ', 'Take-Two Interactive', 'Ubisoft', 'Take-Two Interactive', 'THQ', 'Namco Bandai Games', 'Atlus', 'Nintendo', 'Activision', 'LucasArts', 'Tecmo Koei', 'Namco Bandai Games', 'Activision', 'Take-Two Interactive', 'Take-Two Interactive', 'Eidos Interactive', 'BAM! Entertainment', 'Slightly Mad Studios', 'Sony Computer Entertainment', 'Enix Corporation', 'Nintendo', 'Indie Games', 'Konami Digital Entertainment', 'Konami Digital Entertainment', 'TDK Mediactive', 'Ubisoft', 'Activision', 'Eidos Interactive', 'Vivendi Games', 'Take-Two Interactive', 'Nintendo', 'Konami Digital Entertainment', 'Electronic Arts', 'Ignition Entertainment', 'Tecmo Koei', 'Take-Two Interactive', 'Namco Bandai Games', 'Sony Computer Entertainment', 'Capcom', 'Activision', 'Sony Computer Entertainment', 'Electronic Arts', 'Sony Computer Entertainment Europe', 'Ubisoft', 'Capcom', 'Atari', 'Ubisoft', 'Ubisoft', 'Liquid Games', 'Acclaim Entertainment', 'Activision', 'Sony Computer Entertainment', 'Codemasters', 'Konami Digital Entertainment', 'Sony Computer Entertainment', 'Disney Interactive Studios', 'Acclaim Entertainment', 'Electronic Arts', 'Electronic Arts', 'Nintendo', 'Ubisoft', 'LucasArts', 'Take-Two Interactive', 'Nintendo', 'THQ', 'Electronic Arts', 'Vivendi Games', 'Sega', 'Take-Two Interactive', 'Electronic Arts', 'Activision', 'Electronic Arts', 'Focus Home Interactive', 'Disney Interactive Studios', 'Electronic Arts', 'Activision', 'Ubisoft', 'Microsoft Game Studios', 'Square Enix', 'Unknown', 'Electronic Arts', 'FuRyu', 'THQ', 'Psygnosis', 'LucasArts', 'BAM! Entertainment', 'Tecmo Koei', 'Home Entertainment Suppliers', 'Sony Computer Entertainment', 'Bethesda Softworks', 'Vivendi Games', 'Activision', 'Electronic Arts', 'Sega', 'Electronic Arts', 'Midway Games', 'Sony Computer Entertainment', 'Deep Silver', 'Electronic Arts', 'Ubisoft', 'Atari', 'Ubisoft', 'Empire Interactive', 'Ubisoft', 'THQ', 'Ubisoft', 'THQ', 'THQ', 'Sega', 'Hudson Soft', 'Activision', 'Electronic Arts', 'Vivendi Games', 'Electronic Arts', 'Electronic Arts', 'Activision', 'Take-Two Interactive', 'Sega', 'Activision', 'Activision', 'THQ', 'Take-Two Interactive', 'Capcom', 'Disney Interactive Studios', 'Activision', 'Take-Two Interactive', 'Tecmo Koei', 'Ubisoft', 'Ubisoft', 'Ubisoft', 'Midway Games', 'THQ', '505 Games', 'Black Bean Games', 'Activision', 'Activision', 'Nippon Ichi Software', 'Spike', 'Square Enix', 'Vivendi Games', 'Activision', 'Vivendi Games', 'Sony Computer Entertainment', 'Activision', 'Tecmo Koei', 'Take-Two Interactive', 'Electronic Arts', 'Namco Bandai Games', 'Nintendo', 'Codemasters', 'Nintendo', 'Sony Computer Entertainment Europe', 'Namco Bandai Games', 'Square Enix', 'Atlus', 'Ubisoft', 'Ubisoft', 'Unknown', 'Ubisoft', 'Nippon Ichi Software', 'Activision', '3DO', 'Sony Computer Entertainment', 'Activision', 'Nihon Falcom Corporation', 'THQ', 'Acclaim Entertainment', 'Tecmo Koei', 'Namco Bandai Games', 'Electronic Arts', 'Tecmo Koei', 'Ubisoft', 'Capcom', 'Nintendo', 'Codemasters', 'THQ', 'TDK Mediactive', 'Activision', 'Codemasters', 'Electronic Arts', 'Acclaim Entertainment', 'Sega', 'Namco Bandai Games', 'Take-Two Interactive', 'GungHo', 'Ubisoft', 'Activision', 'Electronic Arts', 'Tecmo Koei', 'Sega', 'Microsoft Game Studios', 'Atari', 'MTV Games', 'Vivendi Games', 'Capcom', 'Marvelous Interactive', 'Ubisoft', 'Sega', 'Electronic Arts', 'Electronic Arts', 'Activision', 'Activision', 'Activision', 'Unknown', 'THQ', 'Rising Star Games', 'Konami Digital Entertainment', 'Sega', 'Ubisoft', 'Nippon Ichi Software', 'Majesco Entertainment', 'Rising Star Games', 'Gathering of Developers', 'THQ', 'Rising Star Games', 'Take-Two Interactive', 'Rising Star Games', 'Sega', 'Capcom', '505 Games', 'Sony Computer Entertainment', 'Activision', 'Take-Two Interactive', 'Midway Games', 'Activision', 'Ubisoft', 'Electronic Arts', 'Midway Games', 'Tecmo Koei', 'Focus Home Interactive', 'Electronic Arts', 'Electronic Arts', 'Electronic Arts', 'Focus Home Interactive', 'Warner Bros. Interactive Entertainment', 'Oxygen Interactive', 'Activision', 'THQ', 'Konami Digital Entertainment', 'THQ', 'Ubisoft', 'Electronic Arts', 'THQ', 'Atari', 'Tecmo Koei', 'Electronic Arts', 'Ubisoft', 'DTP Entertainment', 'Konami Digital Entertainment', 'Sony Online Entertainment', 'Activision', 'Takara Tomy', 'Konami Digital Entertainment', 'Ubisoft', 'Disney Interactive Studios', 'Electronic Arts', 'Electronic Arts', 'Electronic Arts', 'Electronic Arts', 'Sega', 'Electronic Arts', 'Microsoft Game Studios', 'Sega', 'Atari', 'Tecmo Koei', 'Sega', 'Nippon Ichi Software', 'Acclaim Entertainment', 'Universal Interactive', 'MTV Games', 'Sega', 'Nintendo', 'Activision', 'Ubisoft', 'Sega', 'Sega', 'Codemasters', 'Vivendi Games', 'Sony Computer Entertainment', 'Namco Bandai Games', 'Take-Two Interactive', 'THQ', 'Ubisoft', 'Activision', 'Nippon Ichi Software', 'Warner Bros. Interactive Entertainment', 'Sony Computer Entertainment', 'Unknown', 'Warner Bros. Interactive Entertainment', 'Focus Home Interactive', 'Electronic Arts', 'Activision', 'Take-Two Interactive', 'Electronic Arts', 'Take-Two Interactive', 'Electronic Arts', 'Tecmo Koei', 'Sony Computer Entertainment', 'Disney Interactive Studios', 'Sony Computer Entertainment', 'Ubisoft', 'Sony Computer Entertainment', 'Eidos Interactive', 'Focus Home Interactive', 'Disney Interactive Studios', 'Electronic Arts', 'Activision', 'Konami Digital Entertainment', 'Square Enix', 'THQ', 'Psygnosis', 'Midway Games', 'Electronic Arts', 'Activision', 'Zoo Digital Publishing', 'Midway Games', 'Electronic Arts', 'Play It', 'Tecmo Koei', 'Tecmo Koei', 'Electronic Arts', 'Marvelous Interactive', 'Falcom Corporation', 'Sony Computer Entertainment', 'Ubisoft', 'Activision', 'THQ', 'MTV Games', 'Rising Star Games', 'Hudson Soft', 'Take-Two Interactive', 'Namco Bandai Games', 'Sony Computer Entertainment', 'Sony Computer Entertainment', 'Electronic Arts', 'Kemco', 'Deep Silver', 'Codemasters', 'Midway Games', 'Sega', 'Eidos Interactive', 'SCi', 'Crave Entertainment', 'Namco Bandai Games', 'Electronic Arts', 'Konami Digital Entertainment', 'Atari', 'Ubisoft', 'Deep Silver', 'Electronic Arts', 'Nintendo', 'Sony Computer Entertainment', 'Activision', 'Activision', 'Milestone S.r.l.', 'Nintendo', 'Namco Bandai Games', 'Electronic Arts', 'Capcom', 'Activision', 'Capcom', 'Nintendo', 'Disney Interactive Studios', 'Rising Star Games', 'Sega', 'Activision', 'Deep Silver', 'THQ', 'Atari', 'Capcom', 'Electronic Arts', 'Sega', 'Midway Games', 'THQ', 'Electronic Arts', 'Capcom', 'Capcom', 'Warner Bros. Interactive Entertainment', 'Ubisoft', 'THQ', 'Nintendo', 'Eidos Interactive', 'THQ', 'Infogrames', 'Empire Interactive', 'GungHo', 'Zoo Digital Publishing', 'Eidos Interactive', 'Disney Interactive Studios', '505 Games', 'Acclaim Entertainment', 'Sammy Corporation', 'Virgin Interactive', 'Crave Entertainment', 'Vivendi Games', 'Bethesda Softworks', 'Ubisoft', 'Electronic Arts', 'Activision', 'Electronic Arts', 'Acclaim Entertainment', 'Electronic Arts', 'Atlus', 'Square Enix', 'Warner Bros. Interactive Entertainment', 'Rising Star Games', 'D3Publisher', 'Electronic Arts', 'Marvelous Entertainment', 'Sony Computer Entertainment', 'AQ Interactive', 'Tomy Corporation', 'Kalypso Media', 'Activision', 'THQ', 'Namco Bandai Games', 'Deep Silver', 'Sega', 'Electronic Arts', 'Zoo Digital Publishing', 'Bethesda Softworks', 'THQ', 'Activision', 'Sega', 'Eidos Interactive', 'Unknown', 'Electronic Arts', 'Avanquest', 'Ubisoft', 'THQ', 'Activision', 'Sony Computer Entertainment', 'Electronic Arts', 'LucasArts', 'Ubisoft', 'Namco Bandai Games', 'Eidos Interactive', 'Sony Computer Entertainment', 'Agetec', 'Namco Bandai Games', 'Take-Two Interactive', 'Electronic Arts', 'Electronic Arts', 'Midway Games', 'Interplay', 'Ubisoft', 'TDK Mediactive', 'Ubisoft', 'Nintendo', 'Take-Two Interactive', 'LucasArts', 'Universal Interactive', 'Electronic Arts', 'Take-Two Interactive', 'Disney Interactive Studios', 'Activision', 'Take-Two Interactive', 'Konami Digital Entertainment', 'Electronic Arts', 'Activision', 'Capcom', 'Take-Two Interactive', 'Electronic Arts', 'Namco Bandai Games', 'THQ', 'Sony Computer Entertainment Europe', 'Black Bean Games', 'Unknown', 'Namco Bandai Games', 'Electronic Arts', 'Acclaim Entertainment', 'XS Games', 'Ubisoft', 'Nippon Ichi Software', 'Capcom', 'Ubisoft', 'Disney Interactive Studios', 'THQ', 'Konami Digital Entertainment', 'Tecmo Koei', 'Activision Value', 'Square Enix', 'Nippon Ichi Software', 'Konami Digital Entertainment', 'Vivendi Games', 'Telltale Games', 'Deep Silver', 'THQ', 'Black Bean Games', 'Electronic Arts', 'Nintendo', 'Majesco Entertainment', 'THQ', 'Electronic Arts', 'THQ', 'Activision', 'Ubisoft', 'Eidos Interactive', 'Atari', 'Electronic Arts', 'Activision', 'Microsoft Game Studios', 'Electronic Arts', 'Electronic Arts', 'TDK Mediactive', 'Sega', 'Midway Games', 'Gamebridge', 'Electronic Arts', 'Square Enix', 'THQ', 'Namco Bandai Games', 'THQ', 'Konami Digital Entertainment', 'Square Enix', 'Eidos Interactive', 'Deep Silver', 'THQ', 'Midway Games', 'Capcom', 'THQ', 'Activision', 'Electronic Arts', 'Zushi Games', 'THQ', 'Trion Worlds', 'Electronic Arts', 'Electronic Arts', 'Sega', 'THQ', 'Ubisoft', 'Activision', 'Sony Computer Entertainment', 'Zoo Digital Publishing', 'Konami Digital Entertainment', 'Ignition Entertainment', 'Global Star', 'Atari', 'Namco Bandai Games', 'Atari', 'Activision', 'THQ', 'Ubisoft', 'Capcom', 'Acclaim Entertainment', 'Atari', 'Capcom', 'Ubisoft', 'Sony Computer Entertainment', 'Infogrames', 'Sega', 'Namco Bandai Games', 'Konami Digital Entertainment', 'Electronic Arts', 'City Interactive', 'CCP', 'Sega', 'Sega', 'Take-Two Interactive', 'Atari', 'THQ', 'Ignition Entertainment', 'Disney Interactive Studios', 'Rebellion Developments', 'Midway Games', 'Sony Computer Entertainment', 'Activision', 'Electronic Arts', 'Ubisoft', 'Infogrames', 'Nippon Ichi Software', 'Namco Bandai Games', 'Ubisoft', 'Activision', 'Sega', 'Agatsuma Entertainment', 'Take-Two Interactive', 'THQ', 'Midway Games', 'Ubisoft', 'Sega', 'Electronic Arts', 'Ubisoft', 'Electronic Arts', 'Electronic Arts', 'Sony Computer Entertainment', 'Kalypso Media', 'Namco Bandai Games', 'Black Bean Games', 'Nippon Ichi Software', 'Electronic Arts', 'Namco Bandai Games', 'Namco Bandai Games', 'Tecmo Koei', 'Electronic Arts', 'Activision', 'Sega', 'Sony Computer Entertainment', 'Disney Interactive Studios', 'Sony Computer Entertainment', 'Unknown', 'Bethesda Softworks', 'Nippon Ichi Software', 'Codemasters', 'Nintendo', 'Activision', 'Aspyr', 'Xplosiv', 'Namco Bandai Games', 'Square Enix', 'Activision', 'Electronic Arts', 'Activision', 'Warner Bros. Interactive Entertainment', 'Ubisoft', 'Namco Bandai Games', 'Activision', 'Electronic Arts', 'Konami Digital Entertainment', 'Konami Digital Entertainment', 'Compile Heart', 'Activision', 'D3Publisher', 'Acclaim Entertainment', 'THQ', 'Namco Bandai Games', 'THQ', 'Ubisoft', 'Atari', 'Activision', 'Atari', 'Infogrames', 'THQ', 'Konami Digital Entertainment', 'Ubisoft', 'THQ', 'Electronic Arts', 'THQ', 'Sega', 'Mad Catz', 'Vivendi Games', 'Electronic Arts', 'PopCap Games', 'Virgin Interactive', 'Ubisoft', 'Tecmo Koei', 'Vivendi Games', 'PQube', 'Activision', 'Xplosiv', '505 Games', 'Nintendo', 'Sony Computer Entertainment', 'Gust', 'SCi', 'Konami Digital Entertainment', 'Empire Interactive', 'Nippon Ichi Software', 'Vivendi Games', 'Ignition Entertainment', 'Ubisoft', 'City Interactive', 'Take-Two Interactive', 'Take-Two Interactive', 'Electronic Arts', 'Ubisoft', 'Electronic Arts', 'Ubisoft', 'Atari', 'THQ', 'Vivendi Games', 'THQ', 'TDK Core', 'Konami Digital Entertainment', 'Sega', 'Sega', 'Take-Two Interactive', 'Sony Computer Entertainment', 'Namco Bandai Games', 'Focus Home Interactive', 'Disney Interactive Studios', 'Konami Digital Entertainment', 'Capcom', 'Sega', 'Warner Bros. Interactive Entertainment', 'Electronic Arts', 'Nintendo', 'Ubisoft', 'Eidos Interactive', 'Take-Two Interactive', 'Electronic Arts', 'Nordcurrent', 'Eidos Interactive', 'Square Enix', 'Atari', 'Ubisoft', 'Ubisoft', 'Electronic Arts', 'Activision', 'Konami Digital Entertainment', 'Vivendi Games', 'Acclaim Entertainment', 'Activision', 'Midway Games', 'Square Enix', 'Electronic Arts', 'Square Enix', 'Tecmo Koei', 'Ubisoft', 'Activision', 'Ignition Entertainment', 'Sony Computer Entertainment', 'Tecmo Koei', 'Electronic Arts', 'THQ', 'Konami Digital Entertainment', 'Microsoft Game Studios', 'Namco Bandai Games', 'Konami Digital Entertainment', 'Marvelous Interactive', 'Ubisoft', 'Konami Digital Entertainment', 'Sony Computer Entertainment', 'Electronic Arts', 'Take-Two Interactive', 'THQ', 'Namco Bandai Games', 'Electronic Arts', 'Activision', 'Media Rings', 'Eidos Interactive', 'Electronic Arts', 'Warner Bros. Interactive Entertainment', 'Eidos Interactive', 'Konami Digital Entertainment', 'Universal Interactive', 'Electronic Arts', 'Sega', 'Activision', 'Atari', 'Sega', 'THQ', 'Deep Silver', 'Take-Two Interactive', 'Capcom', 'Namco Bandai Games', 'Vivendi Games', 'Ubisoft', 'Electronic Arts', 'Activision', 'Capcom', 'Nippon Ichi Software', 'Sony Computer Entertainment', 'Sony Computer Entertainment Europe', 'Deep Silver', 'Tecmo Koei', 'Namco Bandai Games', 'Unknown', 'Konami Digital Entertainment', 'Ubisoft', 'Namco Bandai Games', 'Ubisoft', 'Marvelous Interactive', 'Eidos Interactive', 'Sega', 'Vivendi Games', 'Activision', 'Sony Computer Entertainment', 'Capcom', 'Metro 3D', 'Disney Interactive Studios', 'Sega', 'Codemasters', 'bitComposer Games', 'Activision', 'Tecmo Koei', 'Eidos Interactive', 'D3Publisher', 'Take-Two Interactive', 'Deep Silver', 'Electronic Arts', 'Microsoft Game Studios', 'Tecmo Koei', 'Tecmo Koei', 'JoWood Productions', 'Midway Games', 'Electronic Arts', 'Disney Interactive Studios', 'Namco Bandai Games', 'Warner Bros. Interactive Entertainment', 'Black Bean Games', 'Electronic Arts', 'Sony Online Entertainment', 'Nippon Ichi Software', 'Electronic Arts', 'Sega', 'Vivendi Games', 'Tecmo Koei', 'D3Publisher', '505 Games', 'Namco Bandai Games', 'Take-Two Interactive', 'LucasArts', 'Vivendi Games', 'Electronic Arts', 'Electronic Arts', 'Unknown', 'Sony Computer Entertainment', 'Midway Games', 'Ubisoft', 'Ubisoft', 'THQ', 'Konami Digital Entertainment', 'Ubisoft', 'Sony Computer Entertainment', 'Square Enix', 'Midway Games', 'Konami Digital Entertainment', 'Eidos Interactive', 'Tecmo Koei', 'Activision', 'Ubisoft', 'Gathering of Developers', 'Atari', 'Electronic Arts', '505 Games', 'Ubisoft', 'Atari', 'Activision', 'Capcom', 'SouthPeak Games', 'Namco Bandai Games', '505 Games', 'Warner Bros. Interactive Entertainment', 'Marvelous Interactive', 'THQ', 'Unknown', 'THQ', 'Milestone S.r.l.', 'Atari', 'Activision', 'Brash Entertainment', 'Infogrames', 'THQ', 'Empire Interactive', 'Xseed Games', 'Capcom', 'Genki', 'Disney Interactive Studios', 'Activision', 'Marvelous Interactive', 'Codemasters', 'Rising Star Games', 'Midway Games', 'Disney Interactive Studios', 'Sega', 'Ubisoft', 'THQ', 'Activision', 'Electronic Arts', 'D3Publisher', 'Ubisoft', 'Activision', 'Activision', 'Namco Bandai Games', 'Performance Designed Products', 'Sega', 'Electronic Arts', 'Electronic Arts', 'Take-Two Interactive', 'THQ', 'Konami Digital Entertainment', 'Eidos Interactive', 'Capcom', 'Bethesda Softworks', 'Electronic Arts', 'Infogrames', 'Microsoft Game Studios', 'Ubisoft', 'Nippon Ichi Software', 'Marvelous Interactive', 'Take-Two Interactive', 'Namco Bandai Games', 'Sony Computer Entertainment', 'THQ', 'Unknown', 'Unknown', 'Global Star', '505 Games', 'Electronic Arts', 'Take-Two Interactive', 'Konami Digital Entertainment', 'THQ', '505 Games', 'Electronic Arts', 'Ubisoft', 'Codemasters', 'Atari', 'Sega', 'Global Star', 'Midway Games', 'Empire Interactive', 'Sega', 'Take-Two Interactive', 'Activision', 'Tecmo Koei', 'Electronic Arts', 'Namco Bandai Games', 'DTP Entertainment', 'Sega', 'Square Enix', 'Unknown', 'Electronic Arts', 'THQ', 'Ubisoft Annecy', 'Namco Bandai Games', 'Midway Games', 'Sony Computer Entertainment', 'Microsoft Game Studios', 'Midas Interactive Entertainment', 'Sega', 'Unknown', 'BAM! Entertainment', 'Konami Digital Entertainment', '3DO', 'Activision', 'Ubisoft', 'Namco Bandai Games', 'Spike', 'Crave Entertainment', 'Take-Two Interactive', 'Sony Computer Entertainment', 'Atari', 'Microsoft Game Studios', 'Sony Computer Entertainment', 'Square Enix', 'Vivendi Games', 'Milestone S.r.l.', 'Electronic Arts', 'Activision', 'Vivendi Games', 'Tecmo Koei', 'Unknown', 'Funcom', 'Konami Digital Entertainment', 'Destineer', 'Virgin Interactive', 'Take-Two Interactive', 'Electronic Arts', 'Unknown', 'Sony Computer Entertainment', 'Konami Digital Entertainment', 'Sega', 'Midway Games', 'Activision', 'Vivendi Games', 'Square Enix', 'Play It', 'Jaleco', '3DO', 'Ubisoft', 'Sony Computer Entertainment', 'Midway Games', 'Warner Bros. Interactive Entertainment', 'THQ', 'Disney Interactive Studios', 'THQ', 'Take-Two Interactive', 'Interplay', 'Sega', 'Nippon Ichi Software', 'Eidos Interactive', 'Capcom', 'Sony Computer Entertainment', 'Electronic Arts', 'Ignition Entertainment', 'Sega', 'Universal Interactive', 'Warner Bros. Interactive Entertainment', 'Electronic Arts', 'Activision', 'Disney Interactive Studios', 'Screenlife', 'Square Enix', 'Deep Silver', 'Electronic Arts', 'LucasArts', 'Tecmo Koei', 'Konami Digital Entertainment', 'Capcom', 'Electronic Arts', 'Activision', 'Capcom', '3DO', 'Atari', 'Sega', 'Electronic Arts', 'Tecmo Koei', 'Playlogic Game Factory', 'Warner Bros. Interactive Entertainment', 'Electronic Arts', 'TDK Mediactive', 'Sony Computer Entertainment', 'Infogrames', 'Take-Two Interactive', 'Electronic Arts', 'Microsoft Game Studios', 'Nippon Ichi Software', 'Human Entertainment', 'Ubisoft', 'Capcom', 'Playlogic Game Factory', 'Acclaim Entertainment', 'Disney Interactive Studios', 'Ubisoft', 'Eidos Interactive', 'Midway Games', 'Nippon Ichi Software', 'Activision', 'Sony Computer Entertainment', 'Disney Interactive Studios', 'DTP Entertainment', 'Namco Bandai Games', 'BAM! Entertainment', 'Electronic Arts', 'SouthPeak Games', 'Namco Bandai Games', 'Disney Interactive Studios', 'Nintendo', 'Deep Silver', 'Activision', 'Warner Bros. Interactive Entertainment', 'Eidos Interactive', '505 Games', 'Electronic Arts', 'Sega', 'Sony Computer Entertainment', 'Rising Star Games', 'Midway Games', 'Vivendi Games', 'Namco Bandai Games', 'Namco Bandai Games', 'Nintendo', 'Sega', 'Empire Interactive', 'Game Life', 'Focus Home Interactive', 'Atari', 'Ubisoft', 'Take-Two Interactive', 'Ignition Entertainment', 'Sony Computer Entertainment', 'LucasArts', 'Activision', 'Ubisoft', 'Fox Interactive', 'Sony Computer Entertainment', 'Sega', 'Sega', 'Electronic Arts', 'Codemasters', 'TDK Mediactive', 'Namco Bandai Games', 'Atari', 'Electronic Arts', 'Namco Bandai Games', 'Sammy Corporation', 'Codemasters', 'Majesco Entertainment', 'Electronic Arts', 'Namco Bandai Games', 'Konami Digital Entertainment', 'Midway Games', 'THQ', 'Konami Digital Entertainment', 'Activision', 'Sega', 'Marvelous Entertainment', 'Activision', 'Vivendi Games', 'Ignition Entertainment', 'Activision Value', 'Nintendo', 'Electronic Arts', 'Majesco Entertainment', 'Midway Games', 'Scholastic Inc.', 'LucasArts', 'Ubisoft', 'Square Enix', 'Acclaim Entertainment', 'Tecmo Koei', 'Ubisoft Annecy', 'Activision', 'THQ', 'Ubisoft', 'Konami Digital Entertainment', 'Infogrames', 'Take-Two Interactive', 'LucasArts', 'D3Publisher', 'Electronic Arts', 'Compile Heart', 'Konami Digital Entertainment', 'Infogrames', 'Konami Digital Entertainment', 'Vivendi Games', 'Ignition Entertainment', 'Take-Two Interactive', 'THQ', 'THQ', 'Namco Bandai Games', 'Ubisoft', 'Atari', 'Electronic Arts', 'Vivendi Games', 'Vivendi Games', 'Zoo Digital Publishing', 'Vivendi Games', 'Electronic Arts', 'Vivendi Games', 'Activision', 'Midway Games', 'Take-Two Interactive', 'Empire Interactive', 'Atari', 'Sony Computer Entertainment', 'Ubisoft', 'Konami Digital Entertainment', 'Take-Two Interactive', 'Nintendo', 'Unknown', 'Namco Bandai Games', 'Namco Bandai Games', 'Electronic Arts', 'System 3', 'Sony Online Entertainment', 'Nintendo', 'Tecmo Koei', 'Ubisoft', 'Namco Bandai Games', 'Play It', 'NCSoft', 'Electronic Arts', 'Take-Two Interactive', 'Rising Star Games', 'Sega', 'Electronic Arts', 'AQ Interactive', 'Vivendi Games', 'Konami Digital Entertainment', 'THQ', 'Unknown', 'THQ', 'Tecmo Koei', 'Atari', 'TDK Mediactive', 'Focus Home Interactive', 'City Interactive', 'Vatical Entertainment', 'Activision', 'Ubisoft Annecy', 'Activision', 'Namco Bandai Games', 'BAM! Entertainment', 'Ubisoft', 'THQ', 'Take-Two Interactive', 'Square Enix', 'Codemasters', 'Nippon Ichi Software', 'Activision', 'Acclaim Entertainment', 'Acclaim Entertainment', 'Tecmo Koei', 'Warner Bros. Interactive Entertainment', 'THQ', 'Disney Interactive Studios', 'Electronic Arts', 'Konami Digital Entertainment', 'Electronic Arts', 'Acclaim Entertainment', 'Atari', 'Sega', 'Electronic Arts', 'Bethesda Softworks', 'Namco Bandai Games', 'Zoo Digital Publishing', 'Ubisoft', 'Tecmo Koei', 'Deep Silver', 'Atari', 'THQ', 'Konami Digital Entertainment', 'THQ', 'Electronic Arts', 'Nordic Games', 'Konami Digital Entertainment', 'Codemasters', 'Sony Computer Entertainment', 'Eidos Interactive', 'THQ', 'Global Star', 'Midway Games', 'Microsoft Game Studios', 'Zoo Digital Publishing', 'Konami Digital Entertainment', 'Take-Two Interactive', 'Konami Digital Entertainment', 'White Park Bay Software', 'Nippon Ichi Software', 'D3Publisher', 'THQ', 'Activision', 'Tecmo Koei', 'Sony Computer Entertainment', 'Sony Computer Entertainment', 'Namco Bandai Games', 'THQ', 'Sega', 'Ubisoft', 'Ubisoft', 'Sega', 'Take-Two Interactive', 'Ubisoft', 'Capcom', 'Sega', 'Electronic Arts', 'Capcom', 'Atari', 'Atari', 'Electronic Arts', 'Sony Computer Entertainment', 'Atari', 'Sony Computer Entertainment', 'Electronic Arts', 'THQ', 'Titus', 'Take-Two Interactive', 'Acclaim Entertainment', 'Rage Software', 'Empire Interactive', 'THQ', 'Square Enix', 'Sega', 'THQ', 'THQ', 'Codemasters', 'Activision', '505 Games', 'Acclaim Entertainment', 'Ubisoft', 'Take-Two Interactive', 'Empire Interactive', 'Nintendo', 'Deep Silver', 'Namco Bandai Games', 'THQ', 'Capcom', 'Daedalic', 'Namco Bandai Games', 'Sony Computer Entertainment', 'Warner Bros. Interactive Entertainment', '505 Games', 'Sega', 'Ubisoft', 'Capcom', 'Play It', 'Vivendi Games', 'Ubisoft', 'Ubisoft', 'Namco Bandai Games', 'Ignition Entertainment', 'Unknown', 'Nippon Ichi Software', 'Electronic Arts', 'Sega', 'Activision', 'Ubisoft', 'Falcom Corporation', 'Vivendi Games', 'Electronic Arts', 'Electronic Arts', 'Warner Bros. Interactive Entertainment', 'D3Publisher', 'Sega', 'DTP Entertainment', 'D3Publisher', 'Take-Two Interactive', 'Ubisoft', 'Namco Bandai Games', 'Capcom', 'THQ', 'Eidos Interactive', 'Activision', 'Ubisoft', 'Namco Bandai Games', 'Unknown', 'Acclaim Entertainment', 'Konami Digital Entertainment', 'Zoo Digital Publishing', 'Microsoft Game Studios', 'Activision', 'Codemasters', 'Midway Games', 'Electronic Arts', 'Microsoft Game Studios', 'THQ', 'Ghostlight', 'Ubisoft', 'Unknown', 'Titus', 'Midway Games', 'Game Factory', 'Compile Heart', 'Namco Bandai Games', 'Activision', 'Activision', 'Wanadoo', 'Ubisoft', 'PQube', '505 Games', 'THQ', 'Electronic Arts', 'TDK Mediactive', 'The Adventure Company', 'Vivendi Games', 'EA Games', 'Konami Digital Entertainment', 'Nippon Ichi Software', 'Capcom', 'Acquire', 'Codemasters', 'Square Enix', 'Sega', 'Square Enix', 'THQ', 'Tecmo Koei', 'Sega', 'THQ', 'Unknown', 'Electronic Arts', 'Rising Star Games', 'Atlus', '3DO', 'Codemasters', 'Atari', 'Electronic Arts', 'Sega', 'Ubisoft', 'Focus Home Interactive', 'Namco Bandai Games', 'Activision', 'Sony Computer Entertainment', 'Arc System Works', 'Electronic Arts', 'Eidos Interactive', 'Takara Tomy', 'Empire Interactive', 'Sony Computer Entertainment', 'Midway Games', 'Sony Computer Entertainment', 'Electronic Arts', 'Acclaim Entertainment', 'Sega', 'Activision', 'Take-Two Interactive', 'Xplosiv', 'Zoo Digital Publishing', 'Electronic Arts', 'Vivendi Games', 'Take-Two Interactive', 'THQ', 'GungHo', 'Ubisoft', 'Take-Two Interactive', 'Konami Digital Entertainment', 'Sony Computer Entertainment', 'Deep Silver', 'Sony Computer Entertainment', 'Zoo Digital Publishing', '505 Games', 'Vivendi Games', 'Paradox Interactive', 'Banpresto', 'Sony Computer Entertainment', 'Play It', 'Ignition Entertainment', 'Electronic Arts', 'Yacht Club Games', 'Sony Computer Entertainment', 'Unknown', 'Nintendo', 'Virgin Interactive', 'SouthPeak Games', 'LucasArts', 'Electronic Arts', 'THQ', 'Activision Value', 'Sony Computer Entertainment', 'Eidos Interactive', 'SouthPeak Games', 'Nippon Ichi Software', 'Deep Silver', 'Atari', 'Atari', 'Ubisoft Annecy', 'Sega', 'Disney Interactive Studios', 'Swing! Entertainment', '505 Games', 'Telltale Games', 'Ubisoft', 'Capcom', 'Midway Games', 'Take-Two Interactive', 'Deep Silver', 'Disney Interactive Studios', 'Activision', 'Take-Two Interactive', 'Vivendi Games', 'Ubisoft Annecy', 'Virgin Interactive', 'THQ', 'Unknown', 'Deep Silver', '505 Games', 'Ubisoft', 'Ubisoft', 'Activision', 'Vivendi Games', 'Electronic Arts', 'Atari', '505 Games', 'Eidos Interactive', 'Capcom', 'Hip Interactive', 'Oxygen Interactive', '505 Games', 'Ubisoft', 'Electronic Arts', 'Electronic Arts', 'Midway Games', 'Acclaim Entertainment', 'Sony Computer Entertainment', 'Midway Games', 'Ubisoft', 'Electronic Arts', 'Atari', 'Atlus', 'Ubisoft', 'Sony Computer Entertainment', 'Rising Star Games', 'THQ', '505 Games', 'Rising Star Games', 'Ignition Entertainment', 'Activision', 'Disney Interactive Studios', 'THQ', 'Electronic Arts', 'Electronic Arts', 'Activision', 'Eidos Interactive', 'Activision', 'Acclaim Entertainment', 'Nintendo', 'Tripwire Interactive', 'Midway Games', 'Ubisoft', 'Ubisoft', 'Electronic Arts', 'THQ', 'Konami Digital Entertainment', 'Konami Digital Entertainment', 'Electronic Arts', 'Gathering of Developers', 'Activision', 'Bethesda Softworks', 'Sega', 'Ubisoft', 'City Interactive', '505 Games', 'THQ', 'Atari', 'Electronic Arts', 'Konami Digital Entertainment', 'Focus Home Interactive', 'Take-Two Interactive', 'Atari', 'D3Publisher', 'Mindscape', 'Zoo Digital Publishing', 'Square Enix', 'Atlus', 'Kemco', 'Atari', 'SouthPeak Games', '3DO', 'Ubisoft', 'Sega', 'Tecmo Koei', 'Ubisoft', 'Atari', 'Nintendo', 'Electronic Arts', 'Eidos Interactive', 'Tecmo Koei', 'Nippon Ichi Software', 'Take-Two Interactive', 'THQ', 'Black Bean Games', 'SCS Software', 'Eidos Interactive', 'SouthPeak Games', 'Vivendi Games', 'Konami Digital Entertainment', 'Enterbrain', 'Atari', 'Sony Computer Entertainment', 'Sony Computer Entertainment', 'Sega', 'Konami Digital Entertainment', 'Activision', 'Konami Digital Entertainment', 'Sega', 'Konami Digital Entertainment', 'Touchstone', 'Take-Two Interactive', 'Warner Bros. Interactive Entertainment', 'Electronic Arts', 'Sony Computer Entertainment', 'Atari', 'Atari', 'THQ', 'Warner Bros. Interactive Entertainment', 'Disney Interactive Studios', 'Capcom', 'Havas Interactive', 'Codemasters', 'Ubisoft', 'Sega', 'TDK Mediactive', 'DTP Entertainment', 'Activision', 'Atlus', 'Capcom', 'Activision', 'Codemasters', 'Atari', 'Microsoft Game Studios', 'Electronic Arts', 'Eidos Interactive', 'Namco Bandai Games', 'Sony Computer Entertainment', 'Ubisoft', 'Square Enix', 'Sony Computer Entertainment', 'Vivendi Games', 'Eidos Interactive', 'Activision', 'Ubisoft', 'PQube', 'Banpresto', 'Activision', 'Warner Bros. Interactive Entertainment', 'Sega', 'THQ', 'Warner Bros. Interactive Entertainment', 'Natsume', 'Sony Computer Entertainment', 'Ghostlight', 'Tecmo Koei', 'Electronic Arts', 'Namco Bandai Games', 'Activision Value', 'Electronic Arts', 'Konami Digital Entertainment', 'Ubisoft', 'Electronic Arts', 'D3Publisher', 'Infogrames', 'Ubisoft', 'Namco Bandai Games', 'Sega', 'Capcom', 'Warner Bros. Interactive Entertainment', 'Acclaim Entertainment', 'Acclaim Entertainment', 'Sting', 'D3Publisher', '3DO', 'Tecmo Koei', 'Idea Factory', 'Sega', 'Take-Two Interactive', 'THQ', 'Ubisoft', 'Destination Software, Inc', 'Take-Two Interactive', 'Funsta', 'Activision', 'Electronic Arts', 'Activision', 'Tecmo Koei', 'Acclaim Entertainment', 'Rising Star Games', 'Activision', 'Midway Games', 'Destineer', 'Midway Games', 'Vivendi Games', 'Electronic Arts', 'Capcom', 'Majesco Entertainment', 'Microsoft Game Studios', 'Sony Computer Entertainment', 'Ubisoft', 'Acclaim Entertainment', 'LucasArts', 'Slightly Mad Studios', 'Ubisoft', 'THQ', 'Square Enix', 'Square Enix', 'Sega', 'Konami Digital Entertainment', 'Capcom', 'Electronic Arts', 'Codemasters', 'Take-Two Interactive', 'Sega', 'PQube', 'Square Enix ', 'System 3 Arcade Software', 'Midas Interactive Entertainment', 'Electronic Arts', 'TDK Mediactive', 'D3Publisher', 'Konami Digital Entertainment', 'Sammy Corporation', 'Playlogic Game Factory', 'Ubisoft', 'Majesco Entertainment', 'Ghostlight', 'Unknown', 'Screenlife', 'D3Publisher', 'Ubisoft', 'Tecmo Koei', 'Activision', 'Sony Computer Entertainment', 'Midway Games', 'Virgin Interactive', 'Activision', 'Bethesda Softworks', 'Take-Two Interactive', 'Electronic Arts', 'Electronic Arts', 'D3Publisher', 'THQ', 'Microsoft Game Studios', 'Sony Computer Entertainment', '505 Games', 'Ubisoft', 'BAM! Entertainment', 'Sega', 'Vivendi Games', 'Namco Bandai Games', 'Sony Computer Entertainment', 'Warner Bros. Interactive Entertainment', 'Namco Bandai Games', 'Deep Silver', 'Tru Blu Entertainment', 'THQ', 'Take-Two Interactive', 'Tecmo Koei', 'Deep Silver', 'Ubisoft', 'Ubisoft Annecy', 'Electronic Arts', 'Electronic Arts', 'Mindscape', 'Electronic Arts', '505 Games', 'Rising Star Games', 'Electronic Arts', 'Midway Games', 'DTP Entertainment', 'Infogrames', 'Game Life', 'Vivendi Games', 'Crytek', 'Sega', 'Game Factory', 'Square Enix', 'Activision', 'Sega', 'Acclaim Entertainment', 'Atari', 'Focus Home Interactive', 'Bethesda Softworks', 'Unknown', 'Activision Value', 'Gust', 'Black Bean Games', 'THQ', 'Unknown', 'Take-Two Interactive', 'Sega', 'Codemasters', 'Sony Computer Entertainment', 'THQ', 'Sega', 'Codemasters', 'Activision', 'Acclaim Entertainment', 'Nippon Ichi Software', 'Crave Entertainment', 'Telegames', 'Ubisoft', 'Codemasters', 'Unknown', 'Zoo Digital Publishing', 'Electronic Arts', 'Hudson Soft', 'Unknown', 'Capcom', 'Activision', 'Sega', 'THQ', 'Acclaim Entertainment', 'Playlogic Game Factory', 'Zoo Digital Publishing', 'Namco Bandai Games', 'Deep Silver', 'Acclaim Entertainment', 'Ubisoft', 'Ubisoft', 'Electronic Arts', 'Eidos Interactive', 'Moss', 'THQ', 'Ubisoft', 'Game Factory', 'Game Factory', 'Sega', 'PopCap Games', 'Activision', 'Midway Games', 'Tecmo Koei', 'Konami Digital Entertainment', 'Electronic Arts', 'Capcom', 'Ubisoft', 'Acclaim Entertainment', 'Konami Digital Entertainment', 'Sega', 'Ubisoft', 'Warner Bros. Interactive Entertainment', 'Vivendi Games', 'D3Publisher', 'Kalypso Media', 'Konami Digital Entertainment', 'Sony Computer Entertainment', 'Atari', 'Electronic Arts', 'Midway Games', 'THQ', 'From Software', 'Capcom', 'Konami Digital Entertainment', 'Warner Bros. Interactive Entertainment', 'Warner Bros. Interactive Entertainment', 'Sega', 'NDA Productions', 'Electronic Arts', 'Disney Interactive Studios', 'Electronic Arts', 'Electronic Arts', 'Ubisoft', 'THQ', 'Foreign Media Games', 'THQ', 'Tecmo Koei', 'Ubisoft', 'Activision', 'Atari', 'Atari', 'Metro 3D', 'Electronic Arts', 'Tecmo Koei', 'Deep Silver', 'Electronic Arts', 'Bigben Interactive', 'Sting', 'D3Publisher', 'Atari', 'THQ', 'Nintendo', 'Nippon Ichi Software', 'Electronic Arts', 'Idea Factory International', 'Namco Bandai Games', 'Acclaim Entertainment', 'Sega', 'Global Star', 'Electronic Arts', 'Take-Two Interactive', 'SouthPeak Games', 'Empire Interactive', 'Midway Games', 'Ubisoft', 'Ubisoft', 'Namco Bandai Games', 'Electronic Arts', 'Bethesda Softworks', 'Activision', 'Microsoft Game Studios', 'Atlus', 'Capcom', 'Nintendo', 'Ubisoft', 'Vivendi Games', 'Konami Digital Entertainment', 'THQ', 'Kemco', 'THQ', 'Sony Computer Entertainment', 'Acclaim Entertainment', 'Disney Interactive Studios', 'Deep Silver', 'Ubisoft', 'Ignition Entertainment', 'Rising Star Games', 'Zoo Digital Publishing', 'Global Star', 'D3Publisher', 'Ubisoft', 'Electronic Arts', 'Midway Games', 'From Software', 'Sega', 'Rage Software', 'Universal Interactive', 'Acclaim Entertainment', 'Namco Bandai Games', 'Warner Bros. Interactive Entertainment', 'Ubisoft', 'Ubisoft', 'Zoo Digital Publishing', 'Sega', 'Konami Digital Entertainment', 'SouthPeak Games', 'Electronic Arts', 'PQube', 'Konami Digital Entertainment', 'Activision', 'Capcom', 'THQ', 'Ubisoft', 'THQ', 'Ubisoft', 'Electronic Arts', 'Konami Digital Entertainment', 'PQube', 'Warner Bros. Interactive Entertainment', 'Brash Entertainment', 'Electronic Arts', 'Deep Silver', '3DO', 'Namco Bandai Games', 'Ubisoft', 'Ubisoft', 'Gathering of Developers', 'Namco Bandai Games', 'Midway Games', 'Sega', 'O-Games', 'Activision', 'THQ', 'Acclaim Entertainment', 'Gameloft', 'Eidos Interactive', 'D3Publisher', 'Funbox Media', 'Majesco Entertainment', 'Activision', 'Nintendo', 'Konami Digital Entertainment', 'Taito', 'Tecmo Koei', 'Eidos Interactive', 'Ignition Entertainment', 'PQube', 'Namco Bandai Games', 'Ignition Entertainment', 'Vivendi Games', 'Codemasters', 'Namco Bandai Games', 'Tecmo Koei', 'Sega', 'Swing! Entertainment', 'Zoo Games', 'Vivendi Games', 'Acclaim Entertainment', 'Konami Digital Entertainment', 'Majesco Entertainment', 'System 3 Arcade Software', 'Capcom', 'Microsoft Game Studios', 'Codemasters', 'Activision', 'Daedalic', 'THQ', 'Eidos Interactive', '505 Games', 'Konami Digital Entertainment', 'Atari', 'Warner Bros. Interactive Entertainment', 'Universal Interactive', 'SCi', 'Global Star', 'Tecmo Koei', 'Valcon Games', 'Electronic Arts', 'Midway Games', 'PQube', 'SouthPeak Games', 'THQ', 'Acclaim Entertainment', 'Majesco Entertainment', '505 Games', 'Konami Digital Entertainment', 'Activision', 'TDK Mediactive', 'Global Star', 'Vivendi Games', 'Sony Computer Entertainment', 'Konami Digital Entertainment', 'Storm City Games', 'Electronic Arts', 'Sega', 'D3Publisher', 'Sega', 'Take-Two Interactive', 'Activision', 'Rebellion Developments', 'Activision', 'Konami Digital Entertainment', '505 Games', 'Nintendo', 'Namco Bandai Games', '3DO', 'PQube', 'Capcom', 'Deep Silver', 'Warner Bros. Interactive Entertainment', 'PM Studios', 'Activision', 'Ubisoft', 'Konami Digital Entertainment', 'Electronic Arts', 'Bohemia Interactive', 'THQ', 'Electronic Arts', 'BAM! Entertainment', 'Takara Tomy', 'Sony Computer Entertainment America', 'Bethesda Softworks', 'Reef Entertainment', 'Electronic Arts', 'Konami Digital Entertainment', 'Take-Two Interactive', 'Vivendi Games', 'Ubisoft', 'Empire Interactive', 'The Adventure Company', 'Electronic Arts', 'Empire Interactive', 'Namco Bandai Games', 'Namco Bandai Games', 'Aqua Plus', 'DTP Entertainment', 'Konami Digital Entertainment', 'Electronic Arts', 'Oxygen Interactive', 'Namco Bandai Games', 'Atlus', 'Activision', 'Zoo Digital Publishing', 'Activision', 'Ackkstudios', 'GungHo', 'Ubisoft', 'Midway Games', 'Take-Two Interactive', 'Ubisoft', 'Capcom', 'HMH Interactive', 'Electronic Arts', 'Acclaim Entertainment', 'Electronic Arts', 'Hip Interactive', 'Ignition Entertainment', 'Deep Silver', 'Unknown', 'Konami Digital Entertainment', 'THQ', 'Tecmo Koei', 'inXile Entertainment', 'Kalypso Media', 'Sony Computer Entertainment', 'Konami Digital Entertainment', 'Cave', 'Konami Digital Entertainment', 'Vivendi Games', 'Ubisoft', 'LucasArts', 'Disney Interactive Studios', 'Electronic Arts', 'Sony Computer Entertainment', 'Sony Computer Entertainment', 'Zoo Digital Publishing', 'Microids', 'LucasArts', 'Ubisoft', 'THQ', 'Square Enix', 'Sting', 'Konami Digital Entertainment', 'Sting', 'Konami Digital Entertainment', '505 Games', 'Sega', 'Sony Computer Entertainment', 'Activision', 'Activision', 'Konami Digital Entertainment', 'D3Publisher', 'Zoo Digital Publishing', 'Milestone S.r.l.', 'Activision', 'Rising Star Games', 'Codemasters', 'Ubisoft', 'Electronic Arts', 'Electronic Arts', 'THQ', 'Midway Games', 'Konami Digital Entertainment', 'Activision', 'Capcom', 'Virgin Interactive', 'Sega', 'Midway Games', 'Unknown', 'Eidos Interactive', 'THQ', 'Electronic Arts', 'Ubisoft', 'Activision', 'Virgin Interactive', 'Warner Bros. Interactive Entertainment', 'Midway Games', 'SCi', 'Activision', 'Tecmo Koei', 'Konami Digital Entertainment', 'Screenlife', 'Deep Silver', 'JoWood Productions', 'Hudson Soft', 'Sega', '505 Games', 'Warner Bros. Interactive Entertainment', 'Vivendi Games', 'Ubisoft', 'Nippon Ichi Software', 'Activision', 'Activision', 'Capcom', 'Activision', 'Electronic Arts', 'Rising Star Games', 'Electronic Arts', 'Zoo Digital Publishing', 'Global Star', 'Capcom', 'Acclaim Entertainment', 'Ubisoft', 'Zoo Digital Publishing', 'Midway Games', 'Ubisoft', 'Ubisoft', 'Hudson Soft', 'Deep Silver', 'Ubisoft', 'Atari', 'Activision', 'Crave Entertainment', '505 Games', 'Midway Games', 'Konami Digital Entertainment', 'Metro 3D', 'Codemasters', 'Majesco Entertainment', 'Activision', 'Atari', 'Activision', 'Activision', 'Microsoft Game Studios', 'Take-Two Interactive', 'Activision', 'Take-Two Interactive', 'Rising Star Games', 'THQ', 'Capcom', 'Electronic Arts', 'Ubisoft', 'Vivendi Games', 'Tecmo Koei', 'Kemco', 'PQube', 'Ubisoft', 'Take-Two Interactive', 'Oxygen Interactive', 'Global Star', 'Capcom', 'CCP', 'Namco Bandai Games', 'Ubisoft', 'Activision', 'Nippon Ichi Software', 'Konami Digital Entertainment', 'Sony Computer Entertainment', 'Capcom', 'Konami Digital Entertainment', 'Sega', 'Ubisoft', 'BAM! Entertainment', 'Codemasters', 'Rising Star Games', 'Namco Bandai Games', 'Ubisoft', 'Sega', 'Namco Bandai Games', 'Electronic Arts', 'Zoo Digital Publishing', 'Vivendi Games', '505 Games', 'D3Publisher', 'Konami Digital Entertainment', 'Rage Software', 'Yacht Club Games', 'Nippon Ichi Software', 'THQ', 'Codemasters', '505 Games', 'Konami Digital Entertainment', 'Tecmo Koei', 'Electronic Arts', 'Microsoft Game Studios', 'Capcom', 'Deep Silver', 'PopCap Games', 'Eidos Interactive', 'Ignition Entertainment', 'Sega', 'Phantom EFX', 'Activision', 'Activision', 'Electronic Arts', 'Namco Bandai Games', 'Electronic Arts', 'THQ', 'Ubisoft', 'Sony Computer Entertainment', 'THQ', 'Capcom', 'Square Enix', 'Namco Bandai Games', 'Rage Software', 'Ghostlight', 'Nintendo', 'Eidos Interactive', 'Midway Games', 'Vivendi Games', 'Namco Bandai Games', 'Idea Factory', 'Acclaim Entertainment', 'Kalypso Media', 'Activision', 'Deep Silver', 'Tecmo Koei', 'Electronic Arts', 'From Software', 'THQ', 'Rising Star Games', 'Namco Bandai Games', 'Evolved Games', 'Microsoft Game Studios', 'D3Publisher', 'Sega', 'THQ', 'Take-Two Interactive', 'Microsoft Game Studios', 'Konami Digital Entertainment', 'Electronic Arts', 'Midway Games', 'Take-Two Interactive', 'Zoo Digital Publishing', 'JoWood Productions', 'Majesco Entertainment', 'Game Factory', 'Konami Digital Entertainment', 'Take-Two Interactive', 'Electronic Arts', 'Atari', 'Activision', 'Atari', 'O3 Entertainment', 'Crave Entertainment', 'Rising Star Games', 'Zoo Digital Publishing', 'Microsoft Game Studios', '505 Games', 'Atari', 'Electronic Arts', 'Namco Bandai Games', 'Atari', 'Konami Digital Entertainment', 'Atari', 'Namco Bandai Games', 'THQ', 'PQube', 'Sega', 'Sony Computer Entertainment', 'Square Enix', 'Vivendi Games', 'Activision', 'Midway Games', 'THQ', 'Eidos Interactive', 'Electronic Arts', 'Virgin Interactive', 'Tecmo Koei', 'Tecmo Koei', 'Warner Bros. Interactive Entertainment', 'Ubisoft', 'Atari', 'Aspyr', 'Take-Two Interactive', 'Ubisoft', 'Sega', 'Infogrames', 'Play It', 'Konami Digital Entertainment', 'Sony Computer Entertainment', 'Eidos Interactive', '505 Games', 'Namco Bandai Games', 'Ubisoft', 'Mastertronic', 'Tecmo Koei', 'Konami Digital Entertainment', 'Sony Computer Entertainment', 'Konami Digital Entertainment', 'Konami Digital Entertainment', 'GungHo', 'Ubisoft', 'Electronic Arts', 'Ubisoft', 'Deep Silver', 'THQ', 'Nippon Ichi Software', 'Nippon Ichi Software', 'Empire Interactive', 'THQ', 'Electronic Arts', 'Nintendo', 'Nobilis', 'Nippon Ichi Software', 'Sony Computer Entertainment', 'Tecmo Koei', 'Konami Digital Entertainment', 'Eidos Interactive', 'Telltale Games', 'Square Enix', 'Tecmo Koei', 'Sega', 'Midway Games', 'Takara Tomy', 'Tecmo Koei', 'Midway Games', 'Metro 3D', 'Codemasters', 'Crave Entertainment', 'Capcom', 'Empire Interactive', '505 Games', 'Atari', 'Midway Games', 'Konami Digital Entertainment', 'Ubisoft', 'Sunsoft', 'Atari', 'PQube', 'Tecmo Koei', 'Electronic Arts', 'Playlogic Game Factory', 'Activision', 'Capcom', 'Bethesda Softworks', 'Codemasters', 'Vivendi Games', 'Atari', 'Midway Games', 'Tecmo Koei', 'Vivendi Games', 'Atlus', '505 Games', 'THQ', 'Namco Bandai Games', 'Idea Factory', 'Take-Two Interactive', 'Midway Games', 'Activision', 'Namco Bandai Games', 'Midway Games', 'Deep Silver', '505 Games', 'Konami Digital Entertainment', '505 Games', 'Playlogic Game Factory', 'THQ', 'Electronic Arts', 'Sony Computer Entertainment', 'Tecmo Koei', 'Activision', 'Eidos Interactive', 'Atari', 'Take-Two Interactive', 'MTV Games', 'LucasArts', 'Disney Interactive Studios', 'Kemco', 'THQ', 'Rising Star Games', 'Bigben Interactive', 'Ubisoft', 'Majesco Entertainment', 'THQ', 'Ubisoft', 'Eidos Interactive', 'Vivendi Games', 'Big Ben Interactive', 'Destineer', 'Ubisoft', 'Square Enix', 'Electronic Arts', 'Capcom', 'Microsoft Game Studios', 'Sega', 'Sega', 'THQ', 'THQ', 'Ubisoft', 'Sega', 'Natsume', 'Electronic Arts', 'Konami Digital Entertainment', 'DSI Games', 'Vivendi Games', 'Konami Digital Entertainment', 'DTP Entertainment', 'Eidos Interactive', 'Ubisoft', 'Valcon Games', 'Activision', 'LucasArts', 'PQube', 'Sega', 'Sting', 'Electronic Arts', 'Atari', 'Konami Digital Entertainment', 'Majesco Entertainment', 'Sega', 'Capcom', 'Hudson Soft', 'Hudson Soft', 'Codemasters', 'Majesco Entertainment', 'Crave Entertainment', 'Little Orbit', 'Midway Games', 'Ubisoft', 'Telegames', 'Ubisoft', 'Capcom', 'D3Publisher', 'Electronic Arts', 'PopCap Games', 'LucasArts', 'Electronic Arts', 'Eidos Interactive', 'THQ', 'THQ', 'Unknown', 'Empire Interactive', 'Ignition Entertainment', 'Namco Bandai Games', 'Konami Digital Entertainment', 'Ubisoft', 'Namco Bandai Games', 'Take-Two Interactive', 'Electronic Arts', 'bitComposer Games', 'Ubisoft', 'Yacht Club Games', 'Virgin Interactive', 'Sony Computer Entertainment', 'Konami Digital Entertainment', 'Ghostlight', 'Konami Digital Entertainment', 'Take-Two Interactive', 'The Adventure Company', 'Take-Two Interactive', 'Atari', 'Electronic Arts', 'Eidos Interactive', 'Capcom', 'Namco Bandai Games', 'Electronic Arts', 'Vivendi Games', 'Hudson Entertainment', 'Nintendo', 'SouthPeak Games', 'Take-Two Interactive', 'Sega', 'Little Orbit', 'Deep Silver', 'Konami Digital Entertainment', 'Popcorn Arcade', 'Ubisoft', 'Electronic Arts', 'Eidos Interactive', 'Electronic Arts', 'Atlus', '505 Games', 'Ignition Entertainment', 'Tecmo Koei', 'Electronic Arts', 'Activision', 'TDK Mediactive', 'Take-Two Interactive', 'Eidos Interactive', 'Take-Two Interactive', 'The Adventure Company', 'Tecmo Koei', 'Sony Computer Entertainment', 'Namco Bandai Games', 'Agetec', 'Ubisoft', 'Empire Interactive', 'Warner Bros. Interactive Entertainment', 'Namco Bandai Games', 'City Interactive', 'Rising Star Games', '505 Games', 'Warner Bros. Interactive Entertainment', 'Deep Silver', 'Electronic Arts', '3DO', 'Electronic Arts', 'Ubisoft', 'THQ', 'Konami Digital Entertainment', 'Titus', 'Midway Games', 'Marvelous Interactive', 'Vivendi Games', 'Jaleco', 'Namco Bandai Games', 'Swing! Entertainment', 'Black Bean Games', 'Disney Interactive Studios', 'Atari', 'From Software', 'Namco Bandai Games', 'Kemco', 'Namco Bandai Games', 'Sega', 'Kalypso Media', 'Unknown', 'Vivendi Games', 'Midway Games', 'D3Publisher', 'Eidos Interactive', 'THQ', 'Midway Games', 'Focus Home Interactive', 'Electronic Arts', 'Mumbo Jumbo', 'Nippon Ichi Software', 'Codemasters', 'Capcom', 'Ubisoft', 'Atari', 'Eidos Interactive', 'THQ', 'Ubisoft', 'Ubisoft', 'Game Factory', 'THQ', 'Take-Two Interactive', 'Metro 3D', 'Koch Media', 'Insomniac Games', 'Activision', 'Sega', 'Majesco Entertainment', 'Global Star', 'THQ', 'Midas Interactive Entertainment', 'Sega', 'Ubisoft', 'Capcom', 'Tecmo Koei', 'Focus Home Interactive', 'Ubisoft', 'Ubisoft', 'Sega', 'Empire Interactive', 'Ubisoft', 'Zoo Digital Publishing', 'THQ', 'Konami Digital Entertainment', 'Midway Games', 'Ubisoft', 'Namco Bandai Games', 'Oxygen Interactive', 'Eidos Interactive', 'Capcom', 'Acclaim Entertainment', 'D3Publisher', 'Namco Bandai Games', 'Tecmo Koei', 'Deep Silver', 'Majesco Entertainment', 'Konami Digital Entertainment', 'Electronic Arts', '505 Games', 'Sony Computer Entertainment', 'Mastertronic', 'Milestone', 'Playlogic Game Factory', 'Activision', 'THQ', 'Atari', 'Jaleco', 'Electronic Arts', 'Electronic Arts', 'D3Publisher', 'Namco Bandai Games', 'Aksys Games', '505 Games', 'Gathering of Developers', 'SCi', 'Tecmo Koei', 'Konami Digital Entertainment', 'Ubisoft', 'Ubisoft', 'Zoo Digital Publishing', 'Ubisoft', 'BAM! Entertainment', 'THQ', 'Konami Digital Entertainment', 'Codemasters', 'Kalypso Media', 'RedOctane', 'Square Enix', 'Sony Computer Entertainment', 'Rising Star Games', 'Nippon Ichi Software', 'Taito', 'The Adventure Company', 'SCi', 'Activision', 'Ubisoft', 'Electronic Arts', 'Capcom', 'Warner Bros. Interactive Entertainment', 'Electronic Arts', 'Activision', 'Deep Silver', 'Activision', 'Deep Silver', 'JoWood Productions', 'Namco Bandai Games', 'Reef Entertainment', 'Mad Catz', 'Unknown', 'Vivendi Games', 'Warner Bros. Interactive Entertainment', 'Ubisoft', '3DO', 'City Interactive', 'Microids', 'Empire Interactive', 'Namco Bandai Games', 'Electronic Arts', 'Tecmo Koei', 'Ignition Entertainment', 'Sega', 'LucasArts', 'DTP Entertainment', 'Eidos Interactive', 'Deep Silver', 'RTL', 'Codemasters', 'Idea Factory International', 'SouthPeak Games', 'Microsoft Game Studios', 'Tecmo Koei', 'Brash Entertainment', 'Paradox Interactive', 'Majesco Entertainment', 'Tecmo Koei', 'Irem Software Engineering', 'Namco Bandai Games', 'THQ', 'Konami Digital Entertainment', 'Zoo Digital Publishing', 'Myelin Media', 'THQ', 'Global Star', 'Ubisoft', 'Tecmo Koei', 'Activision', 'Bethesda Softworks', 'Vivendi Games', 'Midway Games', 'D3Publisher', 'Sega', 'Konami Digital Entertainment', 'Success', 'Sammy Corporation', 'Deep Silver', 'Rising Star Games', 'Unknown', 'Capcom', 'Nippon Ichi Software', 'Tecmo Koei', 'Konami Digital Entertainment', 'Destineer', 'Deep Silver', 'Ubisoft', 'Tecmo Koei', 'Codemasters', 'MTV Games', 'Codemasters', 'Human Entertainment', 'Take-Two Interactive', 'Ubisoft', 'Konami Digital Entertainment', 'Konami Digital Entertainment', 'Ignition Entertainment', 'Atari', 'Nintendo', 'Electronic Arts', 'Konami Digital Entertainment', 'Codemasters', 'Tecmo Koei', 'Electronic Arts', 'Ghostlight', 'Ignition Entertainment', 'Oxygen Interactive', 'Ubisoft', 'Gathering of Developers', 'Atari', 'Ubisoft', 'Unknown', '505 Games', 'Tecmo Koei', 'Aksys Games', 'Namco Bandai Games', 'Xseed Games', 'Namco Bandai Games', 'Sony Computer Entertainment', 'Tecmo Koei', 'Electronic Arts', 'Tecmo Koei', 'Sega', 'Konami Digital Entertainment', 'Nippon Ichi Software', 'Konami Digital Entertainment', 'Swing! Entertainment', 'Namco Bandai Games', 'Sega', 'Activision', 'Atlus', 'Eidos Interactive', 'Microsoft Game Studios', 'Sega', 'Electronic Arts', 'Tecmo Koei', 'Focus Home Interactive', 'Enix Corporation', 'Eidos Interactive', 'Namco Bandai Games', 'Ubisoft', 'Majesco Entertainment', 'Enterbrain', 'Sony Computer Entertainment', 'Sony Computer Entertainment', 'Success', 'Electronic Arts', 'Midway Games', 'Microsoft Game Studios', 'Metro 3D', 'Daedalic Entertainment', 'Nordic Games', 'Xplosiv', 'THQ', 'Namco Bandai Games', 'Capcom', '505 Games', 'Ubisoft', 'Tecmo Koei', 'Atari', 'Microids', 'Sega', '505 Games', 'Electronic Arts', 'Capcom', 'Acclaim Entertainment', 'SNK Playmore', 'Konami Digital Entertainment', 'Midway Games', 'Crave Entertainment', 'Atari', '505 Games', 'Ubisoft', 'Namco Bandai Games', 'TDK Mediactive', 'Capcom', 'Activision', 'Empire Interactive', 'Unknown', 'SNK', 'Kalypso Media', '505 Games', '505 Games', 'Sega', 'Disney Interactive Studios', 'Nippon Ichi Software', 'Evolved Games', 'Konami Digital Entertainment', 'THQ', 'Xplosiv', 'Sony Computer Entertainment', 'Avalon Interactive', 'Namco Bandai Games', 'Rising Star Games', 'Sega', 'Konami Digital Entertainment', 'Focus Home Interactive', 'Sega', 'Brash Entertainment', 'Ubisoft', 'THQ', 'Nippon Ichi Software', 'Ubisoft', 'Midway Games', 'Revolution Software', 'Nordic Games', 'THQ', 'Konami Digital Entertainment', 'Deep Silver', 'Irem Software Engineering', 'Take-Two Interactive', 'Ubisoft', 'Enterbrain', 'Electronic Arts', 'Genki', 'Take-Two Interactive', 'Microsoft Game Studios', 'Deep Silver', '505 Games', 'Electronic Arts', 'City Interactive', 'Disney Interactive Studios', 'Konami Digital Entertainment', 'Electronic Arts', 'Codemasters', 'Nippon Ichi Software', 'Activision', 'Tecmo Koei', 'Acclaim Entertainment', 'Capcom', 'Namco Bandai Games', 'Acclaim Entertainment', 'Gamecock', 'Acclaim Entertainment', 'Nintendo', 'Sega', 'Konami Digital Entertainment', 'Eidos Interactive', 'Square Enix', 'Activision', 'Konami Digital Entertainment', 'Tecmo Koei', 'Zoo Digital Publishing', 'Ubisoft', 'Namco Bandai Games', 'Electronic Arts', 'Sega', 'Majesco Entertainment', 'Game Factory', 'Electronic Arts', 'Electronic Arts', 'Sega', 'Sony Computer Entertainment', 'Sega', 'Ubisoft', 'Take-Two Interactive', 'SouthPeak Games', 'Groove Games', '505 Games', 'Take-Two Interactive', 'Nobilis', 'THQ', 'Namco Bandai Games', 'Ubisoft', 'Konami Digital Entertainment', 'Aksys Games', 'Eidos Interactive', 'Tecmo Koei', 'Disney Interactive Studios', 'Konami Digital Entertainment', 'FuRyu', 'Midas Interactive Entertainment', 'Zoo Digital Publishing', 'Hudson Entertainment', 'Zoo Games', 'PQube', 'Tecmo Koei', 'Crave Entertainment', 'Microsoft Game Studios', 'D3Publisher', 'Tecmo Koei', 'Mattel Interactive', 'Activision Value', 'ArtDink', 'Microsoft Game Studios', 'Game Factory', 'Nobilis', 'Playlogic Game Factory', 'Warner Bros. Interactive Entertainment', 'Capcom', 'Interplay', 'Nordic Games', 'Nippon Ichi Software', 'Warner Bros. Interactive Entertainment', 'Atari', 'TDK Mediactive', 'Xseed Games', 'Ubisoft', 'Oxygen Interactive', 'Focus Home Interactive', 'Electronic Arts', 'Take-Two Interactive', 'SCi', 'Activision', 'Focus Home Interactive', 'Ubisoft', 'THQ', 'Sega', 'Acclaim Entertainment', 'Ubisoft', 'Koch Media', 'Midway Games', 'Konami Digital Entertainment', 'Ubisoft', 'Atari', 'Square Enix', 'Activision', 'SouthPeak Games', 'Take-Two Interactive', 'Insomniac Games', 'Capcom', 'Activision Value', 'Capcom', 'Ubisoft', 'Atari', 'Nintendo', 'Ubisoft', 'Konami Digital Entertainment', 'Namco Bandai Games', 'Bethesda Softworks', 'Disney Interactive Studios', 'Electronic Arts', 'Take-Two Interactive', 'Unknown', 'Activision', 'Zoo Digital Publishing', 'Eidos Interactive', 'Namco Bandai Games', 'Sammy Corporation', 'Mercury Games', 'Nintendo', 'Ubisoft', 'THQ', 'Konami Digital Entertainment', 'BAM! Entertainment', 'Capcom', 'Activision', 'Tecmo Koei', 'Take-Two Interactive', 'Marvelous Entertainment', 'Sega', 'Ignition Entertainment', '3DO', 'Arc System Works', 'Ascaron Entertainment GmbH', 'Little Orbit', 'Konami Digital Entertainment', 'Eidos Interactive', 'Konami Digital Entertainment', 'Disney Interactive Studios', 'Atari', 'Namco Bandai Games', 'Ignition Entertainment', 'Activision', 'Zoo Digital Publishing', 'Evolved Games', 'Ubisoft', 'Namco Bandai Games', 'Electronic Arts', 'Atari', 'Aksys Games', 'Microsoft Game Studios', 'SouthPeak Games', 'Ubisoft', 'Konami Digital Entertainment', 'Hudson Soft', 'SouthPeak Games', 'Tecmo Koei', 'Eidos Interactive', 'Ubisoft', 'Rising Star Games', 'Capcom', 'Konami Digital Entertainment', 'Electronic Arts', '505 Games', 'Tecmo Koei', 'Nippon Ichi Software', 'Unknown', 'Capcom', 'Konami Digital Entertainment', 'Infogrames', 'Nordic Games', 'Activision', 'Atari', 'Electronic Arts', 'SCi', 'Ubisoft', 'Ignition Entertainment', 'THQ', 'Majesco Entertainment', 'Sega', 'Kalypso Media', 'Sony Computer Entertainment', 'Ubisoft', 'Ubisoft', 'Activision', 'Acclaim Entertainment', 'Capcom', 'Atari', 'Activision', 'Electronic Arts', 'Midas Interactive Entertainment', 'Mastiff', 'Aksys Games', 'Activision', 'Sony Computer Entertainment', 'Midway Games', 'Electronic Arts', 'Unknown', 'SouthPeak Games', 'Capcom', 'Eidos Interactive', 'THQ', 'Konami Digital Entertainment', 'Ubisoft', 'Electronic Arts', 'Vivendi Games', 'Majesco Entertainment', 'Deep Silver', 'Warner Bros. Interactive Entertainment', 'Electronic Arts', 'Gamecock', 'Ubisoft', 'Sony Computer Entertainment', '505 Games', 'Rising Star Games', 'Eidos Interactive', 'Atari', 'Electronic Arts', 'THQ', 'Sega', 'Brash Entertainment', 'TDK Mediactive', 'BAM! Entertainment', 'Success', 'JoWood Productions', 'Black Bean Games', 'Telltale Games', 'Ubisoft', 'Eidos Interactive', 'Capcom', 'Acclaim Entertainment', 'Atari', 'Codemasters', 'Acclaim Entertainment', 'Capcom', 'D3Publisher', 'Sony Computer Entertainment', 'Acclaim Entertainment', 'Konami Digital Entertainment', 'Paradox Interactive', 'Destination Software, Inc', 'Atari', 'Sega', 'Sega', 'City Interactive', 'Playlogic Game Factory', 'Eidos Interactive', 'Empire Interactive', 'Graffiti', 'Global Star', 'Zoo Digital Publishing', 'Atari', 'Square Enix', 'Konami Digital Entertainment', 'Tecmo Koei', 'Electronic Arts', 'Tecmo Koei', 'DTP Entertainment', 'Square Enix', 'Activision', 'Sony Computer Entertainment', 'Midway Games', 'Idea Factory', 'Taito', 'Electronic Arts', 'Kalypso Media', 'Destineer', 'Ubisoft', 'Ubisoft', 'Midway Games', 'Graffiti', 'Konami Digital Entertainment', 'Activision', 'Deep Silver', 'Namco Bandai Games', 'Tecmo Koei', 'Unknown', 'SouthPeak Games', 'Electronic Arts', 'Nordcurrent', 'Konami Digital Entertainment', '1C Company', 'Nippon Ichi Software', 'Ubisoft', 'Deep Silver', 'Namco Bandai Games', 'Sega', 'Electronic Arts', 'Codemasters', 'Ubisoft', 'Playlogic Game Factory', 'Bethesda Softworks', 'Evolved Games', 'Majesco Entertainment', 'Sega', 'JoWood Productions', 'Konami Digital Entertainment', 'Gotham Games', 'Ubisoft', 'Avalon Interactive', 'Codemasters', '505 Games', 'Activision', 'Tripwire Interactive', 'Sony Computer Entertainment', 'Warner Bros. Interactive Entertainment', 'Paradox Interactive', '3DO', 'Tecmo Koei', 'SouthPeak Games', 'Deep Silver', 'DTP Entertainment', 'Codemasters', 'Deep Silver', 'Rising Star Games', '505 Games', 'Atari', 'Ertain', 'Atlus', 'Electronic Arts', 'Avalon Interactive', 'Electronic Arts', 'Take-Two Interactive', 'Oxygen Interactive', 'Codemasters', 'Sting', 'Ignition Entertainment', 'Telltale Games', 'Phantagram', 'Tecmo Koei', 'Sega', 'Activision', 'Atari', 'Eidos Interactive', 'From Software', 'TDK Mediactive', 'Ubisoft', 'Take-Two Interactive', 'Codemasters', 'Sega', 'PQube', 'Konami Digital Entertainment', 'PopCap Games', 'Codemasters', 'PQube', 'Rising Star Games', 'Gamecock', 'Acclaim Entertainment', 'Konami Digital Entertainment', 'Sega', 'Mindscape', '505 Games', 'Majesco Entertainment', 'THQ', 'Majesco Entertainment', 'LucasArts', 'Activision', 'Global Star', 'Focus Home Interactive', 'Zoo Digital Publishing', 'PopCap Games', 'Deep Silver', 'Ignition Entertainment', 'Midas Interactive Entertainment', 'D3Publisher', 'Nintendo', 'Kemco', 'Codemasters', '505 Games', 'Global Star', 'DreamCatcher Interactive', 'Taito', 'Sega', 'THQ', 'Hip Interactive', 'Vivendi Games', 'Kalypso Media', 'Majesco Entertainment', 'Infogrames', 'Destineer', 'Ubisoft', 'Deep Silver', 'Acclaim Entertainment', 'Titus', 'Activision Value', 'Electronic Arts', 'BAM! Entertainment', 'THQ', 'Mastertronic', 'Dusenberry Martin Racing', 'Game Factory', 'Namco Bandai Games', 'Ubisoft', 'THQ', 'Tecmo Koei', 'Conspiracy Entertainment', 'Navarre Corp', 'Konami Digital Entertainment', 'Electronic Arts', 'THQ', 'Empire Interactive', 'Activision', 'ESP', 'Tecmo Koei', 'Microsoft Game Studios', 'Activision', 'Starfish', 'Activision', 'Electronic Arts', 'Microsoft Game Studios', 'Electronic Arts', 'Electronic Arts', 'Warner Bros. Interactive Entertainment', 'Electronic Arts', 'Codemasters', 'Tecmo Koei', 'Activision', 'Atari', 'THQ', 'Vivendi Games', 'Capcom', 'Team17 Software', 'Konami Digital Entertainment', 'Activision', 'Jaleco', 'Acclaim Entertainment', 'Atari', 'Sony Computer Entertainment', 'Microsoft Game Studios', 'Global Star', 'Electronic Arts', 'Konami Digital Entertainment', 'Mastiff', 'Namco Bandai Games', 'Sega', 'Majesco Entertainment', 'Ubisoft', 'Max Five', 'Atari', 'Jaleco', 'Paradox Interactive', 'Namco Bandai Games', 'Konami Digital Entertainment', 'Konami Digital Entertainment', 'Electronic Arts', 'Ubisoft', 'THQ', 'Electronic Arts', 'Electronic Arts', 'THQ', 'Jaleco', 'Activision Value', 'Take-Two Interactive', 'Tecmo Koei', 'Conspiracy Entertainment', 'Atari', 'Codemasters', 'Game Factory', 'SouthPeak Games', 'Activision', 'THQ', 'Majesco Entertainment', 'Milestone S.r.l', 'Konami Digital Entertainment', 'Ubisoft', 'LucasArts', 'Zoo Digital Publishing', 'Deep Silver', 'Atlus', 'Rising Star Games', 'Crave Entertainment', 'Atari', 'THQ', 'PQube', 'SCi', 'THQ', 'Playlogic Game Factory', 'Activision', 'Microsoft Game Studios', 'Activision', 'Capcom', 'Crave Entertainment', 'Ubisoft', 'Empire Interactive', 'Take-Two Interactive', 'Eidos Interactive', 'Eidos Interactive', 'Crave Entertainment', 'Xplosiv', 'Milestone S.r.l', 'Rising Star Games', 'Activision', 'Unknown', 'Take-Two Interactive', 'Ubisoft', 'Codemasters', 'Take-Two Interactive', 'Sega', 'Square Enix', 'Kalypso Media', 'Konami Digital Entertainment', 'Square Enix', 'THQ', 'Codemasters', 'D3Publisher', 'Rebellion Developments', 'Konami Digital Entertainment', 'Success', 'Activision', 'Focus Home Interactive', 'Disney Interactive Studios', 'Empire Interactive', 'Eidos Interactive', 'Atari', 'Sega', 'Midway Games', 'Ubisoft', 'Namco Bandai Games', '505 Games', 'Konami Digital Entertainment', 'Rising Star Games', 'Kool Kizz', 'Ubisoft', 'PQube', 'Tecmo Koei', 'Electronic Arts', 'BAM! Entertainment', 'Monte Christo Multimedia', '5pb', 'Ubisoft', 'Crave Entertainment', 'Ubisoft', 'Ubisoft', 'Vivendi Games', 'Eidos Interactive', 'Namco Bandai Games', 'Acclaim Entertainment', 'Warner Bros. Interactive Entertainment', 'Tecmo Koei', 'Global Star', '505 Games', 'Majesco Entertainment', 'Legacy Interactive', 'DreamCatcher Interactive', 'Activision', 'Electronic Arts', 'Konami Digital Entertainment', 'Global Star', 'Marvelous Interactive', 'Ignition Entertainment', 'LucasArts', 'Hudson Soft', 'Unknown', 'Disney Interactive Studios', 'Microids', 'Capcom', 'D3Publisher', 'Midway Games', 'Conspiracy Entertainment', 'Deep Silver', 'Electronic Arts', 'Atari', 'Ubisoft', 'Nippon Ichi Software', 'Namco Bandai Games', 'Konami Digital Entertainment', 'Avanquest', 'Electronic Arts', 'LucasArts', 'Electronic Arts', 'Cloud Imperium Games Corporation', 'Flashpoint Games', 'Alternative Software', 'Focus Home Interactive', 'Ascaron Entertainment GmbH', 'Global Star', 'THQ', '505 Games', 'DSI Games', '3DO', 'Paradox Interactive', 'Electronic Arts', 'Capcom', 'Capcom', 'Take-Two Interactive', 'THQ', 'Unknown', 'Ubisoft', 'Konami Digital Entertainment', 'THQ', 'Microsoft Game Studios', 'Nippon Ichi Software', 'Sega', 'Take-Two Interactive', 'Codemasters', 'Activision', 'FuRyu', '505 Games', 'THQ', 'Unknown', 'Atari', 'Codemasters', 'Microsoft Game Studios', 'Unknown', 'Eidos Interactive', 'Empire Interactive', 'Ubisoft', 'Tecmo Koei', 'DHM Interactive', 'Kalypso Media', 'Konami Digital Entertainment', 'Atari', 'Capcom', 'Take-Two Interactive', 'Majesco Entertainment', 'XS Games', 'Sega', 'Atari', 'Atari', 'Capcom', 'Take-Two Interactive', 'Ubisoft', 'Vivendi Games', 'Zoo Games', 'Ubisoft', 'Konami Digital Entertainment', 'Vivendi Games', 'D3Publisher', 'Capcom', 'Empire Interactive', 'Deep Silver', 'Global Star', 'Essential Games', 'Ubisoft', '1C Company', 'Codemasters', 'Ubisoft', 'Hip Interactive', 'Namco Bandai Games', 'Warner Bros. Interactive Entertainment', 'Codemasters', 'Activision', 'Namco Bandai Games', 'Electronic Arts', 'THQ', 'Namco Bandai Games', 'THQ', 'Capcom', 'Flashpoint Games', 'Indie Games', 'Disney Interactive Studios', 'Rising Star Games', 'Konami Digital Entertainment', 'Konami Digital Entertainment', 'Activision', 'Microsoft Game Studios', 'Aksys Games', 'Destineer', 'Ubisoft', 'Unknown', 'Electronic Arts', 'Vivendi Games', 'System 3 Arcade Software', 'Konami Digital Entertainment', 'Namco Bandai Games', 'Iceberg Interactive', 'Ubisoft', 'Rising Star Games', 'Eidos Interactive', 'Electronic Arts', 'Activision', 'Graffiti', 'Idea Factory', '505 Games', 'Namco Bandai Games', 'Take-Two Interactive', 'Vivendi Games', 'Nippon Ichi Software', 'Ignition Entertainment', 'Electronic Arts', 'Sega', 'Ivolgamus', 'Namco Bandai Games', 'Capcom', 'Konami Digital Entertainment', 'Crave Entertainment', 'THQ', 'Focus Home Interactive', 'Universal Interactive', 'Jaleco', 'Ignition Entertainment', 'Ubisoft', 'Astragon', 'Deep Silver', 'Avalon Interactive', 'MC2 Entertainment', 'Ubisoft', 'Nippon Ichi Software', '2D Boy', 'Deep Silver', 'Sony Computer Entertainment', 'Gathering of Developers', 'Eidos Interactive', 'THQ', 'Deep Silver', 'DreamCatcher Interactive', 'Jester Interactive', 'Majesco Entertainment', 'Vivendi Games', 'Unknown', 'Kando Games', 'Activision', 'Focus Home Interactive', 'Oxygen Interactive', 'Crave Entertainment', 'Eidos Interactive', 'Sony Computer Entertainment', 'Focus Home Interactive', 'Midway Games', 'Daedalic Entertainment', 'Namco Bandai Games', 'Codemasters', 'Focus Home Interactive', 'Konami Digital Entertainment', 'DTP Entertainment', 'JoWood Productions', 'Ubisoft', 'Konami Digital Entertainment', 'Ubisoft', 'Eidos Interactive', 'Gearbox Software', 'SouthPeak Games', 'THQ', 'Sega', 'Interplay', 'BAM! Entertainment', 'Activision', 'THQ', 'Atari', 'Hip Interactive', 'Spike', 'Capcom', 'Namco Bandai Games', 'Sony Computer Entertainment', 'Activision', 'Black Bean Games', 'Eidos Interactive', 'Namco Bandai Games', 'Mamba Games', 'Paradox Interactive', 'Microsoft Game Studios', 'Ubisoft', 'Agatsuma Entertainment', 'Capcom', 'Nintendo', 'Ubisoft', 'LSP Games', 'Electronic Arts', 'Vivendi Games', 'Global A Entertainment', 'Sony Computer Entertainment', 'Konami Digital Entertainment', 'Just Flight', 'Ubisoft', 'THQ', 'Konami Digital Entertainment', 'Game Factory', 'Square Enix', 'Ubisoft', 'Ubisoft', 'Microsoft Game Studios', 'Myelin Media', 'bitComposer Games', 'PopCap Games', 'Insomniac Games', 'Unknown', 'Microsoft Game Studios', 'Codemasters', 'Conspiracy Entertainment', 'UFO Interactive', 'Idea Factory', 'Majesco Entertainment', 'Codemasters', 'Ubisoft', 'System 3 Arcade Software', 'Introversion Software', 'Rising Star Games', 'Codemasters', 'Midway Games', 'Namco Bandai Games', 'Paradox Interactive', 'Electronic Arts', 'LSP Games', 'Game Factory', '505 Games', '505 Games', 'Myelin Media', 'Konami Digital Entertainment', 'Midway Games', 'Kemco', 'Activision', 'Rising Star Games', 'Capcom', 'Activision', 'Milestone S.r.l.', 'DTP Entertainment', 'Unknown', 'Atari', 'Atari', 'PQube', 'SCi', 'Ubisoft', 'Ubisoft', 'Sold Out', 'Ubisoft', 'NCSoft', 'Unknown', 'Konami Digital Entertainment', 'Midway Games', 'Majesco Entertainment', 'Namco Bandai Games', 'Vivendi Games', 'Ubisoft', '505 Games', 'Unknown', 'Rising Star Games', 'Namco Bandai Games', 'Atari', 'Acclaim Entertainment', 'Majesco Entertainment', 'Sunflowers', 'Marvelous Interactive', 'Headup Games', 'Vivendi Games', 'Game Factory', 'Atari', 'Pinnacle', 'Namco Bandai Games', 'Atari', 'Zoo Digital Publishing', 'LucasArts', 'Majesco Entertainment', 'Atari', 'id Software', 'Capcom', 'Zoo Digital Publishing', 'Namco Bandai Games', 'Capcom', 'Global Star', 'Maxis', 'Electronic Arts', 'Bethesda Softworks', 'Atari', 'Sega', 'Ubisoft', 'Mad Catz', 'Atari', 'Square Enix', 'Sony Computer Entertainment', 'Pinnacle', 'Telltale Games', 'Take-Two Interactive', 'Ubisoft', 'Namco Bandai Games', 'Activision', 'Xicat Interactive', 'Electronic Arts', 'Zoo Digital Publishing', 'JoWood Productions', 'Paradox Interactive', 'Disney Interactive Studios', 'Codemasters', 'THQ', 'Deep Silver', 'Konami Digital Entertainment', 'Activision', 'Idea Factory International', 'Devolver Digital', 'Idea Factory', 'Ubisoft', 'Xicat Interactive', 'Number None', 'Microids', '505 Games', 'Kalypso Media', 'Activision', 'Milestone S.r.l.', 'SNK Playmore', 'Konami Digital Entertainment', 'TopWare Interactive', 'Storm City Games', 'Ignition Entertainment', 'Warner Bros. Interactive Entertainment', 'Astragon', 'Unknown', 'Oxygen Interactive', 'Majesco Entertainment', 'Sony Computer Entertainment', 'Konami Digital Entertainment', 'Nordcurrent', 'Daedalic Entertainment', \"Yuke's\", 'Take-Two Interactive', 'Capcom', 'Ubisoft', 'Strategy First', 'Nordic Games', 'Take-Two Interactive', 'Capcom', 'Acclaim Entertainment', 'Arc System Works', 'Rising Star Games', 'Konami Digital Entertainment', 'Deep Silver', 'Tecmo Koei', 'Capcom', 'Ubisoft', 'Electronic Arts', 'Deep Silver', 'Capcom', 'Funcom', 'Vivendi Games', 'Sega', 'Konami Digital Entertainment', 'Take-Two Interactive', 'Paradox Interactive', 'Destination Software, Inc', 'Capcom', 'Electronic Arts', 'Nordic Games', 'Focus Home Interactive', 'NCSoft', 'Atari', 'Electronic Arts', 'Sega', 'Electronic Arts', 'Electronic Arts', 'Electronic Arts', 'Lexicon Entertainment', 'LucasArts', 'Activision', 'PQube', 'Take-Two Interactive', 'Eidos Interactive', 'Success', 'DTP Entertainment', 'Oxygen Interactive', 'Electronic Arts', 'bitComposer Games', 'Unknown', 'Tomy Corporation', 'Capcom', 'Deep Silver', 'Ubisoft', 'Microids', 'BAM! Entertainment', 'Vir2L Studios', 'THQ', 'Vivendi Games', 'Electronic Arts', 'Reef Entertainment', 'Crave Entertainment', 'Nordic Games', 'Gearbox Software', 'Microsoft Game Studios', 'Eidos Interactive', 'Acclaim Entertainment', 'Codemasters', 'Unknown', 'Electronic Arts', 'Metro 3D', 'Rising Star Games', 'Global Star', 'DreamCatcher Interactive', 'Capcom', 'Konami Digital Entertainment', 'Midway Games', 'Square Enix', 'Compile Heart', 'Capcom', 'BAM! Entertainment', 'Midway Games', 'Microsoft Game Studios', 'Nobilis', 'Atari', 'LucasArts', 'Vivendi Games', 'GOA', 'Zoo Digital Publishing', 'Eidos Interactive', 'Mastertronic', 'Sony Computer Entertainment', 'Capcom', 'Codemasters', 'Ubisoft', 'Empire Interactive', 'Midas Interactive Entertainment', 'Deep Silver', 'Konami Digital Entertainment', 'DTP Entertainment', 'JoWood Productions', 'Konami Digital Entertainment', 'Sony Computer Entertainment', 'Ignition Entertainment', 'Vivendi Games', 'DreamCatcher Interactive', 'Empire Interactive', 'Mumbo Jumbo', 'Atari', 'Namco Bandai Games', 'Unknown', 'Gamecock', 'Atlus', 'Focus Home Interactive', 'Deep Silver', 'Electronic Arts', 'Atari', 'JVC', 'Avanquest', 'Ubisoft', 'THQ', 'Kalypso Media', 'Deep Silver', 'Ubisoft', 'Codemasters', 'Ubisoft', 'Nippon Ichi Software', 'Kalypso Media', 'Falcom Corporation', 'Banpresto', 'Ignition Entertainment', 'Graphsim Entertainment', 'Atlus', 'Capcom', 'Activision', '505 Games', 'Midway Games', 'Avanquest', 'Namco Bandai Games', 'Atari', 'Capcom', 'Activision', 'THQ', 'Midway Games', 'Ubisoft', 'Eidos Interactive', 'Konami Digital Entertainment', 'Take-Two Interactive', 'Electronic Arts', 'Namco Bandai Games', 'Atari', 'Ubisoft', 'Codemasters', 'Global Star', 'Microids', 'Natsume', 'Electronic Arts', 'Unknown', 'Sega', 'Indie Games', 'BAM! Entertainment', 'Codemasters', 'Unknown', 'Capcom', 'Destineer', 'Disney Interactive Studios', 'DTP Entertainment', 'Atari', 'Zoo Digital Publishing', 'Atari', 'Codemasters', 'Electronic Arts', 'Konami Digital Entertainment', 'Electronic Arts', 'Activision', 'Acclaim Entertainment', 'Take-Two Interactive', 'Empire Interactive', 'Nippon Ichi Software', 'Rising Star Games', 'Vivendi Games', '505 Games', 'Square Enix', 'Deep Silver', 'JoWood Productions', 'SNK Playmore', 'DTP Entertainment', 'Deep Silver', 'Konami Digital Entertainment', 'Aspyr', 'Konami Digital Entertainment', 'Nippon Ichi Software', 'Activision', 'Arc System Works', 'Lexicon Entertainment', 'Unknown', 'Phoenix Games', 'Atari', 'Aksys Games', 'Activision', 'Sega', 'THQ', 'Kemco', 'Codemasters Online', 'Stainless Games', 'Sega', 'DreamCatcher Interactive', 'Natsume', 'Atari', 'Iceberg Interactive', 'Acclaim Entertainment', 'Nordic Games', 'Microids', 'Square Enix', 'Take-Two Interactive', 'Konami Digital Entertainment', 'Tecmo Koei', 'Ubisoft', 'Electronic Arts', 'Tecmo Koei', 'Mastiff', 'Namco Bandai Games', 'Codemasters', 'Evolved Games', 'DSI Games', 'Nippon Ichi Software', 'Focus Home Interactive', 'Victor Interactive', 'Atari', 'XS Games', 'Namco Bandai Games', 'Eidos Interactive', 'Ubisoft', 'Titus', 'Global Star', 'Acclaim Entertainment', 'Deep Silver', 'Electronic Arts', 'Konami Digital Entertainment', 'Sega', 'Infogrames', 'Paradox Interactive', 'Iceberg Interactive', 'Namco Bandai Games', 'Gathering of Developers', 'Eidos Interactive', 'Ubisoft', 'THQ', 'Focus Home Interactive', 'Aspyr', 'Ubisoft', 'Electronic Arts', 'Ubisoft', 'Eidos Interactive', 'Empire Interactive', 'Ubisoft', 'Codemasters', 'THQ', 'THQ', 'Atari', 'Electronic Arts', 'Ubisoft', 'Playlogic Game Factory', 'Rising Star Games', 'Paradox Interactive', 'Atari', 'Zushi Games', 'Nobilis', 'DHM Interactive', 'Konami Digital Entertainment', 'Vivendi Games', 'Eidos Interactive', 'Activision', 'Eidos Interactive', 'BAM! Entertainment', 'D3Publisher', 'Game Factory', 'SouthPeak Games', 'Conspiracy Entertainment', 'Codemasters', 'Ubisoft', 'Konami Digital Entertainment', 'Activision', 'Titus', 'Focus Home Interactive', 'Sony Computer Entertainment', 'Microsoft Game Studios', 'Sega', 'Activision', 'Atari', 'Zoo Digital Publishing', 'Rondomedia', 'Unknown', 'Konami Digital Entertainment', 'Konami Digital Entertainment', 'Play It', 'PopCap Games', 'Jaleco', 'Sony Computer Entertainment', 'Eidos Interactive', 'Microsoft Game Studios', 'Eidos Interactive', 'Evolved Games', '10TACLE Studios', 'Paradox Interactive', 'Idea Factory', 'Capcom', 'Namco Bandai Games', 'Ignition Entertainment', 'Jaleco', 'Capcom', 'Wanadoo', 'FuRyu Corporation', 'Codemasters', 'Kalypso Media', 'Atari', 'Focus Home Interactive', 'Capcom', 'Revolution Software', 'Atari', 'D3Publisher', 'Koch Media', 'Eidos Interactive', 'Global Star', 'D3Publisher', 'Visco', 'Kalypso Media', 'Empire Interactive', 'Konami Digital Entertainment', 'Ubisoft', 'Vivendi Games', 'Funsta', 'Ubisoft', 'Ubisoft', 'Capcom', 'O3 Entertainment', 'Sega', 'THQ', 'Take-Two Interactive', 'JoWood Productions', 'Majesco Entertainment', 'THQ', 'Virgin Interactive', 'Microsoft Game Studios', 'Konami Digital Entertainment', 'Deep Silver', 'Microids', 'Atari', 'THQ', 'Paradox Interactive', 'Activision', 'Zoo Digital Publishing', 'Unknown', 'Ubisoft', 'MC2 Entertainment', 'Crimson Cow', 'MC2 Entertainment', 'Mamba Games', 'Atari', 'Empire Interactive', 'Activision', 'JoWood Productions', 'Hudson Entertainment', 'Codemasters', 'Microsoft Game Studios', 'Konami Digital Entertainment', 'Electronic Arts', 'Global Star', 'Eidos Interactive', 'Bethesda Softworks', 'Success', 'Arika', 'Sega', 'Capcom', '505 Games', 'Vivendi Games', 'Kalypso Media', 'System 3 Arcade Software', 'Activision', 'Focus Home Interactive', 'Rising Star Games', 'Touchstone', 'Namco Bandai Games', 'Paradox Interactive', 'Nippon Ichi Software', 'Lighthouse Interactive', 'Take-Two Interactive', 'NCSoft', 'Tecmo Koei', 'Sega', 'Sony Computer Entertainment', 'Yacht Club Games', 'Tru Blu Entertainment', 'CDV Software Entertainment', 'Square Enix', 'Unknown', 'Ubisoft', 'Atari', 'Atari', 'Midway Games', 'Ubisoft', 'Unknown', 'Kemco', 'Black Bean Games', 'Nordic Games', 'Take-Two Interactive', 'Encore', 'JoWood Productions', 'Focus Home Interactive', 'Sega', 'THQ', 'Microsoft Game Studios', 'Take-Two Interactive', 'Electronic Arts', 'Tecmo Koei', 'Electronic Arts', 'Atari', 'Blue Byte', 'Kalypso Media', 'Evolved Games', 'Nippon Ichi Software', 'Sold Out', 'Sony Computer Entertainment', 'Bigben Interactive', 'Ignition Entertainment', 'Konami Digital Entertainment', 'Electronic Arts', 'Zoo Digital Publishing', 'Zoo Games', 'Electronic Arts', 'Microsoft Game Studios', 'Activision', 'Activision', 'XS Games', 'Microids', 'Electronic Arts', 'Zoo Digital Publishing', 'Activision', 'Nordic Games', 'Titus', 'Vivendi Games', 'Eidos Interactive', 'TDK Mediactive', 'Oxygen Interactive', 'GungHo', 'Electronic Arts', 'Rebellion', 'LSP Games', 'Koch Media', 'Vivendi Games', 'Ubisoft', 'Unknown', 'Vivendi Games', 'SCi', 'Eidos Interactive', 'Nordic Games', 'Empire Interactive', 'Eidos Interactive', 'Nintendo', 'Paradox Development', 'Activision', 'Encore', 'Xplosiv', 'TDK Mediactive', 'Namco Bandai Games', 'Take-Two Interactive', 'Focus Home Interactive', 'Evolved Games', '505 Games', 'Ubisoft', 'Ubisoft', 'Destineer', 'Jaleco', 'Kalypso Media', 'Midway Games', 'O-Games', 'TDK Mediactive', 'THQ', 'Nordic Games', 'Majesco Entertainment', 'Rising Star Games', 'Bigben Interactive', 'PQube', 'Ignition Entertainment', 'Milestone S.r.l', 'Nintendo', 'Codemasters', 'Unknown', 'Interplay', 'Kalypso Media', 'Konami Digital Entertainment', '505 Games', 'Stainless Games', 'Atari', 'Codemasters', 'Activision', 'Destination Software, Inc', 'Sega', 'Black Bean Games', 'Konami Digital Entertainment', 'Kemco', 'Sony Computer Entertainment', '1C Company', 'Taito', 'Activision', 'Codemasters', 'Deep Silver', 'Namco Bandai Games', 'Eidos Interactive', 'Nobilis', 'Jaleco', 'Milestone S.r.l', 'Codemasters', 'Nintendo', 'Introversion Software', 'NewKidCo', 'Banpresto', 'Midway Games', 'Konami Digital Entertainment', 'Titus', 'Destineer', 'Ubisoft', 'Majesco Entertainment', 'Unknown', 'DTP Entertainment']\n"
     ]
    }
   ],
   "source": [
    "print(l.tolist())"
   ]
  },
  {
   "cell_type": "code",
   "execution_count": 27,
   "metadata": {
    "id": "ronghtqGBArf"
   },
   "outputs": [],
   "source": [
    "from collections import defaultdict\n",
    "\n",
    "def leaders(xs, top=20):\n",
    "    counts = defaultdict(int)\n",
    "    for x in xs:\n",
    "        counts[x] += 1\n",
    "    return sorted(counts.items(), reverse=True, key=lambda tup: tup[1])[:top]"
   ]
  },
  {
   "cell_type": "code",
   "execution_count": 28,
   "metadata": {
    "colab": {
     "base_uri": "https://localhost:8080/"
    },
    "id": "GrB-MBBVCjUb",
    "outputId": "d63700ed-c115-45e2-f9a3-fc12bb92875e"
   },
   "outputs": [
    {
     "data": {
      "text/plain": [
       "[('Electronic Arts', 1029),\n",
       " ('Activision', 569),\n",
       " ('Ubisoft', 558),\n",
       " ('THQ', 405),\n",
       " ('Sony Computer Entertainment', 349),\n",
       " ('Konami Digital Entertainment', 328),\n",
       " ('Sega', 319),\n",
       " ('Nintendo', 310),\n",
       " ('Take-Two Interactive', 294),\n",
       " ('Namco Bandai Games', 279),\n",
       " ('Capcom', 215),\n",
       " ('Atari', 214),\n",
       " ('Warner Bros. Interactive Entertainment', 153),\n",
       " ('Microsoft Game Studios', 147),\n",
       " ('Tecmo Koei', 145),\n",
       " ('Midway Games', 144),\n",
       " ('Eidos Interactive', 139),\n",
       " ('Square Enix', 138),\n",
       " ('Vivendi Games', 137),\n",
       " ('Codemasters', 121),\n",
       " ('Disney Interactive Studios', 103),\n",
       " ('505 Games', 95),\n",
       " ('Unknown', 91),\n",
       " ('Acclaim Entertainment', 86),\n",
       " ('Deep Silver', 84),\n",
       " ('LucasArts', 74),\n",
       " ('Rising Star Games', 63),\n",
       " ('Nippon Ichi Software', 61),\n",
       " ('Bethesda Softworks', 52),\n",
       " ('D3Publisher', 47)]"
      ]
     },
     "execution_count": 28,
     "metadata": {},
     "output_type": "execute_result"
    }
   ],
   "source": [
    "leaders(l,30)"
   ]
  },
  {
   "cell_type": "code",
   "execution_count": 29,
   "metadata": {
    "colab": {
     "base_uri": "https://localhost:8080/"
    },
    "id": "YpP17jP2Abw0",
    "outputId": "6c9f4db1-5321-442e-d07e-01f96457f574"
   },
   "outputs": [
    {
     "name": "stdout",
     "output_type": "stream",
     "text": [
      "Publisher\n",
      "10TACLE Studios                 0.036667\n",
      "1C Company                      0.033333\n",
      "20th Century Fox Video Games    0.388000\n",
      "2D Boy                          0.040000\n",
      "3DO                             0.281111\n",
      "                                  ...   \n",
      "id Software                     0.030000\n",
      "imageepoch Inc.                 0.020000\n",
      "inXile Entertainment            0.100000\n",
      "mixi, Inc                       0.870000\n",
      "responDESIGN                    0.065000\n",
      "Name: Global_Sales, Length: 582, dtype: float64\n"
     ]
    }
   ],
   "source": [
    "print(games.groupby([\"Publisher\"]).mean()[\"Global_Sales\"])"
   ]
  },
  {
   "cell_type": "code",
   "execution_count": 30,
   "metadata": {
    "id": "IR_H8N02vAk9"
   },
   "outputs": [],
   "source": [
    "x=g[[\"Platform\",\"Genre\",\"Publisher\",\"Critic_Score\",\"Rating\"]]"
   ]
  },
  {
   "cell_type": "code",
   "execution_count": 31,
   "metadata": {
    "id": "jcr0XgolwSh5"
   },
   "outputs": [],
   "source": [
    "y=g[\"Global_Sales\"]"
   ]
  },
  {
   "cell_type": "code",
   "execution_count": 32,
   "metadata": {
    "id": "qVrodeL1ov0U"
   },
   "outputs": [],
   "source": [
    "from sklearn.preprocessing import OneHotEncoder\n",
    "import pandas as pd\n",
    "onenc=[\"Platform\",\"Genre\",\"Rating\"]\n",
    "enc = OneHotEncoder(handle_unknown='ignore')\n",
    "for i in onenc:\n",
    "    one_hot = pd.get_dummies(x[i])\n",
    "    x = x.drop(i,axis = 1)\n",
    "    x = x.join(one_hot)"
   ]
  },
  {
   "cell_type": "code",
   "execution_count": 33,
   "metadata": {
    "colab": {
     "base_uri": "https://localhost:8080/",
     "height": 496
    },
    "id": "Iefr2d5ixDsv",
    "outputId": "f16d573f-7e03-4a84-ba7a-fdd685e2f227"
   },
   "outputs": [
    {
     "data": {
      "text/html": [
       "<div>\n",
       "<style scoped>\n",
       "    .dataframe tbody tr th:only-of-type {\n",
       "        vertical-align: middle;\n",
       "    }\n",
       "\n",
       "    .dataframe tbody tr th {\n",
       "        vertical-align: top;\n",
       "    }\n",
       "\n",
       "    .dataframe thead th {\n",
       "        text-align: right;\n",
       "    }\n",
       "</style>\n",
       "<table border=\"1\" class=\"dataframe\">\n",
       "  <thead>\n",
       "    <tr style=\"text-align: right;\">\n",
       "      <th></th>\n",
       "      <th>Publisher</th>\n",
       "      <th>Critic_Score</th>\n",
       "      <th>3DS</th>\n",
       "      <th>DC</th>\n",
       "      <th>DS</th>\n",
       "      <th>GBA</th>\n",
       "      <th>GC</th>\n",
       "      <th>PC</th>\n",
       "      <th>PS</th>\n",
       "      <th>PS2</th>\n",
       "      <th>...</th>\n",
       "      <th>Simulation</th>\n",
       "      <th>Sports</th>\n",
       "      <th>Strategy</th>\n",
       "      <th>AO</th>\n",
       "      <th>E</th>\n",
       "      <th>E10+</th>\n",
       "      <th>K-A</th>\n",
       "      <th>M</th>\n",
       "      <th>RP</th>\n",
       "      <th>T</th>\n",
       "    </tr>\n",
       "  </thead>\n",
       "  <tbody>\n",
       "    <tr>\n",
       "      <th>0</th>\n",
       "      <td>Nintendo</td>\n",
       "      <td>76.0</td>\n",
       "      <td>0</td>\n",
       "      <td>0</td>\n",
       "      <td>0</td>\n",
       "      <td>0</td>\n",
       "      <td>0</td>\n",
       "      <td>0</td>\n",
       "      <td>0</td>\n",
       "      <td>0</td>\n",
       "      <td>...</td>\n",
       "      <td>0</td>\n",
       "      <td>1</td>\n",
       "      <td>0</td>\n",
       "      <td>0</td>\n",
       "      <td>1</td>\n",
       "      <td>0</td>\n",
       "      <td>0</td>\n",
       "      <td>0</td>\n",
       "      <td>0</td>\n",
       "      <td>0</td>\n",
       "    </tr>\n",
       "    <tr>\n",
       "      <th>2</th>\n",
       "      <td>Nintendo</td>\n",
       "      <td>82.0</td>\n",
       "      <td>0</td>\n",
       "      <td>0</td>\n",
       "      <td>0</td>\n",
       "      <td>0</td>\n",
       "      <td>0</td>\n",
       "      <td>0</td>\n",
       "      <td>0</td>\n",
       "      <td>0</td>\n",
       "      <td>...</td>\n",
       "      <td>0</td>\n",
       "      <td>0</td>\n",
       "      <td>0</td>\n",
       "      <td>0</td>\n",
       "      <td>1</td>\n",
       "      <td>0</td>\n",
       "      <td>0</td>\n",
       "      <td>0</td>\n",
       "      <td>0</td>\n",
       "      <td>0</td>\n",
       "    </tr>\n",
       "    <tr>\n",
       "      <th>3</th>\n",
       "      <td>Nintendo</td>\n",
       "      <td>80.0</td>\n",
       "      <td>0</td>\n",
       "      <td>0</td>\n",
       "      <td>0</td>\n",
       "      <td>0</td>\n",
       "      <td>0</td>\n",
       "      <td>0</td>\n",
       "      <td>0</td>\n",
       "      <td>0</td>\n",
       "      <td>...</td>\n",
       "      <td>0</td>\n",
       "      <td>1</td>\n",
       "      <td>0</td>\n",
       "      <td>0</td>\n",
       "      <td>1</td>\n",
       "      <td>0</td>\n",
       "      <td>0</td>\n",
       "      <td>0</td>\n",
       "      <td>0</td>\n",
       "      <td>0</td>\n",
       "    </tr>\n",
       "    <tr>\n",
       "      <th>6</th>\n",
       "      <td>Nintendo</td>\n",
       "      <td>89.0</td>\n",
       "      <td>0</td>\n",
       "      <td>0</td>\n",
       "      <td>1</td>\n",
       "      <td>0</td>\n",
       "      <td>0</td>\n",
       "      <td>0</td>\n",
       "      <td>0</td>\n",
       "      <td>0</td>\n",
       "      <td>...</td>\n",
       "      <td>0</td>\n",
       "      <td>0</td>\n",
       "      <td>0</td>\n",
       "      <td>0</td>\n",
       "      <td>1</td>\n",
       "      <td>0</td>\n",
       "      <td>0</td>\n",
       "      <td>0</td>\n",
       "      <td>0</td>\n",
       "      <td>0</td>\n",
       "    </tr>\n",
       "    <tr>\n",
       "      <th>7</th>\n",
       "      <td>Nintendo</td>\n",
       "      <td>58.0</td>\n",
       "      <td>0</td>\n",
       "      <td>0</td>\n",
       "      <td>0</td>\n",
       "      <td>0</td>\n",
       "      <td>0</td>\n",
       "      <td>0</td>\n",
       "      <td>0</td>\n",
       "      <td>0</td>\n",
       "      <td>...</td>\n",
       "      <td>0</td>\n",
       "      <td>0</td>\n",
       "      <td>0</td>\n",
       "      <td>0</td>\n",
       "      <td>1</td>\n",
       "      <td>0</td>\n",
       "      <td>0</td>\n",
       "      <td>0</td>\n",
       "      <td>0</td>\n",
       "      <td>0</td>\n",
       "    </tr>\n",
       "    <tr>\n",
       "      <th>...</th>\n",
       "      <td>...</td>\n",
       "      <td>...</td>\n",
       "      <td>...</td>\n",
       "      <td>...</td>\n",
       "      <td>...</td>\n",
       "      <td>...</td>\n",
       "      <td>...</td>\n",
       "      <td>...</td>\n",
       "      <td>...</td>\n",
       "      <td>...</td>\n",
       "      <td>...</td>\n",
       "      <td>...</td>\n",
       "      <td>...</td>\n",
       "      <td>...</td>\n",
       "      <td>...</td>\n",
       "      <td>...</td>\n",
       "      <td>...</td>\n",
       "      <td>...</td>\n",
       "      <td>...</td>\n",
       "      <td>...</td>\n",
       "      <td>...</td>\n",
       "    </tr>\n",
       "    <tr>\n",
       "      <th>16700</th>\n",
       "      <td>Destineer</td>\n",
       "      <td>61.0</td>\n",
       "      <td>0</td>\n",
       "      <td>0</td>\n",
       "      <td>0</td>\n",
       "      <td>0</td>\n",
       "      <td>0</td>\n",
       "      <td>1</td>\n",
       "      <td>0</td>\n",
       "      <td>0</td>\n",
       "      <td>...</td>\n",
       "      <td>0</td>\n",
       "      <td>0</td>\n",
       "      <td>0</td>\n",
       "      <td>0</td>\n",
       "      <td>0</td>\n",
       "      <td>0</td>\n",
       "      <td>0</td>\n",
       "      <td>0</td>\n",
       "      <td>0</td>\n",
       "      <td>1</td>\n",
       "    </tr>\n",
       "    <tr>\n",
       "      <th>16701</th>\n",
       "      <td>Ubisoft</td>\n",
       "      <td>53.0</td>\n",
       "      <td>0</td>\n",
       "      <td>0</td>\n",
       "      <td>0</td>\n",
       "      <td>0</td>\n",
       "      <td>1</td>\n",
       "      <td>0</td>\n",
       "      <td>0</td>\n",
       "      <td>0</td>\n",
       "      <td>...</td>\n",
       "      <td>0</td>\n",
       "      <td>0</td>\n",
       "      <td>0</td>\n",
       "      <td>0</td>\n",
       "      <td>1</td>\n",
       "      <td>0</td>\n",
       "      <td>0</td>\n",
       "      <td>0</td>\n",
       "      <td>0</td>\n",
       "      <td>0</td>\n",
       "    </tr>\n",
       "    <tr>\n",
       "      <th>16702</th>\n",
       "      <td>Majesco Entertainment</td>\n",
       "      <td>48.0</td>\n",
       "      <td>0</td>\n",
       "      <td>0</td>\n",
       "      <td>1</td>\n",
       "      <td>0</td>\n",
       "      <td>0</td>\n",
       "      <td>0</td>\n",
       "      <td>0</td>\n",
       "      <td>0</td>\n",
       "      <td>...</td>\n",
       "      <td>0</td>\n",
       "      <td>0</td>\n",
       "      <td>0</td>\n",
       "      <td>0</td>\n",
       "      <td>1</td>\n",
       "      <td>0</td>\n",
       "      <td>0</td>\n",
       "      <td>0</td>\n",
       "      <td>0</td>\n",
       "      <td>0</td>\n",
       "    </tr>\n",
       "    <tr>\n",
       "      <th>16706</th>\n",
       "      <td>Unknown</td>\n",
       "      <td>60.0</td>\n",
       "      <td>0</td>\n",
       "      <td>0</td>\n",
       "      <td>0</td>\n",
       "      <td>0</td>\n",
       "      <td>0</td>\n",
       "      <td>1</td>\n",
       "      <td>0</td>\n",
       "      <td>0</td>\n",
       "      <td>...</td>\n",
       "      <td>0</td>\n",
       "      <td>0</td>\n",
       "      <td>1</td>\n",
       "      <td>0</td>\n",
       "      <td>0</td>\n",
       "      <td>1</td>\n",
       "      <td>0</td>\n",
       "      <td>0</td>\n",
       "      <td>0</td>\n",
       "      <td>0</td>\n",
       "    </tr>\n",
       "    <tr>\n",
       "      <th>16709</th>\n",
       "      <td>DTP Entertainment</td>\n",
       "      <td>63.0</td>\n",
       "      <td>0</td>\n",
       "      <td>0</td>\n",
       "      <td>0</td>\n",
       "      <td>0</td>\n",
       "      <td>0</td>\n",
       "      <td>1</td>\n",
       "      <td>0</td>\n",
       "      <td>0</td>\n",
       "      <td>...</td>\n",
       "      <td>0</td>\n",
       "      <td>0</td>\n",
       "      <td>0</td>\n",
       "      <td>0</td>\n",
       "      <td>0</td>\n",
       "      <td>0</td>\n",
       "      <td>0</td>\n",
       "      <td>0</td>\n",
       "      <td>1</td>\n",
       "      <td>0</td>\n",
       "    </tr>\n",
       "  </tbody>\n",
       "</table>\n",
       "<p>8133 rows × 38 columns</p>\n",
       "</div>"
      ],
      "text/plain": [
       "                   Publisher  Critic_Score  3DS  DC  DS  GBA  GC  PC  PS  PS2  \\\n",
       "0                   Nintendo          76.0    0   0   0    0   0   0   0    0   \n",
       "2                   Nintendo          82.0    0   0   0    0   0   0   0    0   \n",
       "3                   Nintendo          80.0    0   0   0    0   0   0   0    0   \n",
       "6                   Nintendo          89.0    0   0   1    0   0   0   0    0   \n",
       "7                   Nintendo          58.0    0   0   0    0   0   0   0    0   \n",
       "...                      ...           ...  ...  ..  ..  ...  ..  ..  ..  ...   \n",
       "16700              Destineer          61.0    0   0   0    0   0   1   0    0   \n",
       "16701                Ubisoft          53.0    0   0   0    0   1   0   0    0   \n",
       "16702  Majesco Entertainment          48.0    0   0   1    0   0   0   0    0   \n",
       "16706                Unknown          60.0    0   0   0    0   0   1   0    0   \n",
       "16709      DTP Entertainment          63.0    0   0   0    0   0   1   0    0   \n",
       "\n",
       "       ...  Simulation  Sports  Strategy  AO  E  E10+  K-A  M  RP  T  \n",
       "0      ...           0       1         0   0  1     0    0  0   0  0  \n",
       "2      ...           0       0         0   0  1     0    0  0   0  0  \n",
       "3      ...           0       1         0   0  1     0    0  0   0  0  \n",
       "6      ...           0       0         0   0  1     0    0  0   0  0  \n",
       "7      ...           0       0         0   0  1     0    0  0   0  0  \n",
       "...    ...         ...     ...       ...  .. ..   ...  ... ..  .. ..  \n",
       "16700  ...           0       0         0   0  0     0    0  0   0  1  \n",
       "16701  ...           0       0         0   0  1     0    0  0   0  0  \n",
       "16702  ...           0       0         0   0  1     0    0  0   0  0  \n",
       "16706  ...           0       0         1   0  0     1    0  0   0  0  \n",
       "16709  ...           0       0         0   0  0     0    0  0   1  0  \n",
       "\n",
       "[8133 rows x 38 columns]"
      ]
     },
     "execution_count": 33,
     "metadata": {},
     "output_type": "execute_result"
    }
   ],
   "source": [
    "x"
   ]
  },
  {
   "cell_type": "code",
   "execution_count": 34,
   "metadata": {},
   "outputs": [
    {
     "data": {
      "text/plain": [
       "Index(['Publisher', 'Critic_Score', '3DS', 'DC', 'DS', 'GBA', 'GC', 'PC', 'PS',\n",
       "       'PS2', 'PS3', 'PS4', 'PSP', 'PSV', 'Wii', 'WiiU', 'X360', 'XB', 'XOne',\n",
       "       'Action', 'Adventure', 'Fighting', 'Misc', 'Platform', 'Puzzle',\n",
       "       'Racing', 'Role-Playing', 'Shooter', 'Simulation', 'Sports', 'Strategy',\n",
       "       'AO', 'E', 'E10+', 'K-A', 'M', 'RP', 'T'],\n",
       "      dtype='object')"
      ]
     },
     "execution_count": 34,
     "metadata": {},
     "output_type": "execute_result"
    }
   ],
   "source": [
    "x.columns"
   ]
  },
  {
   "cell_type": "code",
   "execution_count": 35,
   "metadata": {
    "colab": {
     "base_uri": "https://localhost:8080/",
     "height": 461
    },
    "id": "n7Ugq-19xIVO",
    "outputId": "4ed8e317-3f3f-4f76-b7f2-857ad55d3af8"
   },
   "outputs": [
    {
     "data": {
      "text/html": [
       "<div>\n",
       "<style scoped>\n",
       "    .dataframe tbody tr th:only-of-type {\n",
       "        vertical-align: middle;\n",
       "    }\n",
       "\n",
       "    .dataframe tbody tr th {\n",
       "        vertical-align: top;\n",
       "    }\n",
       "\n",
       "    .dataframe thead th {\n",
       "        text-align: right;\n",
       "    }\n",
       "</style>\n",
       "<table border=\"1\" class=\"dataframe\">\n",
       "  <thead>\n",
       "    <tr style=\"text-align: right;\">\n",
       "      <th></th>\n",
       "      <th>Critic_Score</th>\n",
       "      <th>3DS</th>\n",
       "      <th>DC</th>\n",
       "      <th>DS</th>\n",
       "      <th>GBA</th>\n",
       "      <th>GC</th>\n",
       "      <th>PC</th>\n",
       "      <th>PS</th>\n",
       "      <th>PS2</th>\n",
       "      <th>PS3</th>\n",
       "      <th>...</th>\n",
       "      <th>Simulation</th>\n",
       "      <th>Sports</th>\n",
       "      <th>Strategy</th>\n",
       "      <th>AO</th>\n",
       "      <th>E</th>\n",
       "      <th>E10+</th>\n",
       "      <th>K-A</th>\n",
       "      <th>M</th>\n",
       "      <th>RP</th>\n",
       "      <th>T</th>\n",
       "    </tr>\n",
       "  </thead>\n",
       "  <tbody>\n",
       "    <tr>\n",
       "      <th>0</th>\n",
       "      <td>76.0</td>\n",
       "      <td>0</td>\n",
       "      <td>0</td>\n",
       "      <td>0</td>\n",
       "      <td>0</td>\n",
       "      <td>0</td>\n",
       "      <td>0</td>\n",
       "      <td>0</td>\n",
       "      <td>0</td>\n",
       "      <td>0</td>\n",
       "      <td>...</td>\n",
       "      <td>0</td>\n",
       "      <td>1</td>\n",
       "      <td>0</td>\n",
       "      <td>0</td>\n",
       "      <td>1</td>\n",
       "      <td>0</td>\n",
       "      <td>0</td>\n",
       "      <td>0</td>\n",
       "      <td>0</td>\n",
       "      <td>0</td>\n",
       "    </tr>\n",
       "    <tr>\n",
       "      <th>2</th>\n",
       "      <td>82.0</td>\n",
       "      <td>0</td>\n",
       "      <td>0</td>\n",
       "      <td>0</td>\n",
       "      <td>0</td>\n",
       "      <td>0</td>\n",
       "      <td>0</td>\n",
       "      <td>0</td>\n",
       "      <td>0</td>\n",
       "      <td>0</td>\n",
       "      <td>...</td>\n",
       "      <td>0</td>\n",
       "      <td>0</td>\n",
       "      <td>0</td>\n",
       "      <td>0</td>\n",
       "      <td>1</td>\n",
       "      <td>0</td>\n",
       "      <td>0</td>\n",
       "      <td>0</td>\n",
       "      <td>0</td>\n",
       "      <td>0</td>\n",
       "    </tr>\n",
       "    <tr>\n",
       "      <th>3</th>\n",
       "      <td>80.0</td>\n",
       "      <td>0</td>\n",
       "      <td>0</td>\n",
       "      <td>0</td>\n",
       "      <td>0</td>\n",
       "      <td>0</td>\n",
       "      <td>0</td>\n",
       "      <td>0</td>\n",
       "      <td>0</td>\n",
       "      <td>0</td>\n",
       "      <td>...</td>\n",
       "      <td>0</td>\n",
       "      <td>1</td>\n",
       "      <td>0</td>\n",
       "      <td>0</td>\n",
       "      <td>1</td>\n",
       "      <td>0</td>\n",
       "      <td>0</td>\n",
       "      <td>0</td>\n",
       "      <td>0</td>\n",
       "      <td>0</td>\n",
       "    </tr>\n",
       "    <tr>\n",
       "      <th>6</th>\n",
       "      <td>89.0</td>\n",
       "      <td>0</td>\n",
       "      <td>0</td>\n",
       "      <td>1</td>\n",
       "      <td>0</td>\n",
       "      <td>0</td>\n",
       "      <td>0</td>\n",
       "      <td>0</td>\n",
       "      <td>0</td>\n",
       "      <td>0</td>\n",
       "      <td>...</td>\n",
       "      <td>0</td>\n",
       "      <td>0</td>\n",
       "      <td>0</td>\n",
       "      <td>0</td>\n",
       "      <td>1</td>\n",
       "      <td>0</td>\n",
       "      <td>0</td>\n",
       "      <td>0</td>\n",
       "      <td>0</td>\n",
       "      <td>0</td>\n",
       "    </tr>\n",
       "    <tr>\n",
       "      <th>7</th>\n",
       "      <td>58.0</td>\n",
       "      <td>0</td>\n",
       "      <td>0</td>\n",
       "      <td>0</td>\n",
       "      <td>0</td>\n",
       "      <td>0</td>\n",
       "      <td>0</td>\n",
       "      <td>0</td>\n",
       "      <td>0</td>\n",
       "      <td>0</td>\n",
       "      <td>...</td>\n",
       "      <td>0</td>\n",
       "      <td>0</td>\n",
       "      <td>0</td>\n",
       "      <td>0</td>\n",
       "      <td>1</td>\n",
       "      <td>0</td>\n",
       "      <td>0</td>\n",
       "      <td>0</td>\n",
       "      <td>0</td>\n",
       "      <td>0</td>\n",
       "    </tr>\n",
       "    <tr>\n",
       "      <th>...</th>\n",
       "      <td>...</td>\n",
       "      <td>...</td>\n",
       "      <td>...</td>\n",
       "      <td>...</td>\n",
       "      <td>...</td>\n",
       "      <td>...</td>\n",
       "      <td>...</td>\n",
       "      <td>...</td>\n",
       "      <td>...</td>\n",
       "      <td>...</td>\n",
       "      <td>...</td>\n",
       "      <td>...</td>\n",
       "      <td>...</td>\n",
       "      <td>...</td>\n",
       "      <td>...</td>\n",
       "      <td>...</td>\n",
       "      <td>...</td>\n",
       "      <td>...</td>\n",
       "      <td>...</td>\n",
       "      <td>...</td>\n",
       "      <td>...</td>\n",
       "    </tr>\n",
       "    <tr>\n",
       "      <th>16700</th>\n",
       "      <td>61.0</td>\n",
       "      <td>0</td>\n",
       "      <td>0</td>\n",
       "      <td>0</td>\n",
       "      <td>0</td>\n",
       "      <td>0</td>\n",
       "      <td>1</td>\n",
       "      <td>0</td>\n",
       "      <td>0</td>\n",
       "      <td>0</td>\n",
       "      <td>...</td>\n",
       "      <td>0</td>\n",
       "      <td>0</td>\n",
       "      <td>0</td>\n",
       "      <td>0</td>\n",
       "      <td>0</td>\n",
       "      <td>0</td>\n",
       "      <td>0</td>\n",
       "      <td>0</td>\n",
       "      <td>0</td>\n",
       "      <td>1</td>\n",
       "    </tr>\n",
       "    <tr>\n",
       "      <th>16701</th>\n",
       "      <td>53.0</td>\n",
       "      <td>0</td>\n",
       "      <td>0</td>\n",
       "      <td>0</td>\n",
       "      <td>0</td>\n",
       "      <td>1</td>\n",
       "      <td>0</td>\n",
       "      <td>0</td>\n",
       "      <td>0</td>\n",
       "      <td>0</td>\n",
       "      <td>...</td>\n",
       "      <td>0</td>\n",
       "      <td>0</td>\n",
       "      <td>0</td>\n",
       "      <td>0</td>\n",
       "      <td>1</td>\n",
       "      <td>0</td>\n",
       "      <td>0</td>\n",
       "      <td>0</td>\n",
       "      <td>0</td>\n",
       "      <td>0</td>\n",
       "    </tr>\n",
       "    <tr>\n",
       "      <th>16702</th>\n",
       "      <td>48.0</td>\n",
       "      <td>0</td>\n",
       "      <td>0</td>\n",
       "      <td>1</td>\n",
       "      <td>0</td>\n",
       "      <td>0</td>\n",
       "      <td>0</td>\n",
       "      <td>0</td>\n",
       "      <td>0</td>\n",
       "      <td>0</td>\n",
       "      <td>...</td>\n",
       "      <td>0</td>\n",
       "      <td>0</td>\n",
       "      <td>0</td>\n",
       "      <td>0</td>\n",
       "      <td>1</td>\n",
       "      <td>0</td>\n",
       "      <td>0</td>\n",
       "      <td>0</td>\n",
       "      <td>0</td>\n",
       "      <td>0</td>\n",
       "    </tr>\n",
       "    <tr>\n",
       "      <th>16706</th>\n",
       "      <td>60.0</td>\n",
       "      <td>0</td>\n",
       "      <td>0</td>\n",
       "      <td>0</td>\n",
       "      <td>0</td>\n",
       "      <td>0</td>\n",
       "      <td>1</td>\n",
       "      <td>0</td>\n",
       "      <td>0</td>\n",
       "      <td>0</td>\n",
       "      <td>...</td>\n",
       "      <td>0</td>\n",
       "      <td>0</td>\n",
       "      <td>1</td>\n",
       "      <td>0</td>\n",
       "      <td>0</td>\n",
       "      <td>1</td>\n",
       "      <td>0</td>\n",
       "      <td>0</td>\n",
       "      <td>0</td>\n",
       "      <td>0</td>\n",
       "    </tr>\n",
       "    <tr>\n",
       "      <th>16709</th>\n",
       "      <td>63.0</td>\n",
       "      <td>0</td>\n",
       "      <td>0</td>\n",
       "      <td>0</td>\n",
       "      <td>0</td>\n",
       "      <td>0</td>\n",
       "      <td>1</td>\n",
       "      <td>0</td>\n",
       "      <td>0</td>\n",
       "      <td>0</td>\n",
       "      <td>...</td>\n",
       "      <td>0</td>\n",
       "      <td>0</td>\n",
       "      <td>0</td>\n",
       "      <td>0</td>\n",
       "      <td>0</td>\n",
       "      <td>0</td>\n",
       "      <td>0</td>\n",
       "      <td>0</td>\n",
       "      <td>1</td>\n",
       "      <td>0</td>\n",
       "    </tr>\n",
       "  </tbody>\n",
       "</table>\n",
       "<p>8133 rows × 37 columns</p>\n",
       "</div>"
      ],
      "text/plain": [
       "       Critic_Score  3DS  DC  DS  GBA  GC  PC  PS  PS2  PS3  ...  Simulation  \\\n",
       "0              76.0    0   0   0    0   0   0   0    0    0  ...           0   \n",
       "2              82.0    0   0   0    0   0   0   0    0    0  ...           0   \n",
       "3              80.0    0   0   0    0   0   0   0    0    0  ...           0   \n",
       "6              89.0    0   0   1    0   0   0   0    0    0  ...           0   \n",
       "7              58.0    0   0   0    0   0   0   0    0    0  ...           0   \n",
       "...             ...  ...  ..  ..  ...  ..  ..  ..  ...  ...  ...         ...   \n",
       "16700          61.0    0   0   0    0   0   1   0    0    0  ...           0   \n",
       "16701          53.0    0   0   0    0   1   0   0    0    0  ...           0   \n",
       "16702          48.0    0   0   1    0   0   0   0    0    0  ...           0   \n",
       "16706          60.0    0   0   0    0   0   1   0    0    0  ...           0   \n",
       "16709          63.0    0   0   0    0   0   1   0    0    0  ...           0   \n",
       "\n",
       "       Sports  Strategy  AO  E  E10+  K-A  M  RP  T  \n",
       "0           1         0   0  1     0    0  0   0  0  \n",
       "2           0         0   0  1     0    0  0   0  0  \n",
       "3           1         0   0  1     0    0  0   0  0  \n",
       "6           0         0   0  1     0    0  0   0  0  \n",
       "7           0         0   0  1     0    0  0   0  0  \n",
       "...       ...       ...  .. ..   ...  ... ..  .. ..  \n",
       "16700       0         0   0  0     0    0  0   0  1  \n",
       "16701       0         0   0  1     0    0  0   0  0  \n",
       "16702       0         0   0  1     0    0  0   0  0  \n",
       "16706       0         1   0  0     1    0  0   0  0  \n",
       "16709       0         0   0  0     0    0  0   1  0  \n",
       "\n",
       "[8133 rows x 37 columns]"
      ]
     },
     "execution_count": 35,
     "metadata": {},
     "output_type": "execute_result"
    }
   ],
   "source": [
    "x=x.drop(\"Publisher\",axis=1)\n",
    "#x=x.drop(\"Critic_Score\",axis=1)\n",
    "\n",
    "x"
   ]
  },
  {
   "cell_type": "code",
   "execution_count": 36,
   "metadata": {
    "id": "GDfaW_36x-79"
   },
   "outputs": [],
   "source": [
    "from sklearn.model_selection import train_test_split\n",
    "x_train,x_test,y_train,y_test = train_test_split(x,y,test_size=0.2, random_state=42)"
   ]
  },
  {
   "cell_type": "code",
   "execution_count": 37,
   "metadata": {
    "colab": {
     "base_uri": "https://localhost:8080/"
    },
    "id": "XcKuuXx2yz1s",
    "outputId": "74620b67-72a9-4e34-c213-0a82e5a60b5d"
   },
   "outputs": [
    {
     "data": {
      "text/plain": [
       "RandomForestRegressor(random_state=0)"
      ]
     },
     "execution_count": 37,
     "metadata": {},
     "output_type": "execute_result"
    }
   ],
   "source": [
    "from sklearn.ensemble import RandomForestRegressor\n",
    "from sklearn.datasets import make_regression\n",
    "#max_depth=2\n",
    "regr = RandomForestRegressor(random_state=0)\n",
    "regr.fit(x_train, y_train)\n",
    " "
   ]
  },
  {
   "cell_type": "code",
   "execution_count": 38,
   "metadata": {
    "id": "H9d-z1zV1Iu9"
   },
   "outputs": [],
   "source": [
    "predictions=regr.predict(x_test)"
   ]
  },
  {
   "cell_type": "code",
   "execution_count": 39,
   "metadata": {},
   "outputs": [
    {
     "name": "stderr",
     "output_type": "stream",
     "text": [
      "/home/salim/VG-Sales/env/lib/python3.8/site-packages/sklearn/base.py:450: UserWarning: X does not have valid feature names, but RandomForestRegressor was fitted with feature names\n",
      "  warnings.warn(\n"
     ]
    }
   ],
   "source": [
    "critic_score, platform, genre, rating = 70,[],[],[]\n",
    "for i in range(17):\n",
    "    platform.append(0)\n",
    "\n",
    "for i in range(12):\n",
    "    genre.append(0)\n",
    "\n",
    "for i in range(7):\n",
    "    rating.append(0)\n",
    "\n",
    "platform[7] = 1\n",
    "genre[3] = 1\n",
    "rating[2] = 1\n",
    "\n",
    "example = [[critic_score] + platform + genre + rating ]\n",
    "yyyy = regr.predict(example)"
   ]
  },
  {
   "cell_type": "code",
   "execution_count": 40,
   "metadata": {},
   "outputs": [
    {
     "data": {
      "text/plain": [
       "array([1.00871])"
      ]
     },
     "execution_count": 40,
     "metadata": {},
     "output_type": "execute_result"
    }
   ],
   "source": [
    "yyyy"
   ]
  },
  {
   "cell_type": "code",
   "execution_count": 41,
   "metadata": {
    "colab": {
     "base_uri": "https://localhost:8080/",
     "height": 282
    },
    "id": "scbvQxi32KnA",
    "outputId": "11c3fb71-a873-4b7e-c461-9d4729063aa9"
   },
   "outputs": [
    {
     "data": {
      "text/plain": [
       "[<matplotlib.lines.Line2D at 0x7fe3037d9e50>]"
      ]
     },
     "execution_count": 41,
     "metadata": {},
     "output_type": "execute_result"
    },
    {
     "data": {
      "image/png": "[encoded data removed]",
      "text/plain": [
       "<Figure size 432x288 with 1 Axes>"
      ]
     },
     "metadata": {
      "needs_background": "light"
     },
     "output_type": "display_data"
    }
   ],
   "source": [
    "from numpy import *\n",
    "import math\n",
    "import matplotlib.pyplot as plt\n",
    "t=range(len(y_test))\n",
    "plt.plot(t,y_test, 'r') # plotting t, a separately \n",
    "plt.plot(t,predictions, 'b') # plotting t, b separately "
   ]
  },
  {
   "cell_type": "code",
   "execution_count": 42,
   "metadata": {
    "colab": {
     "base_uri": "https://localhost:8080/"
    },
    "id": "UnWteJBlI1Ze",
    "outputId": "aaa62a13-6be0-4acc-842f-ce40f0eb97fe"
   },
   "outputs": [
    {
     "name": "stdout",
     "output_type": "stream",
     "text": [
      "RMSE for random forest: 1.533848\n"
     ]
    }
   ],
   "source": [
    "import numpy as np\n",
    "from sklearn.metrics import mean_squared_error\n",
    "rmse = np.sqrt(mean_squared_error(y_test, predictions))\n",
    "print(\"RMSE for random forest: %f\" % (rmse))"
   ]
  },
  {
   "cell_type": "code",
   "execution_count": 43,
   "metadata": {
    "colab": {
     "base_uri": "https://localhost:8080/"
    },
    "id": "KG58BomQ3Boo",
    "outputId": "fe3065e5-8c20-4ce4-a7e3-19577bd85335"
   },
   "outputs": [
    {
     "name": "stderr",
     "output_type": "stream",
     "text": [
      "/home/salim/VG-Sales/env/lib/python3.8/site-packages/xgboost/compat.py:36: FutureWarning: pandas.Int64Index is deprecated and will be removed from pandas in a future version. Use pandas.Index with the appropriate dtype instead.\n",
      "  from pandas import MultiIndex, Int64Index\n",
      "/home/salim/VG-Sales/env/lib/python3.8/site-packages/xgboost/data.py:262: FutureWarning: pandas.Int64Index is deprecated and will be removed from pandas in a future version. Use pandas.Index with the appropriate dtype instead.\n",
      "  elif isinstance(data.columns, (pd.Int64Index, pd.RangeIndex)):\n"
     ]
    }
   ],
   "source": [
    "import xgboost as xgb\n",
    "from sklearn.metrics import mean_squared_error\n",
    "import pandas as pd\n",
    "import numpy as np\n",
    "#data_dmatrix = xgb.DMatrix(data=X,label=y)\n",
    "\"\"\"xg_reg = xgb.XGBRegressor(objective ='reg:linear', colsample_bytree = 0.3, learning_rate = 0.1,\n",
    "                max_depth = 5, alpha = 10, n_estimators = 10)\"\"\"\n",
    "xg_reg = xgb.XGBRegressor()\n",
    "xg_reg.fit(x_train,y_train)\n",
    "\n",
    "preds = xg_reg.predict(x_test)\n",
    "\n"
   ]
  },
  {
   "cell_type": "code",
   "execution_count": 44,
   "metadata": {
    "colab": {
     "base_uri": "https://localhost:8080/"
    },
    "id": "X1bmup5q34ff",
    "outputId": "55c08684-1299-4b31-e80a-da4b8c953367"
   },
   "outputs": [
    {
     "name": "stdout",
     "output_type": "stream",
     "text": [
      "RMSE xgboost 1.520158\n"
     ]
    }
   ],
   "source": [
    "rmse = np.sqrt(mean_squared_error(y_test, preds))\n",
    "print(\"RMSE xgboost %f\" % (rmse))\n"
   ]
  },
  {
   "cell_type": "code",
   "execution_count": 45,
   "metadata": {
    "colab": {
     "base_uri": "https://localhost:8080/"
    },
    "id": "Ls50ts0hNgZE",
    "outputId": "6e3456c8-a189-4549-da84-f5ab58631324"
   },
   "outputs": [],
   "source": [
    "filename = 'total_model.h5'\n",
    "xg_reg.save_model('total_model.json')"
   ]
  },
  {
   "cell_type": "code",
   "execution_count": 46,
   "metadata": {
    "colab": {
     "base_uri": "https://localhost:8080/",
     "height": 286
    },
    "id": "YWTVTd9Y4Nyd",
    "outputId": "2a7f94b1-26de-414b-e3f5-78f2f9f9ac0a"
   },
   "outputs": [
    {
     "data": {
      "text/plain": [
       "[<matplotlib.lines.Line2D at 0x7fe3034d3a90>]"
      ]
     },
     "execution_count": 46,
     "metadata": {},
     "output_type": "execute_result"
    },
    {
     "data": {
      "image/png": "[encoded data removed]",
      "text/plain": [
       "<Figure size 432x288 with 1 Axes>"
      ]
     },
     "metadata": {
      "needs_background": "light"
     },
     "output_type": "display_data"
    }
   ],
   "source": [
    "plt.plot(t,y_test, 'r') # plotting t, a separately \n",
    "plt.plot(t,preds, 'b') # plotting t, b separately "
   ]
  },
  {
   "cell_type": "code",
   "execution_count": 47,
   "metadata": {
    "colab": {
     "base_uri": "https://localhost:8080/"
    },
    "id": "i8LG6hPV86Fj",
    "outputId": "906bb755-ac81-4e81-f7ea-a8ffd5433425"
   },
   "outputs": [
    {
     "data": {
      "text/plain": [
       "DecisionTreeRegressor(random_state=0)"
      ]
     },
     "execution_count": 47,
     "metadata": {},
     "output_type": "execute_result"
    }
   ],
   "source": [
    "from sklearn.tree import DecisionTreeRegressor\n",
    "from sklearn.datasets import make_regression\n",
    "#max_depth=2\n",
    "regressor = DecisionTreeRegressor(random_state=0)\n",
    "regressor.fit(x_train, y_train)\n"
   ]
  },
  {
   "cell_type": "code",
   "execution_count": 48,
   "metadata": {
    "id": "-hVPb30a9ghQ"
   },
   "outputs": [],
   "source": [
    "predictions2=regressor.predict(x_test)"
   ]
  },
  {
   "cell_type": "code",
   "execution_count": 49,
   "metadata": {
    "colab": {
     "base_uri": "https://localhost:8080/",
     "height": 282
    },
    "id": "vzn2lcNT9n_X",
    "outputId": "67152842-b17d-4259-adf5-4c7dc69bf054"
   },
   "outputs": [
    {
     "data": {
      "text/plain": [
       "[<matplotlib.lines.Line2D at 0x7fe303446d30>]"
      ]
     },
     "execution_count": 49,
     "metadata": {},
     "output_type": "execute_result"
    },
    {
     "data": {
      "image/png": "[encoded data removed]",
      "text/plain": [
       "<Figure size 432x288 with 1 Axes>"
      ]
     },
     "metadata": {
      "needs_background": "light"
     },
     "output_type": "display_data"
    }
   ],
   "source": [
    "plt.plot(t,y_test, 'r') # plotting t, a separately \n",
    "plt.plot(t,predictions2, 'b') # plotting t, b separately "
   ]
  },
  {
   "cell_type": "code",
   "execution_count": 50,
   "metadata": {
    "colab": {
     "base_uri": "https://localhost:8080/"
    },
    "id": "GU3JzzcwJ4Uy",
    "outputId": "1d702322-ab83-4f0d-d65a-698a98242fc8"
   },
   "outputs": [
    {
     "name": "stdout",
     "output_type": "stream",
     "text": [
      "RMSE: 1.940587\n"
     ]
    }
   ],
   "source": [
    "rmse = np.sqrt(mean_squared_error(y_test, predictions2))\n",
    "print(\"RMSE: %f\" % (rmse))"
   ]
  },
  {
   "cell_type": "markdown",
   "metadata": {
    "id": "yXz2-ig4QuKd"
   },
   "source": [
    "**the random forest is the best model here**"
   ]
  },
  {
   "cell_type": "markdown",
   "metadata": {
    "id": "i5tnqcuhRH80"
   },
   "source": [
    "## model for europe sales"
   ]
  },
  {
   "cell_type": "code",
   "execution_count": 51,
   "metadata": {
    "colab": {
     "base_uri": "https://localhost:8080/"
    },
    "id": "Df2E6GgnQs3a",
    "outputId": "04963add-e562-4c90-d9a5-77ece46db8dc"
   },
   "outputs": [
    {
     "data": {
      "text/plain": [
       "RandomForestRegressor(random_state=0)"
      ]
     },
     "execution_count": 51,
     "metadata": {},
     "output_type": "execute_result"
    }
   ],
   "source": [
    "y=g['EU_Sales']\n",
    "from sklearn.model_selection import train_test_split\n",
    "x_train,x_test,y_train,y_test = train_test_split(x,y,test_size=0.2, random_state=42)\n",
    "#max_depth=2\n",
    "regr_EU = RandomForestRegressor(random_state=0)\n",
    "regr_EU.fit(x_train, y_train)"
   ]
  },
  {
   "cell_type": "code",
   "execution_count": 52,
   "metadata": {
    "id": "vUps1tU-RiEa"
   },
   "outputs": [],
   "source": [
    "predictions=regr_EU.predict(x_test)"
   ]
  },
  {
   "cell_type": "code",
   "execution_count": 53,
   "metadata": {
    "colab": {
     "base_uri": "https://localhost:8080/",
     "height": 282
    },
    "id": "6sMTdFR9RjFn",
    "outputId": "c1df3485-3525-438b-d2cd-711fdd7f0447"
   },
   "outputs": [
    {
     "data": {
      "text/plain": [
       "[<matplotlib.lines.Line2D at 0x7fe3033c7280>]"
      ]
     },
     "execution_count": 53,
     "metadata": {},
     "output_type": "execute_result"
    },
    {
     "data": {
      "image/png": "[encoded data removed]",
      "text/plain": [
       "<Figure size 432x288 with 1 Axes>"
      ]
     },
     "metadata": {
      "needs_background": "light"
     },
     "output_type": "display_data"
    }
   ],
   "source": [
    "t=range(len(y_test))\n",
    "plt.plot(t,y_test, 'r') # plotting t, a separately \n",
    "plt.plot(t,predictions, 'b') # plotting t, b separately "
   ]
  },
  {
   "cell_type": "code",
   "execution_count": 54,
   "metadata": {
    "colab": {
     "base_uri": "https://localhost:8080/"
    },
    "id": "tBcvQUGJR-_v",
    "outputId": "3ff8051f-49fc-42a3-a1b5-b48b8d14acb3"
   },
   "outputs": [
    {
     "name": "stdout",
     "output_type": "stream",
     "text": [
      "RMSE for random forest: 0.588116\n"
     ]
    }
   ],
   "source": [
    "rmse = np.sqrt(mean_squared_error(y_test, predictions))\n",
    "print(\"RMSE for random forest: %f\" % (rmse))"
   ]
  },
  {
   "cell_type": "code",
   "execution_count": 55,
   "metadata": {
    "colab": {
     "base_uri": "https://localhost:8080/"
    },
    "id": "PBpVuP6tN1EE",
    "outputId": "9783b3cd-6479-4902-9d71-2588b72954fe"
   },
   "outputs": [
    {
     "data": {
      "text/plain": [
       "['app/models/europe_model.h5']"
      ]
     },
     "execution_count": 55,
     "metadata": {},
     "output_type": "execute_result"
    }
   ],
   "source": [
    "filename = 'app/models/europe_model.h5'\n",
    "joblib.dump(regr_EU, filename)"
   ]
  },
  {
   "cell_type": "markdown",
   "metadata": {
    "id": "GeI6UpIPSZ6G"
   },
   "source": [
    "##model for north america"
   ]
  },
  {
   "cell_type": "code",
   "execution_count": 56,
   "metadata": {
    "colab": {
     "base_uri": "https://localhost:8080/"
    },
    "id": "axZyGDbuSefk",
    "outputId": "84804a78-7e1c-4ff1-fcb1-8d3eca1ded6a"
   },
   "outputs": [
    {
     "data": {
      "text/plain": [
       "RandomForestRegressor(random_state=0)"
      ]
     },
     "execution_count": 56,
     "metadata": {},
     "output_type": "execute_result"
    }
   ],
   "source": [
    "y=g['NA_Sales']\n",
    "from sklearn.model_selection import train_test_split\n",
    "x_train,x_test,y_train,y_test = train_test_split(x,y,test_size=0.2, random_state=42)\n",
    "#max_depth=2\n",
    "regr_NA = RandomForestRegressor(random_state=0)\n",
    "regr_NA.fit(x_train, y_train)"
   ]
  },
  {
   "cell_type": "code",
   "execution_count": 57,
   "metadata": {
    "colab": {
     "base_uri": "https://localhost:8080/"
    },
    "id": "JB8lYrfeOKOn",
    "outputId": "bb962f5d-b7da-4b48-9b1d-1607c9bc490b"
   },
   "outputs": [
    {
     "data": {
      "text/plain": [
       "['app/models/NA_model.h5']"
      ]
     },
     "execution_count": 57,
     "metadata": {},
     "output_type": "execute_result"
    }
   ],
   "source": [
    "filename = 'app/models/NA_model.h5'\n",
    "joblib.dump(regr_NA, filename)"
   ]
  },
  {
   "cell_type": "code",
   "execution_count": 58,
   "metadata": {
    "id": "_HiYb79YSmrn"
   },
   "outputs": [],
   "source": [
    "predictions=regr_NA.predict(x_test)"
   ]
  },
  {
   "cell_type": "code",
   "execution_count": 59,
   "metadata": {},
   "outputs": [
    {
     "name": "stderr",
     "output_type": "stream",
     "text": [
      "/home/salim/VG-Sales/env/lib/python3.8/site-packages/sklearn/base.py:450: UserWarning: X does not have valid feature names, but RandomForestRegressor was fitted with feature names\n",
      "  warnings.warn(\n"
     ]
    }
   ],
   "source": [
    "critic_score, platform, genre, rating = 70,[],[],[]\n",
    "for i in range(17):\n",
    "    platform.append(0)\n",
    "\n",
    "for i in range(12):\n",
    "    genre.append(0)\n",
    "\n",
    "for i in range(7):\n",
    "    rating.append(0)\n",
    "\n",
    "platform[7] = 1\n",
    "genre[3] = 1\n",
    "rating[2] = 1\n",
    "\n",
    "example = [[critic_score] + platform + genre + rating ]\n",
    "yyyy = regr.predict(example)"
   ]
  },
  {
   "cell_type": "code",
   "execution_count": 60,
   "metadata": {},
   "outputs": [
    {
     "data": {
      "text/plain": [
       "array([1.00871])"
      ]
     },
     "execution_count": 60,
     "metadata": {},
     "output_type": "execute_result"
    }
   ],
   "source": [
    "yyyy"
   ]
  },
  {
   "cell_type": "code",
   "execution_count": 61,
   "metadata": {
    "colab": {
     "base_uri": "https://localhost:8080/",
     "height": 286
    },
    "id": "_yx4BZkhSrL5",
    "outputId": "e4ec771c-fa52-462e-cf2f-d937692866eb"
   },
   "outputs": [
    {
     "data": {
      "text/plain": [
       "[<matplotlib.lines.Line2D at 0x7fe2e86fd910>]"
      ]
     },
     "execution_count": 61,
     "metadata": {},
     "output_type": "execute_result"
    },
    {
     "data": {
      "image/png": "[encoded data removed]",
      "text/plain": [
       "<Figure size 432x288 with 1 Axes>"
      ]
     },
     "metadata": {
      "needs_background": "light"
     },
     "output_type": "display_data"
    }
   ],
   "source": [
    "t=range(len(y_test))\n",
    "plt.plot(t,y_test, 'r') # plotting t, a separately \n",
    "plt.plot(t,predictions, 'b') # plotting t, b separately "
   ]
  },
  {
   "cell_type": "code",
   "execution_count": 62,
   "metadata": {
    "colab": {
     "base_uri": "https://localhost:8080/"
    },
    "id": "JWaLCYjoSxg4",
    "outputId": "d5c87283-6829-4226-b1ce-a20773ccdf14"
   },
   "outputs": [
    {
     "name": "stdout",
     "output_type": "stream",
     "text": [
      "RMSE for random forest: 0.755837\n"
     ]
    }
   ],
   "source": [
    "rmse = np.sqrt(mean_squared_error(y_test, predictions))\n",
    "print(\"RMSE for random forest: %f\" % (rmse))"
   ]
  },
  {
   "cell_type": "markdown",
   "metadata": {
    "id": "p8Avf2v5THw1"
   },
   "source": [
    "##model for Japan"
   ]
  },
  {
   "cell_type": "code",
   "execution_count": 63,
   "metadata": {
    "colab": {
     "base_uri": "https://localhost:8080/"
    },
    "id": "tMDqbFM3TPfe",
    "outputId": "7df62241-070d-4dea-d7bb-7a770a15d009"
   },
   "outputs": [
    {
     "data": {
      "text/plain": [
       "RandomForestRegressor(random_state=0)"
      ]
     },
     "execution_count": 63,
     "metadata": {},
     "output_type": "execute_result"
    }
   ],
   "source": [
    "y=g['JP_Sales']\n",
    "from sklearn.model_selection import train_test_split\n",
    "x_train,x_test,y_train,y_test = train_test_split(x,y,test_size=0.2, random_state=42)\n",
    "#max_depth=2\n",
    "regr_JP = RandomForestRegressor(random_state=0)\n",
    "regr_JP.fit(x_train, y_train)"
   ]
  },
  {
   "cell_type": "code",
   "execution_count": 64,
   "metadata": {
    "id": "HIoD09WmTXUQ"
   },
   "outputs": [],
   "source": [
    "predictions=regr_JP.predict(x_test)"
   ]
  },
  {
   "cell_type": "code",
   "execution_count": 65,
   "metadata": {
    "colab": {
     "base_uri": "https://localhost:8080/",
     "height": 282
    },
    "id": "iC54gqESTbmu",
    "outputId": "b4d25546-12cd-4c55-ad62-9a4ad056f3a2"
   },
   "outputs": [
    {
     "data": {
      "text/plain": [
       "[<matplotlib.lines.Line2D at 0x7fe2e867b580>]"
      ]
     },
     "execution_count": 65,
     "metadata": {},
     "output_type": "execute_result"
    },
    {
     "data": {
      "image/png": "[encoded data removed]",
      "text/plain": [
       "<Figure size 432x288 with 1 Axes>"
      ]
     },
     "metadata": {
      "needs_background": "light"
     },
     "output_type": "display_data"
    }
   ],
   "source": [
    "t=range(len(y_test))\n",
    "plt.plot(t,y_test, 'r') # plotting t, a separately \n",
    "plt.plot(t,predictions, 'b') # plotting t, b separately "
   ]
  },
  {
   "cell_type": "code",
   "execution_count": 66,
   "metadata": {
    "colab": {
     "base_uri": "https://localhost:8080/"
    },
    "id": "KWuG5nxFTeyE",
    "outputId": "ba7b48c6-7889-47b1-f559-3146dfb8c51e"
   },
   "outputs": [
    {
     "name": "stdout",
     "output_type": "stream",
     "text": [
      "RMSE for random forest: 0.265548\n"
     ]
    }
   ],
   "source": [
    "rmse = np.sqrt(mean_squared_error(y_test, predictions))\n",
    "print(\"RMSE for random forest: %f\" % (rmse))"
   ]
  },
  {
   "cell_type": "code",
   "execution_count": 67,
   "metadata": {
    "colab": {
     "base_uri": "https://localhost:8080/"
    },
    "id": "stBfEpCAOccv",
    "outputId": "1e4216bc-8663-4026-facf-cc0806f10325"
   },
   "outputs": [
    {
     "data": {
      "text/plain": [
       "['app/models/japan_model.h5']"
      ]
     },
     "execution_count": 67,
     "metadata": {},
     "output_type": "execute_result"
    }
   ],
   "source": [
    "filename = 'app/models/japan_model.h5'\n",
    "joblib.dump(regr_JP, filename)"
   ]
  },
  {
   "cell_type": "markdown",
   "metadata": {
    "id": "njfwrv-HT5ci"
   },
   "source": []
  },
  {
   "cell_type": "code",
   "execution_count": 68,
   "metadata": {
    "colab": {
     "base_uri": "https://localhost:8080/"
    },
    "id": "BOSPlFU1T5_x",
    "outputId": "ef766b8d-2ea9-4d30-e040-c10bc3d13078"
   },
   "outputs": [
    {
     "data": {
      "text/plain": [
       "RandomForestRegressor(random_state=0)"
      ]
     },
     "execution_count": 68,
     "metadata": {},
     "output_type": "execute_result"
    }
   ],
   "source": [
    "y=g['Other_Sales']\n",
    "from sklearn.model_selection import train_test_split\n",
    "x_train,x_test,y_train,y_test = train_test_split(x,y,test_size=0.2, random_state=42)\n",
    "#max_depth=2\n",
    "regr_Other = RandomForestRegressor(random_state=0)\n",
    "regr_Other.fit(x_train, y_train)"
   ]
  },
  {
   "cell_type": "code",
   "execution_count": 69,
   "metadata": {
    "id": "Dc9mjLqeUNnq"
   },
   "outputs": [],
   "source": [
    "predictions=regr_Other.predict(x_test)"
   ]
  },
  {
   "cell_type": "code",
   "execution_count": 70,
   "metadata": {
    "colab": {
     "base_uri": "https://localhost:8080/",
     "height": 282
    },
    "id": "il6OR0BgUSGF",
    "outputId": "11d342d4-d638-40e1-f99b-de81cba4cb95"
   },
   "outputs": [
    {
     "data": {
      "text/plain": [
       "[<matplotlib.lines.Line2D at 0x7fe2e85f1730>]"
      ]
     },
     "execution_count": 70,
     "metadata": {},
     "output_type": "execute_result"
    },
    {
     "data": {
      "image/png": "[encoded data removed]",
      "text/plain": [
       "<Figure size 432x288 with 1 Axes>"
      ]
     },
     "metadata": {
      "needs_background": "light"
     },
     "output_type": "display_data"
    }
   ],
   "source": [
    "t=range(len(y_test))\n",
    "plt.plot(t,y_test, 'r') # plotting t, a separately \n",
    "plt.plot(t,predictions, 'b') # plotting t, b separately "
   ]
  },
  {
   "cell_type": "code",
   "execution_count": 71,
   "metadata": {
    "colab": {
     "base_uri": "https://localhost:8080/"
    },
    "id": "Syfj3anKUXLq",
    "outputId": "4625005c-341a-41d2-bc57-839a8a2f0ac4"
   },
   "outputs": [
    {
     "name": "stdout",
     "output_type": "stream",
     "text": [
      "RMSE for random forest: 0.227245\n"
     ]
    }
   ],
   "source": [
    "rmse = np.sqrt(mean_squared_error(y_test, predictions))\n",
    "print(\"RMSE for random forest: %f\" % (rmse))"
   ]
  },
  {
   "cell_type": "code",
   "execution_count": 72,
   "metadata": {
    "colab": {
     "base_uri": "https://localhost:8080/"
    },
    "id": "by-jxSAnOoao",
    "outputId": "b8635ba0-f2a4-467f-a196-cfac818cfd69"
   },
   "outputs": [
    {
     "data": {
      "text/plain": [
       "['app/models/other_model.h5']"
      ]
     },
     "execution_count": 72,
     "metadata": {},
     "output_type": "execute_result"
    }
   ],
   "source": [
    "filename = 'app/models/other_model.h5'\n",
    "joblib.dump(regr_Other, filename)"
   ]
  },
  {
   "cell_type": "code",
   "execution_count": null,
   "metadata": {},
   "outputs": [],
   "source": []
  }
 ],
 "metadata": {
  "colab": {
   "name": "Projet_IA.ipynb",
   "provenance": []
  },
  "kernelspec": {
   "display_name": "Python 3",
   "language": "python",
   "name": "python3"
  },
  "language_info": {
   "codemirror_mode": {
    "name": "ipython",
    "version": 3
   },
   "file_extension": ".py",
   "mimetype": "text/x-python",
   "name": "python",
   "nbconvert_exporter": "python",
   "pygments_lexer": "ipython3",
   "version": "3.8.10"
  }
 },
 "nbformat": 4,
 "nbformat_minor": 1
}
